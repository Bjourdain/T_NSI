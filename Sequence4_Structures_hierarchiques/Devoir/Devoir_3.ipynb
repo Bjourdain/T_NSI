{
 "cells": [
  {
   "cell_type": "markdown",
   "metadata": {},
   "source": [
    "# <center><font face=\"arial\" size=\"5\" color=#0101DF>NUMERIQUE ET SCIENCES INFORMATIQUES Terminale NSI</font></center>"
   ]
  },
  {
   "cell_type": "markdown",
   "metadata": {},
   "source": [
    "## <font color=#013ADF>Séquences N° 3 & 4 : Structures linéaires et hiérarchiques - Devoir</font>"
   ]
  },
  {
   "cell_type": "markdown",
   "metadata": {},
   "source": [
    "<div class=\"alert alert-danger\" role=\"alert\">\n",
    "    \n",
    "Vous allez implémenter une classe **Pile** selon l'interface proposée ci-dessus, utilisant l'objet built-in de python list.\n",
    "<div>"
   ]
  },
  {
   "cell_type": "markdown",
   "metadata": {},
   "source": [
    "<div class=\"alert alert-warning\">\n",
    "\n",
    "**1-** Quelle est la différence fondamentale entre une pile et une file ?"
   ]
  },
  {
   "cell_type": "raw",
   "metadata": {},
   "source": []
  },
  {
   "cell_type": "markdown",
   "metadata": {},
   "source": [
    "**TAD pile**\n",
    "\n",
    "Type : Pile\n",
    "\n",
    "Utilise : Donnée (de type chaîne de caractères), Booléen, Entier\n",
    "\n",
    "Opérations :\n",
    "    \n",
    "    est_vide : Pile → Booleen\n",
    "    \n",
    "    empiler : Pile → Donnée\n",
    "    \n",
    "    depiler : Pile → Donnée\n",
    "        \n",
    "    hauteur : Pile → Entier\n",
    "    \n",
    "    constructeur : → Pile\n",
    "   \n",
    "    \n",
    "Pré-conditions :\n",
    "\n",
    "    depiler(Pile) : ¬ est_vide(Pile)\n",
    "    hauteur(Pile) : ¬ est_vide(Pile)\n"
   ]
  },
  {
   "cell_type": "code",
   "execution_count": null,
   "metadata": {},
   "outputs": [],
   "source": [
    "class Pile :\n",
    "    def __init__(self):\n",
    "        '''\n",
    "        Constructeur permettant la création d'une pile vide\n",
    "        '''\n",
    "        pass\n",
    "\n",
    "    def est_vide(self) -> bool:\n",
    "        '''\n",
    "        Méthode permettant de tester si la pile est vide\n",
    "        et renvoie True si la pile est vide, False sinon\n",
    "        '''\n",
    "        pass\n",
    "\n",
    "    def empiler(self, donnee):\n",
    "        '''\n",
    "        Méthode permettant d'empiler \"donnee\" au sommet de la pile\n",
    "        argument donnee : donnée à empiler\n",
    "        '''\n",
    "        pass\n",
    "\n",
    "    def depiler(self)->str:\n",
    "        '''\n",
    "        Méthode permettant de dépiler l'élément au sommet de la pile\n",
    "        et renvoie la donnée au sommet de la pile\n",
    "        '''\n",
    "        pass\n",
    "    \n",
    "    def hauteur(self):->int\n",
    "        '''\n",
    "        Méthode renvoyant la hauteur de la file\n",
    "        '''\n",
    "        pass"
   ]
  },
  {
   "cell_type": "markdown",
   "metadata": {},
   "source": [
    "<div class=\"alert alert-warning\">\n",
    "\n",
    "**2-** Définir une classe **Pile** implémentant l'interface **Pile** puis compléter le corps de la méthode spéciale `__repr__` pour obtenir un affichage conforme à l'exemple ci-dessous :\n",
    "\n",
    "\n",
    "*Exemple* : \n",
    "```python\n",
    "\n",
    "p = Pile()\n",
    "p.empiler('t')\n",
    "p.empiler('o')\n",
    "p.empiler('l')\n",
    "p.empiler('i')\n",
    "print(p)\n",
    "print(p.depiler())\n",
    "p.empiler('o')\n",
    "print(p.est_vide())\n",
    "print(p)\n",
    "print(p.hauteur())\n",
    "\n",
    "Donnera :\n",
    "\n",
    "Etat de la pile:\n",
    "|\t    i\t    |\n",
    "-----------------\n",
    "|\t    l\t    |\n",
    "-----------------\n",
    "|\t    o\t    |\n",
    "-----------------\n",
    "|\t    t\t    |\n",
    "-----------------\n",
    "i\n",
    "False\n",
    "\n",
    "Etat de la pile:\n",
    "|\t    o   \t|\n",
    "-----------------\n",
    "|    \tl\t    |\n",
    "-----------------\n",
    "|\t    o\t    |\n",
    "-----------------\n",
    "|\t    t\t    |\n",
    "-----------------\n",
    "\n",
    "4\n",
    "```\n",
    "<div>"
   ]
  },
  {
   "cell_type": "code",
   "execution_count": null,
   "metadata": {},
   "outputs": [],
   "source": []
  },
  {
   "cell_type": "markdown",
   "metadata": {},
   "source": [
    "<div class=\"alert alert-warning\">\n",
    "    \n",
    "**3-** Pour l'arbre suivant, indiquer :\n",
    "\n",
    "<img src=\"arbre_devoir.png\" alt=\"arbre\" width=40% align=center>\n",
    "    \n",
    "- La clé du noeud \"racine\" ;\n",
    "- La clé des noeuds \"feuille\" de l'arbre ;\n",
    "- Le prédécesseur du noeud H ;\n",
    "- Le successeur du noeud B ;\n",
    "- Sa taille ;\n",
    "- Sa hauteur ;\n",
    "- S'il s'agit d'un arbre binaire ?\n",
    "- Donner la liste des noeuds rencontrés dans un parcours :\n",
    "    - En largeur ;\n",
    "    - En profondeur :\n",
    "        - Parcours préfixe ;\n",
    "        - Parcours suffixe (ou postfixe) ;\n",
    "        - Parcours infixe\n",
    "<div>"
   ]
  },
  {
   "cell_type": "raw",
   "metadata": {},
   "source": []
  }
 ],
 "metadata": {
  "kernelspec": {
   "display_name": "Python 3",
   "language": "python",
   "name": "python3"
  },
  "language_info": {
   "codemirror_mode": {
    "name": "ipython",
    "version": 3
   },
   "file_extension": ".py",
   "mimetype": "text/x-python",
   "name": "python",
   "nbconvert_exporter": "python",
   "pygments_lexer": "ipython3",
   "version": "3.7.7"
  },
  "varInspector": {
   "cols": {
    "lenName": 16,
    "lenType": 16,
    "lenVar": 40
   },
   "kernels_config": {
    "python": {
     "delete_cmd_postfix": "",
     "delete_cmd_prefix": "del ",
     "library": "var_list.py",
     "varRefreshCmd": "print(var_dic_list())"
    },
    "r": {
     "delete_cmd_postfix": ") ",
     "delete_cmd_prefix": "rm(",
     "library": "var_list.r",
     "varRefreshCmd": "cat(var_dic_list()) "
    }
   },
   "types_to_exclude": [
    "module",
    "function",
    "builtin_function_or_method",
    "instance",
    "_Feature"
   ],
   "window_display": false
  }
 },
 "nbformat": 4,
 "nbformat_minor": 4
}
