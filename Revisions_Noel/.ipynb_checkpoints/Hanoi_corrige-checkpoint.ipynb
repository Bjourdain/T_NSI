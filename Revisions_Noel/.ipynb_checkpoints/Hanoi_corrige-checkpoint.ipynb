{
 "cells": [
  {
   "cell_type": "markdown",
   "metadata": {},
   "source": [
    "# <center><font face=\"arial\" size=\"5\" color=#0101DF>NUMERIQUE ET SCIENCES INFORMATIQUES Terminale NSI</font></center>"
   ]
  },
  {
   "cell_type": "markdown",
   "metadata": {},
   "source": [
    "## <font color=#013ADF>Séquence N° 1 : Récursivité</font>"
   ]
  },
  {
   "cell_type": "markdown",
   "metadata": {},
   "source": [
    "<div class=\"alert alert-danger\" role=\"alert\">\n",
    "    \n",
    "Les objectifs de cette séquence sont :\n",
    "\n",
    "- D'analysez le fonctionnement d'un programme récursif ;\n",
    "- Écrire un programme récursif.\n",
    "\n",
    "</div>"
   ]
  },
  {
   "cell_type": "markdown",
   "metadata": {},
   "source": [
    "### 1- Les tours de Hanoï"
   ]
  },
  {
   "cell_type": "markdown",
   "metadata": {},
   "source": [
    "<div class=\"alert alert-success\">\n",
    "\n",
    "<img src=\"Images/Hanoi.png\" alt=\"Les tours de Hanoï\" width=50% align=center>  \n",
    "    \n",
    "</div>"
   ]
  },
  {
   "cell_type": "markdown",
   "metadata": {},
   "source": [
    "### 2- Règles du jeu"
   ]
  },
  {
   "cell_type": "markdown",
   "metadata": {},
   "source": [
    "<div class=\"alert alert-success\">\n",
    "\n",
    "    \n",
    "Le but du jeu est de déplacer entièrement la pile initiale sur la dernière tige.\n",
    "\n",
    "– Le joueur ne doit bouger qu’un disque à la fois ;\n",
    "    \n",
    "– Seul un petit disque peut être placé sur un plus gros disque ;\n",
    "    \n",
    "https://www.youtube.com/watch?v=w_9P7icYh7Y\n",
    "    \n",
    "Différentes approches ou point de vue :\n",
    "\n",
    "https://www.youtube.com/watch?v=rOnRbPKvGQg\n",
    "    \n",
    "https://twitter.com/ikeikey/status/1333335232292872194\n",
    "    \n",
    "    \n",
    "Une explication détaillée sur Wikipédia (observer en particulier le graphe des tours pour passer de AAA à CCC)\n",
    "\n",
    "https://fr.wikipedia.org/wiki/Tours_de_Hano%C3%AF\n",
    "</div>"
   ]
  },
  {
   "cell_type": "markdown",
   "metadata": {},
   "source": [
    "<div class=\"alert alert-warning\">\n",
    "<img src=\"Images/CR.png\" alt=\"logo CR\" width=5% align=right>\n",
    "\n",
    "Travail à faire\n",
    "\n",
    "- Réaliser une fonction récursive implémentant les règles du jeu.\n",
    "\n",
    "</div>"
   ]
  },
  {
   "cell_type": "code",
   "execution_count": null,
   "metadata": {},
   "outputs": [],
   "source": [
    "def deplace_disque(n,d,a,i):\n",
    "    if n >= 1:\n",
    "        deplace_disque(n-1,d,i,a)\n",
    "        commentaire(d,a)\n",
    "        deplace_disque(n-1,i,a,d)\n",
    "\n",
    "def commentaire(de,vers):\n",
    "    print(f\"Déplace le disque {de} vers {vers}.\")\n",
    "\n",
    "deplace_disque(3,\"D\",\"A\",\"I\")"
   ]
  }
 ],
 "metadata": {
  "kernelspec": {
   "display_name": "Python 3",
   "language": "python",
   "name": "python3"
  },
  "language_info": {
   "codemirror_mode": {
    "name": "ipython",
    "version": 3
   },
   "file_extension": ".py",
   "mimetype": "text/x-python",
   "name": "python",
   "nbconvert_exporter": "python",
   "pygments_lexer": "ipython3",
   "version": "3.8.3"
  },
  "varInspector": {
   "cols": {
    "lenName": 16,
    "lenType": 16,
    "lenVar": 40
   },
   "kernels_config": {
    "python": {
     "delete_cmd_postfix": "",
     "delete_cmd_prefix": "del ",
     "library": "var_list.py",
     "varRefreshCmd": "print(var_dic_list())"
    },
    "r": {
     "delete_cmd_postfix": ") ",
     "delete_cmd_prefix": "rm(",
     "library": "var_list.r",
     "varRefreshCmd": "cat(var_dic_list()) "
    }
   },
   "types_to_exclude": [
    "module",
    "function",
    "builtin_function_or_method",
    "instance",
    "_Feature"
   ],
   "window_display": false
  }
 },
 "nbformat": 4,
 "nbformat_minor": 2
}
