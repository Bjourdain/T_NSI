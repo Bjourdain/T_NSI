{
 "cells": [
  {
   "cell_type": "code",
   "execution_count": null,
   "metadata": {},
   "outputs": [],
   "source": []
  },
  {
   "cell_type": "markdown",
   "metadata": {},
   "source": [
    "**C'est pas du CHOPIN mais presque !**"
   ]
  },
  {
   "cell_type": "markdown",
   "metadata": {},
   "source": [
    "Dans l'écriture usuelle des expressions algébriques, les parenthèses sont indispensables. Elles permettent par exemple de distinguer les expressions 1 + 2 x 3 et (1 + 2) x 3.\n",
    "\n",
    "Avec la notation préfixée (appelée aussi notation polonaise inverse, en référence à un mathématicien polonais, Jan Lukasiewic), les parenthèses ne sont plus nécessaires, ni aucune règle de priorité.\n",
    "\n",
    "Ainsi l'expression polonaise inverse décrite par la cahîne de caractères : '1 2 3 * + 4 *' désigne l'expression usuellement notée (1 + 2 x 3) x 4\n",
    "\n",
    "Pour évaluer cette expression, on observe un à un les éléments de l'expression et on effectue les actions suivantes :\n",
    "\n",
    "- si l'élément est un nombre, on le stocke dans une structure de donnée linéaire à définir.\n",
    "- Si l'élément est un opérateur, on on récupère les deux nombres dernièrement stockés, on leur applique l'opérateur, et on restocke le résultat.\n",
    "\n",
    "Écrire une telle fonction d'évaluation prenant en paramètre une liste d'entiers et d'opérateurs représentant une expression en notation polonaise inverse et renvoyant la valeur de cette expression. Si l'expression est mal écrite, on renverra une erreur.\n"
   ]
  },
  {
   "cell_type": "code",
   "execution_count": 11,
   "metadata": {},
   "outputs": [
    {
     "name": "stdout",
     "output_type": "stream",
     "text": [
      "\n",
      "Etat de la pile:\n",
      "|\t1\t|\n",
      "\n",
      "\n",
      "Etat de la pile:\n",
      "|\t2\t|\n",
      "|\t1\t|\n",
      "\n",
      "\n",
      "Etat de la pile:\n",
      "|\t3\t|\n",
      "|\t2\t|\n",
      "|\t1\t|\n",
      "\n",
      "\n",
      "Etat de la pile:\n",
      "|\t6\t|\n",
      "|\t1\t|\n",
      "\n",
      "\n",
      "Etat de la pile:\n",
      "|\t7\t|\n",
      "\n",
      "\n",
      "Etat de la pile:\n",
      "|\t4\t|\n",
      "|\t7\t|\n",
      "\n",
      "\n",
      "Etat de la pile:\n",
      "|\t28\t|\n",
      "\n",
      "28\n"
     ]
    }
   ],
   "source": [
    "class Noeud:\n",
    "\n",
    "    def __init__(self, valeur, suivant=None):\n",
    "        self.valeur = valeur\n",
    "        self.suivant = suivant\n",
    "\n",
    "\n",
    "\n",
    "class Pile:\n",
    "\n",
    "    def __init__(self):\n",
    "        self.taille = 0\n",
    "        self.sommet = None\n",
    "\n",
    "\n",
    "    def empiler(self, valeur):\n",
    "        self.sommet = Noeud(valeur, self.sommet)\n",
    "        self.taille += 1\n",
    "\n",
    "    def depiler(self):\n",
    "        if self.taille > 0:\n",
    "            valeur = self.sommet.valeur\n",
    "            self.sommet = self.sommet.suivant\n",
    "            self.taille -= 1\n",
    "            return valeur\n",
    "\n",
    "    def estVide(self):\n",
    "        return self.taille == 0\n",
    "\n",
    "\n",
    "\n",
    "    def __str__(self):\n",
    "        ch = \"\\nEtat de la pile:\\n\"\n",
    "        sommet = self.sommet\n",
    "        while sommet != None:\n",
    "            ch += \"|\\t\" + str(sommet.valeur) + \"\\t|\" + \"\\n\"\n",
    "            sommet = sommet.suivant\n",
    "        return ch\n",
    "\n",
    "\n",
    "\n",
    "\n",
    "\n",
    "\n",
    "def evaluation(expression:list)-> float:\n",
    "    pile = Pile()\n",
    "    for element in expression:\n",
    "        if isinstance(element, int):\n",
    "            pile.empiler(element)\n",
    "            print(pile)\n",
    "        else:\n",
    "            nb1 = pile.depiler()\n",
    "            nb2 = pile.depiler()\n",
    "            pile.empiler(eval(str(nb1) + element + str(nb2)))\n",
    "            print(pile)\n",
    "    return pile.depiler()\n",
    "\n",
    "\n",
    "#r = evaluation([6,3,4,2,10,'/','-','*','+'])\n",
    "r=evaluation([1,2,3,'*','+',4,'*'])\n",
    "print(r)"
   ]
  },
  {
   "cell_type": "markdown",
   "metadata": {},
   "source": [
    "Le problème de Josèphe. "
   ]
  },
  {
   "cell_type": "markdown",
   "metadata": {},
   "source": [
    "On place en cercle les joueurs. On décide d'un joueur point de départ. Puis on compte 7 joueurs en partant du premier et on élimine le 7ème. On compte ensuite 7 joueurs en partant du suivant et on élimine...etc. Le problème est de prévoir le gagnant.\n",
    "\n",
    "Illustration avec 5 joueurs et un compte de 3 en 3:\n",
    "jeu\n",
    "\n",
    "    On compte 3 à partir du joueur A. Et on élimine le numéro 3:\n",
    "    jeu\n",
    "    On compte 3 à partir du joueur D. Et on élimine le numéro 3:\n",
    "    jeu\n",
    "    On compte 3. Et on élimine le numéro 3:\n",
    "    jeu\n",
    "    On compte 3. Et on élimine le numéro 3:\n",
    "    jeu\n",
    "\n",
    "Le joueur D est le gagnant.\n",
    "\n",
    "Proposer une fonction prenant en paramètres la liste des joueurs et le module (dans l'exemple, le module est 3) et qui renvoie le gagnant"
   ]
  },
  {
   "cell_type": "code",
   "execution_count": 12,
   "metadata": {},
   "outputs": [
    {
     "name": "stdout",
     "output_type": "stream",
     "text": [
      "Damien\n"
     ]
    }
   ],
   "source": [
    "class Maillon:\n",
    "\n",
    "\tdef __init__(self, valeur, precedent=None, suivant=None):\n",
    "\t\tself.valeur = valeur\n",
    "\t\tself.precedent = precedent\n",
    "\t\tself.suivant = suivant\n",
    "\n",
    "\n",
    "\n",
    "\n",
    "class File:\n",
    "\n",
    "\tdef __init__(self):\n",
    "\t\tself.longueur = 0\n",
    "\t\tself.debut = None\n",
    "\t\tself.fin = None\n",
    "\n",
    "\tdef enfiler(self, valeur):\n",
    "\t\tif self.longueur == 0:\n",
    "\t\t\tself.debut = self.fin = Maillon(valeur)\n",
    "\t\telse:\n",
    "\t\t\tself.fin = Maillon(valeur, self.fin)\n",
    "\t\t\tself.fin.precedent.suivant = self.fin\n",
    "\t\tself.longueur += 1\n",
    "\n",
    "\n",
    "\tdef defiler(self):\n",
    "\t\tif self.longueur > 0:\n",
    "\t\t\tvaleur = self.debut.valeur\n",
    "\t\t\tif self.longueur > 1:\n",
    "\t\t\t\tself.debut = self.debut.suivant\n",
    "\t\t\t\tself.debut.precedent = None\n",
    "\t\t\telse:\n",
    "\t\t\t\tself.debut = self.fin = None\n",
    "\t\t\tself.longueur -= 1\n",
    "\t\treturn valeur\n",
    "\n",
    "\n",
    "\tdef estVide(self):\n",
    "\t\treturn self.longueur == 0\n",
    "\n",
    "\n",
    "\n",
    "\n",
    "\tdef __str__(self):\n",
    "\t\tch = \"\\nEtat de la file:\\n\"\n",
    "\t\tmaillon = self.debut\n",
    "\t\twhile maillon != None:\n",
    "\t\t\tch +=  str(maillon.valeur) + \" \"\n",
    "\t\t\tmaillon = maillon.suivant\n",
    "\t\treturn ch\n",
    "\n",
    "\n",
    "\n",
    "\n",
    "def josephe(listePersonnes, module):\n",
    "\tf = File()\n",
    "\tfor personne in listePersonnes:\n",
    "\t\tf.enfiler(personne)\n",
    "\n",
    "\twhile not(f.estVide()):\n",
    "\t\tfor _ in range(module-1):\n",
    "\t\t\tf.enfiler(f.defiler())\n",
    "\t\tp = f.defiler()\n",
    "\n",
    "\treturn p\n",
    "\n",
    "\n",
    "print(josephe( ['Antoine', 'Béatrice', 'Camille', 'Damien', 'Emile'], 3))"
   ]
  },
  {
   "cell_type": "code",
   "execution_count": null,
   "metadata": {},
   "outputs": [],
   "source": []
  }
 ],
 "metadata": {
  "kernelspec": {
   "display_name": "Python 3",
   "language": "python",
   "name": "python3"
  },
  "language_info": {
   "codemirror_mode": {
    "name": "ipython",
    "version": 3
   },
   "file_extension": ".py",
   "mimetype": "text/x-python",
   "name": "python",
   "nbconvert_exporter": "python",
   "pygments_lexer": "ipython3",
   "version": "3.8.3"
  },
  "varInspector": {
   "cols": {
    "lenName": 16,
    "lenType": 16,
    "lenVar": 40
   },
   "kernels_config": {
    "python": {
     "delete_cmd_postfix": "",
     "delete_cmd_prefix": "del ",
     "library": "var_list.py",
     "varRefreshCmd": "print(var_dic_list())"
    },
    "r": {
     "delete_cmd_postfix": ") ",
     "delete_cmd_prefix": "rm(",
     "library": "var_list.r",
     "varRefreshCmd": "cat(var_dic_list()) "
    }
   },
   "types_to_exclude": [
    "module",
    "function",
    "builtin_function_or_method",
    "instance",
    "_Feature"
   ],
   "window_display": false
  }
 },
 "nbformat": 4,
 "nbformat_minor": 4
}
