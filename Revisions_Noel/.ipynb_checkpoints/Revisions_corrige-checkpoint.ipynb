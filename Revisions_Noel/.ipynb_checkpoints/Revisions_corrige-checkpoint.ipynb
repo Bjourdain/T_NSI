{
 "cells": [
  {
   "cell_type": "markdown",
   "metadata": {},
   "source": [
    "# <center><font face=\"arial\" size=\"5\" color=#0101DF>NUMERIQUE ET SCIENCES INFORMATIQUES Terminale NSI</font></center>"
   ]
  },
  {
   "cell_type": "markdown",
   "metadata": {},
   "source": [
    "## <font color=#013ADF>Révisions</font>"
   ]
  },
  {
   "cell_type": "markdown",
   "metadata": {},
   "source": [
    "Les exercices ne sont pas classés par ordre de difficultés."
   ]
  },
  {
   "cell_type": "markdown",
   "metadata": {},
   "source": [
    "### 1- Les tours de Hanoï"
   ]
  },
  {
   "cell_type": "markdown",
   "metadata": {},
   "source": [
    "<div class=\"alert alert-success\">\n",
    "\n",
    "<img src=\"Images/Hanoi.png\" alt=\"Les tours de Hanoï\" width=50% align=center>  \n",
    "    \n",
    "</div>"
   ]
  },
  {
   "cell_type": "markdown",
   "metadata": {},
   "source": [
    "<div class=\"alert alert-success\">\n",
    "\n",
    "    \n",
    "Le but du jeu est de déplacer entièrement la pile initiale sur la dernière tige.\n",
    "\n",
    "– Le joueur ne doit bouger qu’un disque à la fois ;\n",
    "    \n",
    "– Seul un petit disque peut être placé sur un plus gros disque ;\n",
    "    \n",
    "https://www.youtube.com/watch?v=w_9P7icYh7Y\n",
    "    \n",
    "Différentes approches ou point de vue :\n",
    "\n",
    "https://www.youtube.com/watch?v=rOnRbPKvGQg\n",
    "    \n",
    "https://twitter.com/ikeikey/status/1333335232292872194\n",
    "    \n",
    "Une explication détaillée sur Wikipédia (observer en particulier le graphe des tours pour passer de AAA à CCC)\n",
    "\n",
    "https://fr.wikipedia.org/wiki/Tours_de_Hano%C3%AF\n",
    "</div>"
   ]
  },
  {
   "cell_type": "markdown",
   "metadata": {},
   "source": [
    "<div class=\"alert alert-warning\">\n",
    "<img src=\"Images/CR.png\" alt=\"logo CR\" width=5% align=right>\n",
    "\n",
    "Travail à faire\n",
    "\n",
    "- Réaliser une fonction récursive implémentant les règles du jeu.\n",
    "\n",
    "</div>"
   ]
  },
  {
   "cell_type": "code",
   "execution_count": null,
   "metadata": {},
   "outputs": [],
   "source": [
    "def deplace_disque(n,d,a,i):\n",
    "    if n >= 1:\n",
    "        deplace_disque(n-1,d,i,a)\n",
    "        commentaire(d,a)\n",
    "        deplace_disque(n-1,i,a,d)\n",
    "\n",
    "def commentaire(de,vers):\n",
    "    print(f\"Déplace le disque {de} vers {vers}.\")\n",
    "\n",
    "deplace_disque(3,\"D\",\"A\",\"I\")"
   ]
  },
  {
   "cell_type": "markdown",
   "metadata": {},
   "source": [
    "### 2- Réaliser une file avec deux piles"
   ]
  },
  {
   "cell_type": "markdown",
   "metadata": {},
   "source": [
    "<div class=\"alert alert-success\">\n",
    "Le principe est simple :\n",
    "\n",
    "- Lorsqu'on veut enfiler un élément dans la file abstraite, on dépose en réalité l'élément dans une structure de données pile qu'on nommera pile_entree.\n",
    "- Lorsqu'on veut défiler un élément de la file abstraite, on va chercher en réalité le sommet d'une structure de données pile qu'on nommera pile_sortie.\n",
    "\n",
    "<img src=\"Images/file2piles.png\" alt=\"Une file avec 2 piles\" width=50% align=center>  \n",
    "\n",
    "Comment faire ?\n",
    "    \n",
    "Lorsqu'on veut défiler les données de la file, deux cas se présentent :\n",
    "\n",
    "- Si la pile de sortie est vide, on dépile l'intégralité de la pile d'entree dans la pile de sortie : cela va permettre d'inverser les positions respectives du premier arrivé et du dernier arrivé de la pile d'entree.\n",
    "- Si la pile de sortie n'est pas vide, on dépile juste la pile de sortie.\n",
    "</div>"
   ]
  },
  {
   "cell_type": "markdown",
   "metadata": {},
   "source": [
    "<div class=\"alert alert-warning\">\n",
    "<img src=\"Images/CR.png\" alt=\"logo CR\" width=5% align=right>\n",
    "\n",
    "Travail à faire\n",
    "\n",
    "- Réaliser une fonction implémentant cette file abstraite ;\n",
    "- Placer des vérifications sur les pré et postconditions (assertion), ainsi que des tests unitaires (doctest);\n",
    "\n",
    "</div>"
   ]
  },
  {
   "cell_type": "code",
   "execution_count": null,
   "metadata": {},
   "outputs": [],
   "source": [
    "class Elt :\n",
    "    '''Juste pour pouvoir noter Elt dans les prototypes'''\n",
    " \n",
    "class Pile :\n",
    "    '''Juste pour pouvoir noter Pile dans les prototypes'''\n",
    " \n",
    "class File :\n",
    "    '''Juste pour pouvoir noter File dans les prototypes'''\n",
    " \n",
    "'''Implémentation de type abstrait Pile en utilisant des tuples (sommet, autre_pile)'''\n",
    " \n",
    "def nouvellePile() -> Pile :\n",
    "    '''Renvoie une liste vide'''\n",
    "    return ()\n",
    " \n",
    "def pileVide(p:Pile) -> bool :\n",
    "    '''Renvoie True si la pile est vide'''\n",
    "    return p == ()\n",
    " \n",
    "def empiler(elt:Elt, p:Pile) -> Pile :\n",
    "    '''Renvoie une nouvelle pile où elt est le sommet et pile la suite de notre nouvelle pile.'''\n",
    "    return (elt, p)\n",
    " \n",
    "def lireSommet(p:Pile) -> Elt :\n",
    "    '''Renvoie la valeur stockée au sommet, sans la supprimer de la pile'''\n",
    "    if not pileVide(p)  :\n",
    "        return p[0]\n",
    " \n",
    "def depiler(p:Pile) -> Pile :\n",
    "    '''Renvoie une nouvelle pile où on a supprimé l'ancien sommet'''\n",
    "    if pileVide(p): # la liste envoyée est ()\n",
    "        return nouvellePile()\n",
    "    else :\n",
    "        return p[1]\n",
    " \n",
    "# Fonction de l'implémentation FILE hors Interface\n",
    " \n",
    "def deverser(f:File) -> None :\n",
    "    while not pileVide(f[0]) :\n",
    "        element = lireSommet(f[0])\n",
    "        f[0] = depiler(f[0])\n",
    "        f[1] = empiler(element, f[1])\n",
    " \n",
    "# Fonctions d'interface de la FILE\n",
    " \n",
    "def nouvelleFile() -> File :\n",
    "    pileEntree = nouvellePile() # inputStack en anglais\n",
    "    pileSortie = nouvellePile() # outputStack en anglais\n",
    "    return [pileEntree, pileSortie]\n",
    " \n",
    "def fileVide(f:File) -> None :\n",
    "    return pileVide(f[0]) and pileVide(f[1])\n",
    " \n",
    "def enfiler(elt:Elt, f:File) -> None:\n",
    "    f[0] = empiler(elt, f[0])\n",
    " \n",
    "def defiler(f:File) -> Elt:\n",
    "    if not fileVide(f):\n",
    "        if pileVide(f[1]) :\n",
    "            deverser(f)\n",
    "        valeur = lireSommet(f[1])\n",
    "        f[1] = depiler(f[1])\n",
    "        return valeur\n",
    " \n",
    "def lireAvant(f:File) -> Elt :\n",
    "    if not fileVide(f):\n",
    "        if pileVide(f[1]) :\n",
    "            deverser(f)\n",
    "        return lireSommet(f[1])\n"
   ]
  },
  {
   "cell_type": "markdown",
   "metadata": {},
   "source": [
    "### 3- Calculatrice polonaise inverse"
   ]
  },
  {
   "cell_type": "markdown",
   "metadata": {},
   "source": [
    "<div class=\"alert alert-success\">\n",
    "Dans l'écriture usuelle des expressions algébriques, les parenthèses sont indispensables. Elles permettent par exemple de distinguer les expressions 1 + 2 x 3 et (1 + 2) x 3.\n",
    "\n",
    "Avec la notation préfixée (appelée aussi notation polonaise inverse, en référence à un mathématicien polonais, Jan Lukasiewic), les parenthèses ne sont plus nécessaires, ni aucune règle de priorité.\n",
    "\n",
    "Ainsi l'expression polonaise inverse décrite par la chaîne de caractères : '1 2 3 * + 4 *' désigne l'expression usuellement notée (1 + 2 x 3) x 4\n",
    "\n",
    "Pour évaluer cette expression, on observe un à un les éléments de l'expression et on effectue les actions suivantes :\n",
    "\n",
    "- si l'élément est un nombre, on le stocke dans une structure de donnée linéaire à définir.\n",
    "- Si l'élément est un opérateur, on on récupère les deux nombres dernièrement stockés, on leur applique l'opérateur, et on restocke le résultat.\n",
    "\n",
    "</div>"
   ]
  },
  {
   "cell_type": "markdown",
   "metadata": {},
   "source": [
    "<div class=\"alert alert-warning\">\n",
    "<img src=\"Images/CR.png\" alt=\"logo CR\" width=5% align=right>\n",
    "\n",
    "Travail à faire\n",
    "\n",
    "- Écrire une telle fonction d'évaluation prenant en paramètre une liste d'entiers et d'opérateurs représentant une expression en notation polonaise inverse et renvoyant la valeur de cette expression. Si l'expression est mal écrite, on renverra une erreur.\n",
    "- Placer des vérifications sur les pré et postconditions (assertion), ainsi que des tests unitaires (doctest);\n",
    "\n",
    "</div>\n"
   ]
  },
  {
   "cell_type": "code",
   "execution_count": null,
   "metadata": {},
   "outputs": [],
   "source": [
    "#p 458"
   ]
  },
  {
   "cell_type": "code",
   "execution_count": null,
   "metadata": {},
   "outputs": [],
   "source": [
    "class Noeud:\n",
    "\n",
    "    def __init__(self, valeur, suivant=None):\n",
    "        self.valeur = valeur\n",
    "        self.suivant = suivant\n",
    "\n",
    "\n",
    "\n",
    "class Pile:\n",
    "\n",
    "    def __init__(self):\n",
    "        self.taille = 0\n",
    "        self.sommet = None\n",
    "\n",
    "\n",
    "    def empiler(self, valeur):\n",
    "        self.sommet = Noeud(valeur, self.sommet)\n",
    "        self.taille += 1\n",
    "\n",
    "    def depiler(self):\n",
    "        if self.taille > 0:\n",
    "            valeur = self.sommet.valeur\n",
    "            self.sommet = self.sommet.suivant\n",
    "            self.taille -= 1\n",
    "            return valeur\n",
    "\n",
    "    def estVide(self):\n",
    "        return self.taille == 0\n",
    "\n",
    "\n",
    "\n",
    "    def __str__(self):\n",
    "        ch = \"\\nEtat de la pile:\\n\"\n",
    "        sommet = self.sommet\n",
    "        while sommet != None:\n",
    "            ch += \"|\\t\" + str(sommet.valeur) + \"\\t|\" + \"\\n\"\n",
    "            sommet = sommet.suivant\n",
    "        return ch\n",
    "\n",
    "\n",
    "\n",
    "\n",
    "\n",
    "\n",
    "def evaluation(expression:list)-> float:\n",
    "    pile = Pile()\n",
    "    for element in expression:\n",
    "        if isinstance(element, int):\n",
    "            pile.empiler(element)\n",
    "            print(pile)\n",
    "        else:\n",
    "            nb1 = pile.depiler()\n",
    "            nb2 = pile.depiler()\n",
    "            pile.empiler(eval(str(nb1) + element + str(nb2)))\n",
    "            print(pile)\n",
    "    return pile.depiler()\n",
    "\n",
    "\n",
    "#r = evaluation([6,3,4,2,10,'/','-','*','+'])\n",
    "r=evaluation([1,2,3,'*','+',4,'*'])\n",
    "print(r)"
   ]
  },
  {
   "cell_type": "markdown",
   "metadata": {},
   "source": [
    "### 4- Chaînes bien parenthésées"
   ]
  },
  {
   "cell_type": "markdown",
   "metadata": {},
   "source": [
    "<div class=\"alert alert-success\">\n",
    "\n",
    "On considère une chaîne de caractères incluant à des parenthèses de toutes formes. La chaîne est dite bien parenthésée, si chaque paranthése ouvrante est associée à une parenthése fermante de même forme.\n",
    "</div>"
   ]
  },
  {
   "cell_type": "markdown",
   "metadata": {},
   "source": [
    "<div class=\"alert alert-warning\">\n",
    "<img src=\"Images/CR.png\" alt=\"logo CR\" width=5% align=right>\n",
    "\n",
    "Travail à faire\n",
    "\n",
    "- Écrire une fonction prenant en paramètre une chaîne de caractères contenant, entre autres, des parenthéses et qui renvoie True si la chaîne est bien parenthésée et False sinon.\n",
    "</div>"
   ]
  },
  {
   "cell_type": "code",
   "execution_count": null,
   "metadata": {},
   "outputs": [],
   "source": [
    "#p 458"
   ]
  },
  {
   "cell_type": "markdown",
   "metadata": {},
   "source": [
    "### 5- Le problème de Josèphe. "
   ]
  },
  {
   "cell_type": "markdown",
   "metadata": {},
   "source": [
    "<div class=\"alert alert-success\">\n",
    "    \n",
    "https://fr.wikipedia.org/wiki/Problème_de_Josèphe\n",
    "    \n",
    "On place en cercle les joueurs. On décide d'un joueur point de départ. Puis on compte 7 joueurs en partant du premier et on élimine le 7ème. On compte ensuite 7 joueurs en partant du suivant et on élimine...etc. Le problème est de prévoir le gagnant.\n",
    "\n",
    "<img src=\"Images/Josephe.png\" alt=\"Le problème de Josèphe\" width=80% align=center>  \n",
    "\n",
    "\n",
    "Le joueur 8 est le gagnant.\n",
    "</div>"
   ]
  },
  {
   "cell_type": "markdown",
   "metadata": {},
   "source": [
    "<div class=\"alert alert-warning\">\n",
    "<img src=\"Images/CR.png\" alt=\"logo CR\" width=5% align=right>\n",
    "\n",
    "Travail à faire\n",
    "\n",
    "- Écrire une fonction prenant en paramètres la liste des joueurs et le module (dans l'exemple, le module est 3) et qui renvoie le gagnant ;\n",
    "- Placer des vérifications sur les pré et postconditions (assertion), ainsi que des tests unitaires (doctest);\n",
    "</div>"
   ]
  },
  {
   "cell_type": "code",
   "execution_count": null,
   "metadata": {},
   "outputs": [],
   "source": [
    "class Maillon:\n",
    "\n",
    "\tdef __init__(self, valeur, precedent=None, suivant=None):\n",
    "\t\tself.valeur = valeur\n",
    "\t\tself.precedent = precedent\n",
    "\t\tself.suivant = suivant\n",
    "\n",
    "\n",
    "\n",
    "\n",
    "class File:\n",
    "\n",
    "\tdef __init__(self):\n",
    "\t\tself.longueur = 0\n",
    "\t\tself.debut = None\n",
    "\t\tself.fin = None\n",
    "\n",
    "\tdef enfiler(self, valeur):\n",
    "\t\tif self.longueur == 0:\n",
    "\t\t\tself.debut = self.fin = Maillon(valeur)\n",
    "\t\telse:\n",
    "\t\t\tself.fin = Maillon(valeur, self.fin)\n",
    "\t\t\tself.fin.precedent.suivant = self.fin\n",
    "\t\tself.longueur += 1\n",
    "\n",
    "\n",
    "\tdef defiler(self):\n",
    "\t\tif self.longueur > 0:\n",
    "\t\t\tvaleur = self.debut.valeur\n",
    "\t\t\tif self.longueur > 1:\n",
    "\t\t\t\tself.debut = self.debut.suivant\n",
    "\t\t\t\tself.debut.precedent = None\n",
    "\t\t\telse:\n",
    "\t\t\t\tself.debut = self.fin = None\n",
    "\t\t\tself.longueur -= 1\n",
    "\t\treturn valeur\n",
    "\n",
    "\n",
    "\tdef estVide(self):\n",
    "\t\treturn self.longueur == 0\n",
    "\n",
    "\n",
    "\n",
    "\n",
    "\tdef __str__(self):\n",
    "\t\tch = \"\\nEtat de la file:\\n\"\n",
    "\t\tmaillon = self.debut\n",
    "\t\twhile maillon != None:\n",
    "\t\t\tch +=  str(maillon.valeur) + \" \"\n",
    "\t\t\tmaillon = maillon.suivant\n",
    "\t\treturn ch\n",
    "\n",
    "\n",
    "\n",
    "\n",
    "def josephe(listePersonnes, module):\n",
    "\tf = File()\n",
    "\tfor personne in listePersonnes:\n",
    "\t\tf.enfiler(personne)\n",
    "\n",
    "\twhile not(f.estVide()):\n",
    "\t\tfor _ in range(module-1):\n",
    "\t\t\tf.enfiler(f.defiler())\n",
    "\t\tp = f.defiler()\n",
    "\n",
    "\treturn p\n",
    "\n",
    "\n",
    "print(josephe( ['Antoine', 'Béatrice', 'Camille', 'Damien', 'Emile'], 3))"
   ]
  },
  {
   "cell_type": "markdown",
   "metadata": {},
   "source": [
    "### 6- Liste chaînée immuable (non-mutable)"
   ]
  },
  {
   "cell_type": "markdown",
   "metadata": {},
   "source": [
    "<div class=\"alert alert-warning\">\n",
    "<img src=\"Images/CR.png\" alt=\"logo CR\" width=5% align=right>\n",
    "\n",
    "Travail à faire\n",
    "\n",
    "- Implémenter une liste chaînée immuable d'entiers avec l'objet built-in de python tuple ;\n",
    "- Placer des vérifications sur les pré et postconditions (assertion), ainsi que des tests unitaires (doctest);\n",
    "</div>"
   ]
  },
  {
   "cell_type": "code",
   "execution_count": 3,
   "metadata": {},
   "outputs": [
    {
     "name": "stdout",
     "output_type": "stream",
     "text": [
      "140453164716096\n",
      "longueur de liste vide = 0\n",
      "estListeVide(liste vide) = True\n",
      "140452837300416\n",
      "après ajout de 1 en tête = (1, ())\n",
      "140452837211136\n",
      "après ajout de A en tête = ('A', (1, ()))\n",
      "140452837210880\n",
      "après ajout de (1,2) en tête = ((1, 2), ('A', (1, ())))\n",
      "140452837211136\n",
      "après suppression de la tête = ('A', (1, ()))\n",
      "longueur de la liste = 2\n",
      "tête de liste :  A\n"
     ]
    }
   ],
   "source": [
    "def listeVide()-> tuple  :\n",
    "    '''\n",
    "    renvoie une liste chaînée vide\n",
    "    '''\n",
    "    pass\n",
    "\n",
    "def estListeVide(llst) -> bool : \n",
    "    '''\n",
    "    llst : LISTE\n",
    "    '''\n",
    "    pass\n",
    "\n",
    "def cons(x:int,llst : tuple)  : \n",
    "    '''\n",
    "    ajoute x en tête de llst\n",
    "    '''\n",
    "    pass\n",
    "\n",
    "def queue(llst)->tuple :\n",
    "    '''\n",
    "    renvoie la queue de llst\n",
    "    '''\n",
    "    pass\n",
    "\n",
    "def tete(llist) :\n",
    "    '''\n",
    "    renvoie l'entier de la tête de llst\n",
    "    '''\n",
    "    pass\n",
    "\n",
    "\n",
    "liste=listeVide()\n",
    "print(id(liste))\n",
    "print('longueur de liste vide =',longueur(liste))\n",
    "print('estListeVide(liste vide) =',estListeVide(liste))\n",
    "liste=cons(1,liste)\n",
    "print(id(liste))\n",
    "print('après ajout de 1 en tête =',liste)\n",
    "liste=cons('A',liste)\n",
    "print(id(liste))\n",
    "print('après ajout de A en tête =',liste)\n",
    "liste=cons((1,2),liste)\n",
    "print(id(liste))\n",
    "print('après ajout de (1,2) en tête =',liste)\n",
    "liste=listeQueue(liste)\n",
    "print(id(liste))\n",
    "print('après suppression de la tête =',liste)\n",
    "print('longueur de la liste =',longueur(liste))\n",
    "print('tête de liste : ',listeTete(liste))"
   ]
  },
  {
   "cell_type": "code",
   "execution_count": null,
   "metadata": {},
   "outputs": [],
   "source": []
  }
 ],
 "metadata": {
  "kernelspec": {
   "display_name": "Python 3",
   "language": "python",
   "name": "python3"
  },
  "language_info": {
   "codemirror_mode": {
    "name": "ipython",
    "version": 3
   },
   "file_extension": ".py",
   "mimetype": "text/x-python",
   "name": "python",
   "nbconvert_exporter": "python",
   "pygments_lexer": "ipython3",
   "version": "3.8.3"
  },
  "varInspector": {
   "cols": {
    "lenName": 16,
    "lenType": 16,
    "lenVar": 40
   },
   "kernels_config": {
    "python": {
     "delete_cmd_postfix": "",
     "delete_cmd_prefix": "del ",
     "library": "var_list.py",
     "varRefreshCmd": "print(var_dic_list())"
    },
    "r": {
     "delete_cmd_postfix": ") ",
     "delete_cmd_prefix": "rm(",
     "library": "var_list.r",
     "varRefreshCmd": "cat(var_dic_list()) "
    }
   },
   "types_to_exclude": [
    "module",
    "function",
    "builtin_function_or_method",
    "instance",
    "_Feature"
   ],
   "window_display": false
  }
 },
 "nbformat": 4,
 "nbformat_minor": 2
}
