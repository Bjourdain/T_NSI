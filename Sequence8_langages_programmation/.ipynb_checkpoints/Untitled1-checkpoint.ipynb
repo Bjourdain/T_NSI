{
 "cells": [
  {
   "cell_type": "markdown",
   "metadata": {},
   "source": [
    "# <center><font face=\"arial\" size=\"5\" color=#0101DF>NUMERIQUE ET SCIENCES INFORMATIQUES Terminale NSI</font></center>"
   ]
  },
  {
   "cell_type": "markdown",
   "metadata": {},
   "source": [
    "<div class=\"alert alert-danger\" role=\"alert\">\n",
    "    \n",
    "Les objectifs de cette séquence sont :\n",
    "\n",
    "- Distinguer sur des exemples les paradigmes impératif, fonctionnel et objet ;\n",
    "- Choisir le paradigme de programmation selon lechamp de l'application d'un programme.\n",
    "\n",
    "</div>"
   ]
  },
  {
   "cell_type": "markdown",
   "metadata": {},
   "source": [
    "<div class=\"alert alert-warning\">\n",
    "<img src=\"Images/CR.png\" alt=\"logo CR\" width=5% align=right>\n",
    "    \n",
    "Travail préalable :\n",
    "    \n",
    "- Lire le livre chapitre 10 ;\n",
    "- Consulter les liens suivants :\n",
    "    \n",
    "https://insights.stackoverflow.com/survey/2019/#technology\n",
    "\n",
    "http://pypl.github.io/PYPL.html  \n",
    "    \n",
    "</div>\n"
   ]
  },
  {
   "cell_type": "markdown",
   "metadata": {},
   "source": [
    "<div class=\"alert alert-success\">\n",
    "\n",
    "<img src=\"Images/warning.png\" alt=\"warning\" width=5% align=left>\n",
    "<br><br>\n",
    "Python n'est pas un langage fonctionnel, mais il contient quelques concepts de ce paradigme. On va s'en servir pour aborder ce qu'est un langage fonctionnel.\n",
    "    \n",
    "Les langages **fonctionnels** sont des langages **déclaratifs** : ils disent au système ce que le résultat doit être ! Ils contrastent ainsi avec la manière impérative qui décrit pas à pas comment résoudre le problème.\n",
    "</div>"
   ]
  },
  {
   "cell_type": "markdown",
   "metadata": {},
   "source": [
    "<div class=\"alert alert-success\">\n",
    "    \n",
    "**1- Les fonctions pures**\n",
    "\n",
    "Une fonction pure ne produit aucun effet de bord (pas de modification de données en dehors du scope de la fonction). Pour les mêmes entrées, la fonction renvoie toujours la même sortie quelque soit le contexte. Le terme \"**fonction**\" est à prendre au sens mathématique.\n",
    "\n",
    "</div>"
   ]
  },
  {
   "cell_type": "code",
   "execution_count": null,
   "metadata": {},
   "outputs": [],
   "source": [
    "def multipliex10(nombres:list)->list:\n",
    "    lst = []\n",
    "    for nombre in nombres:\n",
    "        lst.append(nombre * 10)\n",
    "    return lst\n",
    "\n",
    "liste_originale = [4, 6, 2, 10]\n",
    "liste_renvoyee = multipliex10(liste_originale)\n",
    "print(liste_originale)\n",
    "print(liste_renvoyee)"
   ]
  },
  {
   "cell_type": "markdown",
   "metadata": {},
   "source": [
    "<div class=\"alert alert-warning\">\n",
    "<img src=\"Images/CR.png\" alt=\"logo CR\" width=5% align=right>\n",
    "    \n",
    "Travail demandé : Répondre aux questions en les justifiant.\n",
    "    \n",
    "- La liste originale a-t-elle été modifiée ?\n",
    "- Quel est le type d'objet des listes originale et renvoyée ?\n",
    "- \"liste_originale\" et \"liste_renvoyée\" reférencent elles le même objet ?\n",
    "- Peut-on dire que la fonction \"multipliex10\" est pure ?\n",
    "    \n",
    "</div>"
   ]
  },
  {
   "cell_type": "code",
   "execution_count": null,
   "metadata": {},
   "outputs": [],
   "source": [
    "print(type(liste_originale))\n",
    "print(type(liste_renvoyee))"
   ]
  },
  {
   "cell_type": "code",
   "execution_count": null,
   "metadata": {},
   "outputs": [],
   "source": [
    "print(id(liste_originale))\n",
    "print(id(liste_renvoyee))"
   ]
  },
  {
   "cell_type": "markdown",
   "metadata": {},
   "source": [
    "<div class=\"alert alert-success\">\n",
    "    \n",
    "**2- Immutabilité**\n",
    "\n",
    "L’immutabilité désigne le caractère d’un objet qui ne peut être modifié après sa création en opposition à la mutabilité.\n",
    "    \n",
    "Une fonction peut changer l'état d'une variable globale ou mutable et provoquer une erreur qui peut être difficile à trouver si celle-ci advient beaucoup plus tard.\n",
    "\n",
    "En utilisant une variable immuable (comme un tuple en python), l'erreur va être signalée au moment de la modification de la variable.\n",
    "    \n",
    "- Modifions la fonction précédente en utilisant des tuples.\n",
    "        \n",
    "</div>"
   ]
  },
  {
   "cell_type": "code",
   "execution_count": null,
   "metadata": {},
   "outputs": [],
   "source": [
    "def multipliex10(nombres:tuple)->tuple:\n",
    "    lst = []\n",
    "    for nombre in nombres:\n",
    "        lst.append(nombre * 10)\n",
    "    return tuple(lst)\n",
    "\n",
    "uplet_original = (4, 6, 2, 10)\n",
    "uplet_renvoye = multipliex10(uplet_original)\n",
    "print(uplet_original)\n",
    "print(uplet_renvoye)"
   ]
  },
  {
   "cell_type": "markdown",
   "metadata": {},
   "source": [
    "<div class=\"alert alert-warning\">\n",
    "<img src=\"Images/CR.png\" alt=\"logo CR\" width=5% align=right>\n",
    "    \n",
    "Travail demandé : Répondre aux questions en les justifiant.\n",
    "    \n",
    "- Comment a-t-on créé l'objet \"uplet_renvoye\" ?\n",
    "- Connaissez-vous une autre méthode permettant de modifier un tuple ? (Les tester en cas de doute)\n",
    "    \n",
    "</div>"
   ]
  },
  {
   "cell_type": "code",
   "execution_count": null,
   "metadata": {},
   "outputs": [],
   "source": [
    "print(type(uplet_original))\n",
    "print(type(uplet_renvoye))"
   ]
  },
  {
   "cell_type": "code",
   "execution_count": null,
   "metadata": {},
   "outputs": [],
   "source": [
    "print(id(uplet_original))\n",
    "print(id(uplet_renvoye))"
   ]
  },
  {
   "cell_type": "markdown",
   "metadata": {},
   "source": [
    "<div class=\"alert alert-success\">\n",
    "    \n",
    "**3- Fonction anonyme**\n",
    "\n",
    "Une fonction **lambda** est une fonction anonyme. En python, on peut créer une telle fonction de manière plus rapide qu'avec le mot clé \"def\".\n",
    "</div>"
   ]
  },
  {
   "cell_type": "code",
   "execution_count": null,
   "metadata": {},
   "outputs": [],
   "source": [
    "valeur=lambda x : x**2"
   ]
  },
  {
   "cell_type": "markdown",
   "metadata": {},
   "source": [
    "<div class=\"alert alert-warning\">\n",
    "<img src=\"Images/CR.png\" alt=\"logo CR\" width=5% align=right>\n",
    "    \n",
    "Travail demandé : Répondre aux questions en les justifiant.\n",
    "    \n",
    "- Quel est le type d'objet de \"valeur\" ?\n",
    "- Que donne l'exécution de valeur (5) ?\n",
    "    \n",
    "</div>"
   ]
  },
  {
   "cell_type": "code",
   "execution_count": null,
   "metadata": {},
   "outputs": [],
   "source": [
    "type(valeur)"
   ]
  },
  {
   "cell_type": "code",
   "execution_count": null,
   "metadata": {},
   "outputs": [],
   "source": [
    "valeur(5)"
   ]
  },
  {
   "cell_type": "markdown",
   "metadata": {},
   "source": [
    "<div class=\"alert alert-success\">\n",
    "    \n",
    "**4- Les fonctions d'ordre supérieur**\n",
    "\n",
    "En mathématiques et en informatique, les fonctions d'ordre supérieur ou fonctionnelles sont des fonctions qui ont au moins une des propriétés suivantes :\n",
    "\n",
    "- elles prennent une ou plusieurs fonctions en entrée ;\n",
    "- elles renvoient une fonction.\n",
    "\n",
    "</div>"
   ]
  },
  {
   "cell_type": "code",
   "execution_count": null,
   "metadata": {},
   "outputs": [],
   "source": [
    "from math import sin, cos, tan, radians\n",
    "\n",
    "def fos_trigo(angle:float, fonction)->float:\n",
    "    \"\"\"\n",
    "    Renvoie la valeur de la\n",
    "    fonction trigonométrique\n",
    "    appliquée à l'angle, tous\n",
    "    deux passés en arguments\n",
    "    \"\"\"\n",
    "    return fonction(radians(angle))\n",
    "\n",
    "\n",
    "print(fos_trigo(90,sin), end=\"\\t\")\n",
    "print(fos_trigo(90,cos), end=\"\\t\")\n",
    "print(fos_trigo(90,tan))"
   ]
  },
  {
   "cell_type": "code",
   "execution_count": null,
   "metadata": {},
   "outputs": [],
   "source": [
    "def fos_table_multiplication(multiplicateur:int):# -> function\n",
    "    return lambda x: x * multiplicateur\n",
    "\n",
    "tablex5 = fos_table_multiplication(5)\n",
    "multiplicande=9\n",
    "produit = tablex5(multiplicande)\n",
    "print(produit)"
   ]
  },
  {
   "cell_type": "markdown",
   "metadata": {},
   "source": [
    "<div class=\"alert alert-warning\">\n",
    "<img src=\"Images/CR.png\" alt=\"logo CR\" width=5% align=right>\n",
    "    \n",
    "Travail demandé : Répondre aux questions en les justifiant.\n",
    "\n",
    "- Observer la lisibilité du code, la flexibilité des fonctions ;\n",
    "- Quel est le type d'objet de \"tablex5\" ?\n",
    "   \n",
    "</div>"
   ]
  },
  {
   "cell_type": "code",
   "execution_count": null,
   "metadata": {},
   "outputs": [],
   "source": [
    "type(tablex5)"
   ]
  },
  {
   "cell_type": "markdown",
   "metadata": {},
   "source": [
    "<div class=\"alert alert-success\">\n",
    "    \n",
    "**4- Les fonctions d'ordre supérieur built-in : map, filter, reduce**\n",
    "\n",
    "map(fonction, itérable) applique successivement **fonction** aux éléments de l'objet **itérable** et retourne les résultats\n",
    "\n",
    "filter(fonction, itérable) retourne une liste des éléments de l'objet **itérable** pour lesquels **fonction** est vraie\n",
    "\n",
    "reduce(bin_fonction, itérable) applique bin_fonction aux deux premiers éléments de l'objet **itérable**, puis au résultat et au 3e élément ... et retourne le résultat final.\n",
    "\n",
    "</div>"
   ]
  },
  {
   "cell_type": "code",
   "execution_count": null,
   "metadata": {},
   "outputs": [],
   "source": [
    "# importing functools for reduce() \n",
    "from functools import reduce\n",
    "\n",
    "liste = [1 ,2 ,3 ,4]\n",
    "print(liste)\n",
    "print('carrés :', list(map(lambda x : x**2, liste )))\n",
    "print('pairs :' , list(filter(lambda x : x%2, liste )))\n",
    "print('somme :', reduce(lambda x,y : x+y , liste))"
   ]
  },
  {
   "cell_type": "markdown",
   "metadata": {},
   "source": [
    "<div class=\"alert alert-success\">\n",
    "    \n",
    "**5- Compréhension de liste**\n",
    "</div>"
   ]
  },
  {
   "cell_type": "code",
   "execution_count": null,
   "metadata": {},
   "outputs": [],
   "source": [
    "nombres = [13, 4, 18, 35]\n",
    "\n",
    "pairs = [nombre for nombre in nombres if nombre % 2 == 0]\n",
    "\n",
    "print(pairs)\n",
    "# À comparer avec filter ..."
   ]
  },
  {
   "cell_type": "markdown",
   "metadata": {},
   "source": [
    "<div class=\"alert alert-warning\">\n",
    "<img src=\"Images/CR.png\" alt=\"logo CR\" width=5% align=right>\n",
    "    \n",
    "Travail demandé : Répondre aux questions en les justifiant.\n",
    "\n",
    "- Les codes présentés ci-dessous respectent-ils le paradigme fonctionnel ?\n",
    "\n",
    "   \n",
    "</div>"
   ]
  },
  {
   "cell_type": "code",
   "execution_count": null,
   "metadata": {},
   "outputs": [],
   "source": []
  }
 ],
 "metadata": {
  "kernelspec": {
   "display_name": "Python 3",
   "language": "python",
   "name": "python3"
  },
  "language_info": {
   "codemirror_mode": {
    "name": "ipython",
    "version": 3
   },
   "file_extension": ".py",
   "mimetype": "text/x-python",
   "name": "python",
   "nbconvert_exporter": "python",
   "pygments_lexer": "ipython3",
   "version": "3.8.3"
  },
  "varInspector": {
   "cols": {
    "lenName": 16,
    "lenType": 16,
    "lenVar": 40
   },
   "kernels_config": {
    "python": {
     "delete_cmd_postfix": "",
     "delete_cmd_prefix": "del ",
     "library": "var_list.py",
     "varRefreshCmd": "print(var_dic_list())"
    },
    "r": {
     "delete_cmd_postfix": ") ",
     "delete_cmd_prefix": "rm(",
     "library": "var_list.r",
     "varRefreshCmd": "cat(var_dic_list()) "
    }
   },
   "types_to_exclude": [
    "module",
    "function",
    "builtin_function_or_method",
    "instance",
    "_Feature"
   ],
   "window_display": false
  }
 },
 "nbformat": 4,
 "nbformat_minor": 4
}
