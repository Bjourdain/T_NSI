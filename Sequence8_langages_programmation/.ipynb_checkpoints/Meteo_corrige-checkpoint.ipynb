{
 "cells": [
  {
   "cell_type": "markdown",
   "metadata": {},
   "source": [
    "# <center><font face=\"arial\" size=\"5\" color=#0101DF>NUMERIQUE ET SCIENCES INFORMATIQUES 1ère NSI</font></center>"
   ]
  },
  {
   "cell_type": "markdown",
   "metadata": {},
   "source": [
    "## <font color=#013ADF>Séquence N° 10 : Projet Quel temps fait-il ?</font>"
   ]
  },
  {
   "cell_type": "markdown",
   "metadata": {},
   "source": [
    "<div class=\"alert alert-danger\" role=\"alert\">\n",
    "    \n",
    "Les objectifs de cette séquence sont :\n",
    "\n",
    "- De découvrir le format json ;\n",
    "- D'utiliser une API (Application Programming Interface) ;\n",
    "- Demander une ressource à un serveur distant avec python ;\n",
    "- Réaliser une interface graphique homme/machine.\n",
    "\n",
    "</div>"
   ]
  },
  {
   "cell_type": "markdown",
   "metadata": {},
   "source": [
    "### 1- Le format JSON"
   ]
  },
  {
   "cell_type": "markdown",
   "metadata": {},
   "source": [
    "Wikipédia\n",
    "\n",
    "> JavaScript Object Notation (JSON) est un format de données textuelles dérivé de la notation des objets du langage JavaScript. Il permet de représenter de l’information structurée comme le permet XML par exemple. \n",
    "\n",
    " Il s'agit d'un format texte minimaliste. Vous pourrez voir et modifier facilement des valeurs avec un quelconque éditeur de texte. JSON se base plus sur un modèle clé/valeur (ça doit vous rappeler quelque chose) que sur un format de  balisage (format XML).\n",
    "\n",
    "JSON  est un format qui encode les objets en une chaîne de caractères (string). Cette opération est appelée `sérialisation`. L'opération inverse est appelée `désérialisation` (string → objet).\n",
    "\n",
    "Quand vous transmettez des données ou vous les stockez dans un fichier, les données doivent être des chaînes d'octets, mais les objets sont rarement dans un format aussi simple. Essayez d'imaginer comment transmettre le dictionnaire décrit dans le programme ci-dessous (attention, l'objet \"dictionnaire\" possède des méthodes !)\n",
    "\n",
    "La `sérialisation` peut convertir ces objets complexes en une chaîne d'octets. Lorsque la chaîne est stockée ou transmise sur un réseau, le receveur va `désérialiser` la chaîne pour revenir au à l'objet original."
   ]
  },
  {
   "cell_type": "markdown",
   "metadata": {},
   "source": [
    "#### 1-1 Sérialisation"
   ]
  },
  {
   "cell_type": "markdown",
   "metadata": {},
   "source": [
    "Pour ce premier travail, on a crée un objet dictionnaire \"exemple\", assez complexe pour toucher beaucoup de types d'objets (entier, chaîne de caractères, liste, dictionnaire, booléen)"
   ]
  },
  {
   "cell_type": "code",
   "execution_count": null,
   "metadata": {},
   "outputs": [],
   "source": [
    "#!/usr/bin/env python3\n",
    "# -*- coding: utf-8 -*-\n",
    "\"\"\"\n",
    "Découverte du format JSON\n",
    "\"\"\"\n",
    "\n",
    "exemple={\"musique\":\"rock\", \"nombre\":6, \"88\":\"bidon\", \"liste\":[1,5,8], \"dico\":{\"cle\":\"valeur\"}, \"etat\":True}\n",
    "\n",
    "print(exemple[\"etat\"])\n",
    "print(exemple['liste'][1])\n",
    "print(type(exemple))"
   ]
  },
  {
   "cell_type": "markdown",
   "metadata": {},
   "source": [
    "**On constate bien dans ce code que nous avons un dictionnaire. Procédons à la sérialisation :**"
   ]
  },
  {
   "cell_type": "code",
   "execution_count": null,
   "metadata": {},
   "outputs": [],
   "source": [
    "#!/usr/bin/env python3\n",
    "# -*- coding: utf-8 -*-\n",
    "\"\"\"\n",
    "Découverte du format JSON\n",
    "\"\"\"\n",
    "import json\n",
    "\n",
    "exemple={\"musique\":\"rock\", \"nombre\":6, \"88\":\"bidon\", \"liste\":[1,5,8], \"dico\":{\"cle\":\"valeur\"}, \"etat\":True}\n",
    "\n",
    "# Transforme mon dictionnaire en chaine de caractères -> sérialisation\n",
    "chaine_json=json.dumps(exemple)\n",
    "\n",
    "print(chaine_json)\n",
    "print(type(chaine_json))"
   ]
  },
  {
   "cell_type": "markdown",
   "metadata": {},
   "source": [
    "**Version plus lisible et même triée (observez les clés)**"
   ]
  },
  {
   "cell_type": "code",
   "execution_count": null,
   "metadata": {},
   "outputs": [],
   "source": [
    "#!/usr/bin/env python3\n",
    "# -*- coding: utf-8 -*-\n",
    "\"\"\"\n",
    "Découverte du format JSON\n",
    "\"\"\"\n",
    "import json\n",
    "\n",
    "exemple={\"musique\":\"rock\", \"nombre\":6, \"88\":\"bidon\", \"liste\":[1,5,8], \"dico\":{\"cle\":\"valeur\"}, \"etat\":True}\n",
    "\n",
    "\n",
    "# Transforme mon dictionnaire en chaine de caractères\n",
    "chaine_json=json.dumps(exemple, indent=4, sort_keys=True) # triée !\n",
    "\n",
    "print(chaine_json)\n",
    "print(type(chaine_json))"
   ]
  },
  {
   "cell_type": "markdown",
   "metadata": {},
   "source": [
    "**Sauvegarde d'un dictionnaire dans un fichier au format JSON**"
   ]
  },
  {
   "cell_type": "code",
   "execution_count": null,
   "metadata": {},
   "outputs": [],
   "source": [
    "#!/usr/bin/env python3\n",
    "# -*- coding: utf-8 -*-\n",
    "\"\"\"\n",
    "Sauvegarde du dictionnaire \"exemple\" dans un fichier json\n",
    "(-> sérialisation) appelé \"fichier_sauve_json.json\"\n",
    "Allez voir dans le répertoire courant le fichier\n",
    "\"\"\"\n",
    "import json\n",
    "\n",
    "exemple={\"musique\":\"rock\", \"nombre\":6, \"88\":\"bidon\",\n",
    "         \"liste\":[1,5,8], \"dico\":{\"cle\":\"valeur\"}, \"etat\":True}\n",
    "\n",
    "with open(\"fichier_sauve_json.json\", \"w\", encoding=\"utf-8\") as fichier:\n",
    "    json.dump(exemple, fichier, indent=4, sort_keys=True)"
   ]
  },
  {
   "cell_type": "markdown",
   "metadata": {},
   "source": [
    "#### 1-2 Désérialisation (Il faut avoir précédemment créé la chaîne \"chaîne_json\" pour exécuter ce code)"
   ]
  },
  {
   "cell_type": "code",
   "execution_count": null,
   "metadata": {},
   "outputs": [],
   "source": [
    "#!/usr/bin/env python3\n",
    "# -*- coding: utf-8 -*-\n",
    "\"\"\"\n",
    "Découverte du format JSON\n",
    "\"\"\"\n",
    "import json\n",
    "\n",
    "dictionnaire=json.loads(chaine_json,encoding='utf-8')\n",
    "\n",
    "print(dictionnaire)\n",
    "print(type(dictionnaire))"
   ]
  },
  {
   "cell_type": "markdown",
   "metadata": {},
   "source": [
    "**Lecture du fichier au format JSON et création d'un dictionnaire**"
   ]
  },
  {
   "cell_type": "code",
   "execution_count": null,
   "metadata": {},
   "outputs": [],
   "source": [
    "#!/usr/bin/env python3\n",
    "# -*- coding: utf-8 -*-\n",
    "\"\"\"\n",
    "Lecture du fichier sérialisé et création d'un dictionnaire\n",
    "appelé \"recuperation\"\n",
    "\"\"\"\n",
    "import json\n",
    "\n",
    "with open(\"fichier_sauve_json.json\", \"r\", encoding=\"utf-8\") as fichier:\n",
    "    recuperation=json.load(fichier)\n",
    "\n",
    "print(recuperation)\n",
    "print(type(recuperation))"
   ]
  },
  {
   "cell_type": "markdown",
   "metadata": {},
   "source": [
    "### 2- L' API OpenWeather : https://openweathermap.org/api"
   ]
  },
  {
   "cell_type": "markdown",
   "metadata": {},
   "source": [
    "Questionnaire : Current weather data (free) API doc\n",
    "\n",
    "En lisant la documentation en ligne et en s'inspirant des exemples, écrire l'url à composer pour obtenir les données :\n",
    "- De la ville de Brest ;\n",
    "- Au format JSON ;\n",
    "- En langue française ;\n",
    "- En degrés Celsius pour les températures ;\n",
    "\n",
    "À titre provisoire, on va utiliser ma clé  : API_key='e0044f02376c855a12b524c19d8aba71'\n",
    "\n",
    "*Si vous souhaitez utiliser l'application, inscrivez vous, vous aurez gratuitement une clé personnelle.*"
   ]
  },
  {
   "cell_type": "markdown",
   "metadata": {},
   "source": [
    "<div class=\"alert alert-danger\" role=\"alert\">\n",
    "http://api.openweathermap.org/data/2.5/weather?q=brest,fr&lang=fr&mode=json&units=metric&APPID=e0044f02376c855a12b524c19d8aba71\n",
    "</div>"
   ]
  },
  {
   "cell_type": "markdown",
   "metadata": {},
   "source": [
    "Dans les données récupérées, il y a un code qui défini le pictogramme du temps (soleil, pluie ...). Il faut extraire cette valeur de manière à faire une nouvelle requête et récupérer le pictogramme correspondant (clé : icon).\n",
    "\n",
    "Écrire l'url à composer pour obtenir le pictogramme."
   ]
  },
  {
   "cell_type": "markdown",
   "metadata": {},
   "source": [
    "<div class=\"alert alert-danger\" role=\"alert\">\n",
    "http://openweathermap.org/img/wn/'+icone+'@2x.png\n",
    "</div>"
   ]
  },
  {
   "cell_type": "markdown",
   "metadata": {},
   "source": [
    "Testez ces 2 urls dans un navigateur"
   ]
  },
  {
   "cell_type": "markdown",
   "metadata": {},
   "source": [
    "### 3- Le module requests"
   ]
  },
  {
   "cell_type": "markdown",
   "metadata": {},
   "source": [
    "Vous avez appris à faire des requêtes à un serveur par l'intermédiaire d'un formulaire HTML (méthodes GET et POST). Il est aussi possible de faire des requêtes à partir d'un programme python. Il suffit pour cela d'importer un module particulier.\n",
    "\n",
    "Requests est un module python permettant d'utiliser le protocole http de manière très simple : https://requests-fr.readthedocs.io/en/latest/\n",
    "\n",
    "Récupérez les données sur le serveur en se servant du format ci-dessous :"
   ]
  },
  {
   "cell_type": "code",
   "execution_count": null,
   "metadata": {},
   "outputs": [],
   "source": [
    "import requests\n",
    "\n",
    "# reponse contient la réponse du serveur, c'est à dire la ressources demandée si elle existe !\n",
    "reponse = requests.get(\"http://url de la ressource souhaitée\")\n",
    "print(reponse.text)"
   ]
  },
  {
   "cell_type": "code",
   "execution_count": null,
   "metadata": {},
   "outputs": [],
   "source": [
    "# corrigé\n",
    "import requests\n",
    "\n",
    "# reponse contient la réponse du serveur, c'est à dire la ressources demandée si elle existe !\n",
    "reponse = requests.get(\"http://api.openweathermap.org/data/2.5/weather?q=brest,fr&lang=fr&mode=json&units=metric&APPID=e0044f02376c855a12b524c19d8aba71\")\n",
    "print(reponse.text)"
   ]
  },
  {
   "cell_type": "markdown",
   "metadata": {},
   "source": [
    "Pour récupérer le pictogramme, c'est un peu plus compliqué :"
   ]
  },
  {
   "cell_type": "code",
   "execution_count": null,
   "metadata": {},
   "outputs": [],
   "source": [
    "# utilisation du module PIL pour ouvrir une image et la sauvegarder\n",
    "from PIL import Image\n",
    "import requests\n",
    "\n",
    "url_image='http://openweathermap.org/img/wn/01d@2x.png'\n",
    "mon_image = Image.open(requests.get(url=url_image, stream=True).raw)\n",
    "mon_image.save('picto.png')"
   ]
  },
  {
   "cell_type": "markdown",
   "metadata": {},
   "source": [
    "<div class=\"alert alert-warning\">\n",
    "<img src=\"Images/CR.png\" alt=\"logo CR\" width=5% align=right>\n",
    "\n",
    "Travail à faire\n",
    "\n",
    "- Réalisez une fonction \"meteo\" qui récupère les données du serveur. On passera en paramètre à la fonction le nom de la ville dont on souhaite récupérer les informations météorologiques.\n",
    "<div>"
   ]
  },
  {
   "cell_type": "code",
   "execution_count": null,
   "metadata": {},
   "outputs": [],
   "source": [
    "#!/usr/bin/env python3\n",
    "# -*- coding: utf-8 -*-\n",
    "\"\"\"\n",
    "Relevé des conditions\n",
    "météorologiques d'une\n",
    "ville\n",
    "\"\"\"\n",
    "\n",
    "from PIL import Image\n",
    "import requests\n",
    "\n",
    "\n",
    "def meteo(ville):\n",
    "    \"\"\"\n",
    "    Récupère sur le serveur d'OpenWeather\n",
    "    les paramètres météo de la ville passée\n",
    "    en paramètre.\n",
    "    Lit et sauvegarde le pictogramme du type\n",
    "    de temps courant sous le nom de 'picto.png'\n",
    "    Entrée : ville de type string\n",
    "    Sortie : Dictionnaire de données météo\n",
    "    \"\"\"\n",
    "    API_key='e0044f02376c855a12b524c19d8aba71'\n",
    "    #récupération des données\n",
    "    url_data=\"http://api.openweathermap.org/data/2.5/weather?q=\" \\\n",
    "                +ville+\",fr&lang=fr&mode=json&units=metric&APPID=\"\\\n",
    "                +API_key\n",
    "    donnees=(requests.get(url=url_data)).json()\n",
    "    icone=donnees['weather'][0]['icon'] # on récupère la valeur de la clé 'icon' du temps\n",
    "    # récupération de l'icone du temps\n",
    "    url_image='http://openweathermap.org/img/wn/'+icone+'@2x.png'\n",
    "    mon_image = Image.open(requests.get(url=url_image, stream=True).raw)\n",
    "    mon_image.save('test.png')\n",
    "    mon_image.close()\n",
    "    return donnees\n",
    "\n",
    "    \n",
    "        \n",
    "ville='brest'\n",
    "conditions=meteo(ville)\n",
    "print(conditions)"
   ]
  },
  {
   "cell_type": "markdown",
   "metadata": {},
   "source": [
    "<div class=\"alert alert-warning\">\n",
    "<img src=\"Images/CR.png\" alt=\"logo CR\" width=5% align=right>\n",
    "\n",
    "Travail à faire\n",
    "\n",
    "- Réalisez une interface graphique avec Tkinter qui permette de saisir le nom d'une ville et d'afficher les conditions météorologiques.\n",
    "\n",
    "    Remarque : Plutôt que d'utiliser la méthode \"pack\" comme la dernière fois, utilisez la méthode \"place\" avec des positions relatives à la taille de la fenêtre : relx = 0  (à gauche), relx = 1 (à droite). Idem pour y !\n",
    "<div>"
   ]
  },
  {
   "cell_type": "markdown",
   "metadata": {},
   "source": [
    "Exemple de présentation :\n",
    "\n",
    "\n",
    "<img src=\"Images/STATION.png\" alt=\"MÉTÉO\" width=80% align=CENTER>"
   ]
  }
 ],
 "metadata": {
  "kernelspec": {
   "display_name": "Python 3",
   "language": "python",
   "name": "python3"
  },
  "language_info": {
   "codemirror_mode": {
    "name": "ipython",
    "version": 3
   },
   "file_extension": ".py",
   "mimetype": "text/x-python",
   "name": "python",
   "nbconvert_exporter": "python",
   "pygments_lexer": "ipython3",
   "version": "3.8.3"
  },
  "varInspector": {
   "cols": {
    "lenName": 16,
    "lenType": 16,
    "lenVar": 40
   },
   "kernels_config": {
    "python": {
     "delete_cmd_postfix": "",
     "delete_cmd_prefix": "del ",
     "library": "var_list.py",
     "varRefreshCmd": "print(var_dic_list())"
    },
    "r": {
     "delete_cmd_postfix": ") ",
     "delete_cmd_prefix": "rm(",
     "library": "var_list.r",
     "varRefreshCmd": "cat(var_dic_list()) "
    }
   },
   "types_to_exclude": [
    "module",
    "function",
    "builtin_function_or_method",
    "instance",
    "_Feature"
   ],
   "window_display": false
  }
 },
 "nbformat": 4,
 "nbformat_minor": 2
}
