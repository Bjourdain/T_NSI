{
 "cells": [
  {
   "cell_type": "markdown",
   "metadata": {},
   "source": [
    "Introduction\n",
    "\n",
    "Functional Programming is a popular programming paradigm closely linked to computer science's mathematical foundations. While there is no strict definition of what constitutes a functional language, we consider them to be languages that use functions to transform data.\n",
    "\n",
    "Python is not a functional programming language but it does incorporate some of its concepts alongside other programming paradigms. With Python, it's easy to write code in a functional style, which may provide the best solution for the task at hand.\n",
    "Functional Programming Concepts\n",
    "\n",
    "Functional languages are declarative languages, they tell the computer what result they want. This is usually contrasted with imperative languages that tell the computer what steps to take to solve a problem. Python is usually coded in an imperative way but can use the declarative style if necessary.\n",
    "\n",
    "Some of Python's features were influenced by Haskell, a purely functional programming language. To get a better appreciation of what a functional language is, let's look at features in Haskell that can be seen as desirable, functional traits:\n",
    "\n",
    "    Pure Functions - do not have side effects, that is, they do not change the state of the program. Given the same input, a pure function will always produce the same output.\n",
    "    Immutability - data cannot be changed after it is created. Take for example creating a List with 3 items and storing it in a variable my_list. If my_list is immutable, you wouldn't be able to change the individual items. You would have to set my_list to a new List if you'd like to use different values.\n",
    "    Higher Order Functions - functions can accept other functions as parameters and functions can return new functions as output. This allows us to abstract over actions, giving us flexibility in our code's behavior.\n",
    "\n",
    "Haskell has also influenced iterators and generators in Python through its lazy loading, but that feature isn't necessary for a functional language.\n",
    "Functional Programming in Python\n",
    "\n",
    "Without any special Python features or libraries, we can start coding in a more functional way."
   ]
  },
  {
   "cell_type": "markdown",
   "metadata": {},
   "source": [
    "Pure Functions\n",
    "\n",
    "If you'd like functions to be pure, then do not change the value of the input or any data that exists outside the function's scope.\n",
    "\n",
    "This makes the function we write much easier to test. As it does not change the state of any variable, we are guaranteed to get the same output every time we run the function with the same input.\n",
    "\n",
    "Let's create a pure function to multiply numbers by 2:"
   ]
  },
  {
   "cell_type": "code",
   "execution_count": null,
   "metadata": {},
   "outputs": [],
   "source": [
    "def multiply_2_pure(numbers):\n",
    "    new_numbers = []\n",
    "    for n in numbers:\n",
    "        new_numbers.append(n * 2)\n",
    "    return new_numbers\n",
    "\n",
    "original_numbers = [1, 3, 5, 10]\n",
    "changed_numbers = multiply_2_pure(original_numbers)\n",
    "print(original_numbers) # [1, 3, 5, 10]\n",
    "print(changed_numbers)  # [2, 6, 10, 20]"
   ]
  },
  {
   "cell_type": "markdown",
   "metadata": {},
   "source": [
    "The original list of numbers are unchanged, and we don't reference any other variables outside of the function, so it is pure."
   ]
  },
  {
   "cell_type": "markdown",
   "metadata": {},
   "source": [
    "Immutability\n",
    "\n",
    "Ever had a bug where you wondered how a variable you set to 25 became None? If that variable was immutable, the error would have been thrown where the variable was being changed, not where the changed value already affected the software - the root cause of the bug can be found earlier.\n",
    "\n",
    "Python offers some immutable data types, a popular one being the Tuple. Let's contrast the Tuple to a List, which is mutable:"
   ]
  },
  {
   "cell_type": "code",
   "execution_count": null,
   "metadata": {},
   "outputs": [],
   "source": [
    "mutable_collection = ['Tim', 10, [4, 5]]\n",
    "immutable_collection = ('Tim', 10, [4, 5])\n",
    "\n",
    "# Reading from data types are essentially the same:\n",
    "print(mutable_collection[2])    # [4, 5]\n",
    "print(immutable_collection[2])  # [4, 5]\n",
    "\n",
    "# Let's change the 2nd value from 10 to 15\n",
    "mutable_collection[1] = 15\n",
    "\n",
    "# This fails with the tuple\n",
    "immutable_collection[1] = 15"
   ]
  },
  {
   "cell_type": "markdown",
   "metadata": {},
   "source": [
    "The error you would see is: TypeError: 'tuple' object does not support item assignment.\n",
    "\n",
    "Now, there's an interesting scenario where a Tuple may appear to be a mutable object. For instance, if we wanted to change the list in immutable_collection from [4, 5] to [4, 5, 6], you can do the following:"
   ]
  },
  {
   "cell_type": "code",
   "execution_count": null,
   "metadata": {},
   "outputs": [],
   "source": [
    "immutable_collection[2].append(6)\n",
    "print(immutable_collection[2])  # [4, 5, 6]"
   ]
  },
  {
   "cell_type": "markdown",
   "metadata": {},
   "source": [
    "This works because a List is a mutable object. Let's try to change the list back to [4, 5]."
   ]
  },
  {
   "cell_type": "code",
   "execution_count": null,
   "metadata": {},
   "outputs": [],
   "source": [
    "immutable_collection[2] = [4, 5]\n",
    "# This throws a familiar error:\n",
    "# TypeError: 'tuple' object does not support item assignment"
   ]
  },
  {
   "cell_type": "code",
   "execution_count": null,
   "metadata": {},
   "outputs": [],
   "source": []
  },
  {
   "cell_type": "code",
   "execution_count": null,
   "metadata": {},
   "outputs": [],
   "source": []
  },
  {
   "cell_type": "code",
   "execution_count": null,
   "metadata": {},
   "outputs": [],
   "source": []
  }
 ],
 "metadata": {
  "kernelspec": {
   "display_name": "Python 3",
   "language": "python",
   "name": "python3"
  },
  "language_info": {
   "codemirror_mode": {
    "name": "ipython",
    "version": 3
   },
   "file_extension": ".py",
   "mimetype": "text/x-python",
   "name": "python",
   "nbconvert_exporter": "python",
   "pygments_lexer": "ipython3",
   "version": "3.8.3"
  },
  "varInspector": {
   "cols": {
    "lenName": 16,
    "lenType": 16,
    "lenVar": 40
   },
   "kernels_config": {
    "python": {
     "delete_cmd_postfix": "",
     "delete_cmd_prefix": "del ",
     "library": "var_list.py",
     "varRefreshCmd": "print(var_dic_list())"
    },
    "r": {
     "delete_cmd_postfix": ") ",
     "delete_cmd_prefix": "rm(",
     "library": "var_list.r",
     "varRefreshCmd": "cat(var_dic_list()) "
    }
   },
   "types_to_exclude": [
    "module",
    "function",
    "builtin_function_or_method",
    "instance",
    "_Feature"
   ],
   "window_display": false
  }
 },
 "nbformat": 4,
 "nbformat_minor": 4
}
