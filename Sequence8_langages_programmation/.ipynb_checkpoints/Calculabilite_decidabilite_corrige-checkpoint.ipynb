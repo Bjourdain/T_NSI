{
 "cells": [
  {
   "cell_type": "markdown",
   "metadata": {},
   "source": [
    "# <center><font face=\"arial\" size=\"5\" color=#0101DF>NUMERIQUE ET SCIENCES INFORMATIQUES Terminale NSI</font></center>"
   ]
  },
  {
   "cell_type": "markdown",
   "metadata": {},
   "source": [
    "## <font color=#013ADF>Séquence N° 8 : Langages et programmation : Notion de programme en tant que donnée, calculabilité, décidabilité</font>"
   ]
  },
  {
   "cell_type": "markdown",
   "metadata": {},
   "source": [
    "<div class=\"alert alert-danger\" role=\"alert\">\n",
    "    \n",
    "Les objectifs de cette séquence sont :\n",
    "\n",
    "- Comprendre que tout programme est aussi une donnée ;\n",
    "- Comprendre que la calculabilité ne dépend pas du langage de programmation utilisé ;\n",
    "- Montrer sans formalisme théorique, que le le problème de l'arrêt est indécidable.\n",
    "</div>"
   ]
  },
  {
   "cell_type": "markdown",
   "metadata": {},
   "source": [
    "<div class=\"alert alert-warning\">\n",
    "<img src=\"Images/CR.png\" alt=\"logo CR\" width=5% align=right>\n",
    "    \n",
    "Travail préalable   \n",
    "\n",
    "- Lire le chapitre 9 du livre, paragraphes 1 à 3.\n",
    "\n",
    "<div>"
   ]
  },
  {
   "cell_type": "markdown",
   "metadata": {},
   "source": [
    "### 1- Programme en tant que donnée"
   ]
  },
  {
   "cell_type": "markdown",
   "metadata": {},
   "source": [
    "<div class=\"alert alert-success\">\n",
    "    \n",
    "Le titre du paragraphe peut interpeller un instant, mais à y regarder de plus près, vous avez croisé cette idée à de nombreuses reprises :\n",
    "- Pour exécuter un programme en python, vous utilisez un interpréteur qui va décoder votre programme ;\n",
    "- De même cet interpréteur nécessite un système d'exploitation pour accéder aux ressources de la machine ;\n",
    "- Les compilateurs qui prennent en entrée un programme (qui n'est qu'un texte) et le transforment en un code exécutable pour le microprocesseur ;\n",
    "- Un navigateur reçoit des données d'internet et interprète certaines d'entre elles comme un programme (javascript) et d'autres comme données (html, css)\n",
    "- ...\n",
    "</div>"
   ]
  },
  {
   "cell_type": "markdown",
   "metadata": {},
   "source": [
    "<div class=\"alert alert-success\">\n",
    "    \n",
    "Amusons nous un peu en concevant une focntion python \"universelle\". Celui-ci exécutera les programmes passés en arguments. Nous montrerons ainsi qu'**un programme est bien une donnée**.\n",
    "\n",
    "Voici un très modeste programme :\n",
    "    </div>"
   ]
  },
  {
   "cell_type": "code",
   "execution_count": null,
   "metadata": {},
   "outputs": [],
   "source": [
    "x = 3\n",
    "while x < 5 :\n",
    "    print(x*x)\n",
    "    x+=1"
   ]
  },
  {
   "cell_type": "markdown",
   "metadata": {},
   "source": [
    "<div class=\"alert alert-success\">\n",
    "    \n",
    "Après tout, ce n'est qu'une chaîne de caractères !\n",
    "    </div>"
   ]
  },
  {
   "cell_type": "code",
   "execution_count": null,
   "metadata": {},
   "outputs": [],
   "source": [
    "programme = 'x=3\\nwhile x < 5:\\n\\tprint(x*x)\\n\\tx+=1'"
   ]
  },
  {
   "cell_type": "code",
   "execution_count": null,
   "metadata": {},
   "outputs": [],
   "source": [
    "def universelle(prog):\n",
    "    exec(prog)"
   ]
  },
  {
   "cell_type": "markdown",
   "metadata": {},
   "source": [
    "<div class=\"alert alert-success\">\n",
    "    \n",
    "Passons la chaîne de caractères à notre fonction 'universelle' pour un résultat identique au précédent.\n",
    "<div>"
   ]
  },
  {
   "cell_type": "code",
   "execution_count": null,
   "metadata": {},
   "outputs": [],
   "source": [
    "universel(programme)"
   ]
  },
  {
   "cell_type": "markdown",
   "metadata": {},
   "source": [
    "### 2- Calculabilité - machine de Turing"
   ]
  },
  {
   "cell_type": "markdown",
   "metadata": {},
   "source": [
    "<div class=\"alert alert-success\">\n",
    "\n",
    "### Est-ce que tout problème peut être résolu informatiquement ? Autrement dit, est-il calculable ? **Non !**\n",
    "    \n",
    "\n",
    "On dit qu’un **algorithme termine** pour une donnée si et seulement si il s’**arrête au bout d’un nombre fini d’opérations**.\n",
    "\n",
    "Un problème est **calculable** si et seulement si il **existe un algorithme** pour ce problème qui termine quelle que soit la donnée.\n",
    "    \n",
    "**Alonzo Church et Stephen Cole Kleene** proposent de définir la calculabilité par le **lambda-calcul** (1936). Il s'agit d'un système formel permettant d’exprimer des fonctions (équivalent à un langage de programmation). Le lambda-calcul est à la base de la programmation fonctionnelle.\n",
    "\n",
    "Dans le même temps, **Alan Turing** définit des machines théoriques (**machines de Turing**) qui ont pour but de décrire ce qu’est un calcul.\n",
    "    \n",
    "Les problèmes calculables par lambda-calcul sont exactement ceux calculables par machines de Turing. **Thèse de Church-Turing** : tous les modèles de calculs sont équivalents.\n",
    "    \n",
    "</div>"
   ]
  },
  {
   "cell_type": "markdown",
   "metadata": {},
   "source": [
    "<div class=\"alert alert-success\">\n",
    "    \n",
    "**Description de la machine théorique**\n",
    "\n",
    "Elle se compose d'un ruban de longueur infinie, d'une tête de lecture/écriture qui lit, écrit et se déplace sur le ruban (à gauche G, à droite D, ou reste immobile R).\n",
    "\n",
    "L'alphabet utilisé se compose de 3 caractères (⎕, 0 et 1 où ⎕ repésente une case vide)\n",
    "\n",
    "Un **pointeur** indique la situation de la machine (état, tête R/W). Il est possible de faire 3 actions qui dépendent de l'état de la machine et du caractère pointé :\n",
    "\n",
    "- Changer d'état au **pointeur** (A, B, T ...) ;\n",
    "- Changer le caractère **pointé** sur le ruban (⎕, 0, 1) ;\n",
    "- Déplacer le **pointeur** d'une case vers la gauche , vers la droite ou non (G, D, R).\n",
    "\n",
    "\n",
    "<img src=\"Images/turing_incremente.png\" alt=\"turing_incremente\" width=50% align=center>\n",
    "\n",
    "\n",
    "**Table de transition** : *incrémentation d'un entier n ∊ N \t\tn : → n + 1*\n",
    "\n",
    "|        État         | Lecture | Écriture | Déplacement |        État         |\n",
    "| :-----------------: | :-----: | :------: | :---------: | :-----------------: |\n",
    "| Avant l'instruction | ⎕, 0, 1 | ⎕, 0, 1  |   G, D, R   | Après l'instruction |\n",
    "|          A          |    1    |    0     |      D      |          A          |\n",
    "|          A          |    ⎕    |    1     |      G      |          B          |\n",
    "|          A          |    0    |    1     |      G      |          B          |\n",
    "|          B          |    0    |    0     |      G      |          B          |\n",
    "|          B          |    1    |    1     |      G      |          B          |\n",
    "|          B          |    ⎕    |    ⎕     |      D      |          T          |\n",
    "\n",
    "**Automate**\n",
    "\n",
    "<img src=\"Images/automate_incremente.png\" alt=\"automate_incremente\" width=50% align=center>\n",
    "\n",
    "\n",
    "**Éxecution du programme**\n",
    "\n",
    "| État A |  ⎕   | **1→0** |   `1`   |    0    |  1   | 1    | État A |\n",
    "| :----: | :--: | :-----: | :-----: | :-----: | :--: | ---- | ------ |\n",
    "| État A |  ⎕   |    0    | **1→0** |   `0`   |  1   | 1    | État A |\n",
    "| État A |  ⎕   |    0    |   `0`   | **0→1** |  1   | 1    | État B |\n",
    "| État B |  ⎕   |   `0`   |    0    |    1    |  1   | 1    | État B |\n",
    "| État B | `⎕`  |    0    |    0    |    1    |  1   | 1    | État B |\n",
    "| État B |  ⎕   |   `0`   |    0    |    1    |  1   | 1    | État T |\n",
    "|        |      |         |         |         |      |      |        |\n",
    "\n",
    "\n",
    "Les machines de Turing sont des machines universelles. Une machine de Turing universelle U est une machine unique (table de transitions) capable de résoudre tous les problèmes calculables.\n",
    "     \n",
    "Les ordinateurs sont basés sur cette idée : Une machine universelle est un système “programmable”.\n",
    "\n",
    "    \n",
    "Soit A une machine de Turing quelconque et x une entrée (ruban), la sortie de A sur l’entrée x est notée A(x).\n",
    "    \n",
    "Une machine U est universelle si l’on peut écrire une entrée y sur le ruban telle que le calcul de U sur y donne A(x) en sortie. Il suffit pour cela d'écrire sur le ruban de U, la table de transitions de A et l'entrée x\n",
    "    \n",
    "Maintenant, U a toute l’information qui définit A(x) sur le ruban, et il est possible de construire une telle machine U qui lit l’entrée x sur le ruban, ensuite lit la table d’action de A sur le ruban, et ensuite réalise sur x ce que la machine A aurait réalisé.\n",
    "\n",
    "Reste à construire la table de transitions de la machine U.\n",
    "    \n",
    "De nos jours, un ruban est une mémoire, la table d’action écrite sur le ruban est un programme, et U est un ordinateur !\n",
    "</div>"
   ]
  },
  {
   "cell_type": "markdown",
   "metadata": {},
   "source": [
    "### 3- Décidabilité - problème de l'arrêt"
   ]
  },
  {
   "cell_type": "markdown",
   "metadata": {},
   "source": [
    "<div class=\"alert alert-success\">\n",
    "<img src=\"Images/warning.png\" alt=\"warning\" width=5% align=left>\n",
    "    \n",
    "Un problème de décision est une fonction qui à une entrée associe oui ou non.\n",
    "<br><br>\n",
    "**Problématique** : Soit la fonction suivante : Peut-on savoir si celle-ci va terminer ou non ? (voir définition plus haut)\n",
    "</div>"
   ]
  },
  {
   "cell_type": "code",
   "execution_count": null,
   "metadata": {},
   "outputs": [],
   "source": [
    "def fonction (n:int)->int:\n",
    "    while n != 5 :\n",
    "        n = n + 1\n",
    "    return n"
   ]
  },
  {
   "cell_type": "code",
   "execution_count": null,
   "metadata": {},
   "outputs": [],
   "source": [
    "print(fonction(3))"
   ]
  },
  {
   "cell_type": "markdown",
   "metadata": {},
   "source": [
    "<div class=\"alert alert-danger\" role=\"alert\">\n",
    "    \n",
    "La fonction termine pour n ≤ 5, mais ne termine pas pour n > 5\n",
    "</div>"
   ]
  },
  {
   "cell_type": "markdown",
   "metadata": {},
   "source": [
    "<div class=\"alert alert-success\">\n",
    "    \n",
    "Imaginons qu'il existe une fonction que nous appelerons \"arrêt\" qui prenant en paramètre une fonction et un argument, nous renvoie True si la fonction termine, False sinon.\n",
    "\n",
    "Soit:\n",
    "\n",
    "- arrêt(f, x) -> True si f(x) s'arrête\n",
    "- arrêt(f, x) -> False si f(x) ne s'arrête pas\n",
    "\n",
    "Montrons pas l'absurde qu'une telle fonction \"arrêt\" n'existe pas ! Alan Turing en 1936 a fait ce raisonnement.\n",
    "<div>"
   ]
  },
  {
   "cell_type": "markdown",
   "metadata": {},
   "source": [
    "<div class=\"alert alert-success\">\n",
    "<img src=\"Images/warning.png\" alt=\"warning\" width=5% align=left>\n",
    "    \n",
    "Raisonnement par l'absurde ?\n",
    "\n",
    "On veut montrer qu'une proposition n'existe pas. Pour cela, on suppose que cette proposition est vraie, pour aboutir à une absurdité.\n",
    "\n",
    "Un exemple : Soit la proposition 'zéro n'a pas d'inverse'.\n",
    "\n",
    "- On suppose vraie la proposition 'zéro a un inverse' ;\n",
    "- On en déduit qu'il existe un réel \"a\" tel que : a × 0 = 1 ;\n",
    "\n",
    "- On peut écrire : a × 0 = a × (0+0) = (a × 0) + (a × 0) ;\n",
    "- Si a x 0 = 1, on a donc  1 = 2 ! ce qui est une absurdité ;\n",
    "\n",
    "- Donc, par l'absurde, on a prouvé que **zéro n'a pas d'inverse**.\n",
    "</div>"
   ]
  },
  {
   "cell_type": "markdown",
   "metadata": {},
   "source": [
    "<div class=\"alert alert-success\">\n",
    "    \n",
    "Proposition : il existe une fonction que nous appelerons \"arrêt\" qui prenant en paramètre une fonction et un argument, nous renvoie True si la fonction termine, False sinon.\n",
    "\n",
    "Utilisons cette fonction \"arrêt\" pour programmer la fonction ci-dessous :\n",
    "<div>"
   ]
  },
  {
   "cell_type": "code",
   "execution_count": null,
   "metadata": {},
   "outputs": [],
   "source": [
    "def negation(f, x):\n",
    "  if arret(f, x):\n",
    "    while True:\n",
    "      pass"
   ]
  },
  {
   "cell_type": "markdown",
   "metadata": {},
   "source": [
    "<div class=\"alert alert-success\">\n",
    "    \n",
    "Cette fonction \"negation\" teste si la **fonction f(x) s'arrête ou non**:\n",
    "- Si elle s'arrête, elle rentre dans une boucle infinie (qui ne fait rien) et n'en sort jamais ;\n",
    "- Si elle ne s'arrête pas, la fonction \"negation\" ne fait rien.\n",
    "\n",
    "Donc: la fonction negation(f, x) termine si f(x) ne termine pas.\n",
    "\n",
    "La précédente fonction \"negation\" nous permet d'en programmer une nouvelle.\n",
    "<div>"
   ]
  },
  {
   "cell_type": "code",
   "execution_count": null,
   "metadata": {},
   "outputs": [],
   "source": [
    "def paradoxe(f):\n",
    "  negation(f, f)"
   ]
  },
  {
   "cell_type": "markdown",
   "metadata": {},
   "source": [
    "<div class=\"alert alert-danger\" role=\"alert\">\n",
    "    \n",
    "Si l'on exécute cette fonction, nous obtenons le résultat suivant :\n",
    "\n",
    "- La fonction paradoxe termine si f(f) ne termine pas.\n",
    "\n",
    "Enfin, que donne l'appel de la fonction paradoxe(paradoxe) ? Remplaçons dans la proposition précédente f par paradoxe, pour écrire :\n",
    "\n",
    "- **La fonction paradoxe termine si f(paradoxe) ne termine pas**.\n",
    "\n",
    "Cette dernière affirmation est donc absurde, on peut en conclure que le problème de l'arrêt est indécidable.\n",
    "</div>"
   ]
  },
  {
   "cell_type": "markdown",
   "metadata": {},
   "source": [
    "<div class=\"alert alert-success\">\n",
    "Démonstration plus ludique :\n",
    "    \n",
    "https://youtu.be/92WHN-pAFCs?t=6\n",
    "</div>"
   ]
  }
 ],
 "metadata": {
  "kernelspec": {
   "display_name": "Python 3",
   "language": "python",
   "name": "python3"
  },
  "language_info": {
   "codemirror_mode": {
    "name": "ipython",
    "version": 3
   },
   "file_extension": ".py",
   "mimetype": "text/x-python",
   "name": "python",
   "nbconvert_exporter": "python",
   "pygments_lexer": "ipython3",
   "version": "3.8.3"
  },
  "varInspector": {
   "cols": {
    "lenName": 16,
    "lenType": 16,
    "lenVar": 40
   },
   "kernels_config": {
    "python": {
     "delete_cmd_postfix": "",
     "delete_cmd_prefix": "del ",
     "library": "var_list.py",
     "varRefreshCmd": "print(var_dic_list())"
    },
    "r": {
     "delete_cmd_postfix": ") ",
     "delete_cmd_prefix": "rm(",
     "library": "var_list.r",
     "varRefreshCmd": "cat(var_dic_list()) "
    }
   },
   "types_to_exclude": [
    "module",
    "function",
    "builtin_function_or_method",
    "instance",
    "_Feature"
   ],
   "window_display": false
  }
 },
 "nbformat": 4,
 "nbformat_minor": 2
}
