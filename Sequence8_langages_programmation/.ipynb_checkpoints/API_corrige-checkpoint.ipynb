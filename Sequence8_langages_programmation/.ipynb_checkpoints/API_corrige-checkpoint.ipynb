{
 "cells": [
  {
   "cell_type": "markdown",
   "metadata": {},
   "source": [
    "# <center><font face=\"arial\" size=\"5\" color=#0101DF>NUMERIQUE ET SCIENCES INFORMATIQUES Terminale NSI</font></center>"
   ]
  },
  {
   "cell_type": "markdown",
   "metadata": {},
   "source": [
    "## <font color=#013ADF>Séquence N° 8 : Langages et programmation : Modularité</font>"
   ]
  },
  {
   "cell_type": "markdown",
   "metadata": {},
   "source": [
    "<div class=\"alert alert-danger\" role=\"alert\">\n",
    "    \n",
    "Les objectifs de cette séquence sont :\n",
    "\n",
    "- Utiliser des API (Application Programming interface) ou des bibliothèques ;\n",
    "- Exploiter leur documentation ;\n",
    "- Créer des modules simples et les documenter.\n",
    "\n",
    "</div>"
   ]
  },
  {
   "cell_type": "markdown",
   "metadata": {},
   "source": [
    "<div class=\"alert alert-warning\">\n",
    "<img src=\"Images/CR.png\" alt=\"logo CR\" width=5% align=right>\n",
    "    \n",
    "Travail préalable   \n",
    "\n",
    "\n",
    "- Lire le chapitre 9, paragraphe 5 du livre.\n",
    "- Que veut dire l'acronyme API ? Donner une définition d'une API ? Quel est son principal intérêt ?\n",
    "    \n",
    "\n",
    "</div>"
   ]
  },
  {
   "cell_type": "markdown",
   "metadata": {},
   "source": [
    "### 1- API Découpage administratif > Communes"
   ]
  },
  {
   "cell_type": "markdown",
   "metadata": {},
   "source": [
    "<div class=\"alert alert-success\">\n",
    " \n",
    "    \n",
    "Cette activité est un rappel de ce qui a été réalisé l'année précédente sur l'API OpenWeather. Je vous suggère de reprendre le notebbok \"Meteo\" pour revoir, le format JSON, le module requests.\n",
    "    \n",
    "L'API utilisé aujourd'hui se trouve à l'adresse suivante : https://geo.api.gouv.fr/decoupage-administratif/communes\n",
    "\n",
    "    \n",
    "    \n",
    "</div>"
   ]
  },
  {
   "cell_type": "markdown",
   "metadata": {},
   "source": [
    "<div class=\"alert alert-warning\">\n",
    "<img src=\"Images/CR.png\" alt=\"logo CR\" width=5% align=right>\n",
    "   \n",
    "Traval demandé :\n",
    "    \n",
    "Créer une application python capable :\n",
    "- D'afficher la liste des communes d'un département ;\n",
    "- D'afficher la commune du département qui a le plus grand nombre d’habitants ;\n",
    "- D'afficher la commune du département qui a le plus petit nombre d’habitants ;\n",
    "- D'afficher le nombre d’habitants total du département ;\n",
    "    \n",
    "</div>"
   ]
  },
  {
   "cell_type": "code",
   "execution_count": null,
   "metadata": {},
   "outputs": [],
   "source": [
    "import urllib.request\n",
    "import json\n",
    "\n",
    "url = 'https://geo.api.gouv.fr/departements/29/communes'\n",
    "requete = urllib.request.urlopen(url).read()\n",
    "data = json.loads(requete.decode())\n",
    "plus_grande_ville = data[0]\n",
    "plus_petite_ville = data[0]\n",
    "total_habitant =0\n",
    "for ville in data:\n",
    "    if ville['population'] > plus_grande_ville['population'] : plus_grande_ville = ville\n",
    "    if ville['population'] < plus_petite_ville['population'] : plus_petite_ville = ville\n",
    "    total_habitant += ville['population']\n",
    "    print(ville['nom'])\n",
    "print('la plus grande ville du 29 est', plus_grande_ville['nom'], 'avec ',\n",
    "plus_grande_ville['population'], 'habitants')\n",
    "print('la plus petite ville du 29 est', plus_petite_ville['nom'], 'avec ',\n",
    "plus_petite_ville['population'], 'habitants')\n",
    "print('le total des habitants du 29 est', total_habitant)"
   ]
  },
  {
   "cell_type": "code",
   "execution_count": null,
   "metadata": {},
   "outputs": [],
   "source": [
    "import json\n",
    "import requests\n",
    "\n",
    "\n",
    "def informations(dep):\n",
    "    #récupération des données\n",
    "    url = 'https://geo.api.gouv.fr/departements/'+dep+'/communes'\n",
    "    requete = urllib.request.urlopen(url).read()\n",
    "    data = json.loads(requete.decode())\n",
    "    plus_grande_ville = data[0]\n",
    "    plus_petite_ville = data[0]\n",
    "    total_habitant =0\n",
    "    for ville in data:\n",
    "        if ville['population'] > plus_grande_ville['population'] : plus_grande_ville = ville\n",
    "        if ville['population'] < plus_petite_ville['population'] : plus_petite_ville = ville\n",
    "        total_habitant += ville['population']\n",
    "    return donnees\n",
    "\n",
    "    \n",
    "        \n",
    "departement='29'\n",
    "conditions=informations(departement)\n",
    "print(conditions)"
   ]
  }
 ],
 "metadata": {
  "kernelspec": {
   "display_name": "Python 3",
   "language": "python",
   "name": "python3"
  },
  "language_info": {
   "codemirror_mode": {
    "name": "ipython",
    "version": 3
   },
   "file_extension": ".py",
   "mimetype": "text/x-python",
   "name": "python",
   "nbconvert_exporter": "python",
   "pygments_lexer": "ipython3",
   "version": "3.8.3"
  },
  "varInspector": {
   "cols": {
    "lenName": 16,
    "lenType": 16,
    "lenVar": 40
   },
   "kernels_config": {
    "python": {
     "delete_cmd_postfix": "",
     "delete_cmd_prefix": "del ",
     "library": "var_list.py",
     "varRefreshCmd": "print(var_dic_list())"
    },
    "r": {
     "delete_cmd_postfix": ") ",
     "delete_cmd_prefix": "rm(",
     "library": "var_list.r",
     "varRefreshCmd": "cat(var_dic_list()) "
    }
   },
   "types_to_exclude": [
    "module",
    "function",
    "builtin_function_or_method",
    "instance",
    "_Feature"
   ],
   "window_display": false
  }
 },
 "nbformat": 4,
 "nbformat_minor": 2
}
