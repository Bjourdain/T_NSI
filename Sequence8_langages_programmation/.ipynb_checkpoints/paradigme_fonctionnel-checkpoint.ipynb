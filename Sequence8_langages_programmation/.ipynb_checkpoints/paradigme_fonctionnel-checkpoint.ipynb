{
 "cells": [
  {
   "cell_type": "markdown",
   "metadata": {},
   "source": [
    "Introduction\n",
    "\n",
    "Functional Programming is a popular programming paradigm closely linked to computer science's mathematical foundations. While there is no strict definition of what constitutes a functional language, we consider them to be languages that use functions to transform data.\n",
    "\n",
    "Python is not a functional programming language but it does incorporate some of its concepts alongside other programming paradigms. With Python, it's easy to write code in a functional style, which may provide the best solution for the task at hand.\n",
    "Functional Programming Concepts\n",
    "\n",
    "Functional languages are declarative languages, they tell the computer what result they want. This is usually contrasted with imperative languages that tell the computer what steps to take to solve a problem. Python is usually coded in an imperative way but can use the declarative style if necessary.\n",
    "\n",
    "Some of Python's features were influenced by Haskell, a purely functional programming language. To get a better appreciation of what a functional language is, let's look at features in Haskell that can be seen as desirable, functional traits:\n",
    "\n",
    "    Pure Functions - do not have side effects, that is, they do not change the state of the program. Given the same input, a pure function will always produce the same output.\n",
    "    Immutability - data cannot be changed after it is created. Take for example creating a List with 3 items and storing it in a variable my_list. If my_list is immutable, you wouldn't be able to change the individual items. You would have to set my_list to a new List if you'd like to use different values.\n",
    "    Higher Order Functions - functions can accept other functions as parameters and functions can return new functions as output. This allows us to abstract over actions, giving us flexibility in our code's behavior.\n",
    "\n",
    "Haskell has also influenced iterators and generators in Python through its lazy loading, but that feature isn't necessary for a functional language.\n",
    "Functional Programming in Python\n",
    "\n",
    "Without any special Python features or libraries, we can start coding in a more functional way."
   ]
  },
  {
   "cell_type": "markdown",
   "metadata": {},
   "source": [
    "Pure Functions\n",
    "\n",
    "If you'd like functions to be pure, then do not change the value of the input or any data that exists outside the function's scope.\n",
    "\n",
    "This makes the function we write much easier to test. As it does not change the state of any variable, we are guaranteed to get the same output every time we run the function with the same input.\n",
    "\n",
    "Let's create a pure function to multiply numbers by 2:"
   ]
  },
  {
   "cell_type": "code",
   "execution_count": null,
   "metadata": {},
   "outputs": [],
   "source": [
    "def multiply_2_pure(numbers):\n",
    "    new_numbers = []\n",
    "    for n in numbers:\n",
    "        new_numbers.append(n * 2)\n",
    "    return new_numbers\n",
    "\n",
    "original_numbers = [1, 3, 5, 10]\n",
    "changed_numbers = multiply_2_pure(original_numbers)\n",
    "print(original_numbers) # [1, 3, 5, 10]\n",
    "print(changed_numbers)  # [2, 6, 10, 20]"
   ]
  },
  {
   "cell_type": "markdown",
   "metadata": {},
   "source": [
    "The original list of numbers are unchanged, and we don't reference any other variables outside of the function, so it is pure."
   ]
  },
  {
   "cell_type": "markdown",
   "metadata": {},
   "source": [
    "Immutability\n",
    "\n",
    "Ever had a bug where you wondered how a variable you set to 25 became None? If that variable was immutable, the error would have been thrown where the variable was being changed, not where the changed value already affected the software - the root cause of the bug can be found earlier.\n",
    "\n",
    "Python offers some immutable data types, a popular one being the Tuple. Let's contrast the Tuple to a List, which is mutable:"
   ]
  },
  {
   "cell_type": "code",
   "execution_count": null,
   "metadata": {},
   "outputs": [],
   "source": [
    "mutable_collection = ['Tim', 10, [4, 5]]\n",
    "immutable_collection = ('Tim', 10, [4, 5])\n",
    "\n",
    "# Reading from data types are essentially the same:\n",
    "print(mutable_collection[2])    # [4, 5]\n",
    "print(immutable_collection[2])  # [4, 5]\n",
    "\n",
    "# Let's change the 2nd value from 10 to 15\n",
    "mutable_collection[1] = 15\n",
    "\n",
    "# This fails with the tuple\n",
    "immutable_collection[1] = 15"
   ]
  },
  {
   "cell_type": "markdown",
   "metadata": {},
   "source": [
    "The error you would see is: TypeError: 'tuple' object does not support item assignment.\n",
    "\n",
    "Now, there's an interesting scenario where a Tuple may appear to be a mutable object. For instance, if we wanted to change the list in immutable_collection from [4, 5] to [4, 5, 6], you can do the following:"
   ]
  },
  {
   "cell_type": "code",
   "execution_count": null,
   "metadata": {},
   "outputs": [],
   "source": [
    "immutable_collection[2].append(6)\n",
    "print(immutable_collection[2])  # [4, 5, 6]"
   ]
  },
  {
   "cell_type": "markdown",
   "metadata": {},
   "source": [
    "This works because a List is a mutable object. Let's try to change the list back to [4, 5]."
   ]
  },
  {
   "cell_type": "code",
   "execution_count": null,
   "metadata": {},
   "outputs": [],
   "source": [
    "immutable_collection[2] = [4, 5]\n",
    "# This throws a familiar error:\n",
    "# TypeError: 'tuple' object does not support item assignment"
   ]
  },
  {
   "cell_type": "markdown",
   "metadata": {},
   "source": [
    "It fails just as we expected it to. While we can change the contents of a mutable object in a Tuple, we cannot change the reference to the mutable object that's stored in memory."
   ]
  },
  {
   "cell_type": "markdown",
   "metadata": {},
   "source": [
    "Higher Order Functions\n",
    "\n",
    "Recall that Higher Order Functions either accept a function as an argument or return a function for further processing. Let's illustrate how simple both can be created in Python.\n",
    "\n",
    "Consider a function that prints a line multiple times:"
   ]
  },
  {
   "cell_type": "code",
   "execution_count": null,
   "metadata": {},
   "outputs": [],
   "source": [
    "def write_repeat(message, n):\n",
    "    for i in range(n):\n",
    "        print(message)\n",
    "\n",
    "write_repeat('Hello', 5)"
   ]
  },
  {
   "cell_type": "markdown",
   "metadata": {},
   "source": [
    "What if we wanted to write to a file 5 times, or log the message 5 times? Instead of writing 3 different functions that all loop, we can write 1 Higher Order Function that accepts those functions as an argument:"
   ]
  },
  {
   "cell_type": "code",
   "execution_count": null,
   "metadata": {},
   "outputs": [],
   "source": [
    "def hof_write_repeat(message, n, action):\n",
    "    for i in range(n):\n",
    "        action(message)\n",
    "\n",
    "hof_write_repeat('Hello', 5, print)\n",
    "\n",
    "# Import the logging library\n",
    "import logging\n",
    "# Log the output as an error instead\n",
    "hof_write_repeat('Hello', 5, logging.error)"
   ]
  },
  {
   "cell_type": "markdown",
   "metadata": {},
   "source": [
    "Now imagine that we're tasked with creating functions that increment numbers in a list by 2, 5, and 10. Let's start with the first case:"
   ]
  },
  {
   "cell_type": "code",
   "execution_count": null,
   "metadata": {},
   "outputs": [],
   "source": [
    "def add2(numbers):\n",
    "    new_numbers = []\n",
    "    for n in numbers:\n",
    "        new_numbers.append(n + 2)\n",
    "    return new_numbers\n",
    "\n",
    "print(add2([23, 88])) # [25, 90]"
   ]
  },
  {
   "cell_type": "markdown",
   "metadata": {},
   "source": [
    "While it's trivial to write add5 and add10 functions, it's obvious that they would operate in the same: looping through the list and adding the incrementer. So instead of creating many different increment functions, we create 1 Higher Order Function:"
   ]
  },
  {
   "cell_type": "code",
   "execution_count": null,
   "metadata": {},
   "outputs": [],
   "source": [
    "def hof_add(increment):\n",
    "    # Create a function that loops and adds the increment\n",
    "    def add_increment(numbers):\n",
    "        new_numbers = []\n",
    "        for n in numbers:\n",
    "            new_numbers.append(n + increment)\n",
    "        return new_numbers\n",
    "    # We return the function as we do any other value\n",
    "    return add_increment\n",
    "\n",
    "add5 = hof_add(5)\n",
    "print(add5([23, 88]))   # [28, 93]\n",
    "add10 = hof_add(10)\n",
    "print(add10([23, 88]))  # [33, 98]"
   ]
  },
  {
   "cell_type": "markdown",
   "metadata": {},
   "source": [
    "Higher Order Functions give our code flexibility. By abstracting what functions are applied or returned, we gain more control of our program's behavior.\n",
    "\n",
    "Python provides some useful built-in Higher Order Functions, which makes working with sequences much easier. We'll first look at lambda expressions to better utilize these built-in functions."
   ]
  },
  {
   "cell_type": "markdown",
   "metadata": {},
   "source": [
    "Lambda Expressions\n",
    "\n",
    "A lambda expression is an anonymous function. When we create functions in Python, we use the def keyword and give it a name. Lambda expressions allow us to define a function much more quickly.\n",
    "\n",
    "Let's create a Higher Order Function hof_product that returns a function that multiplies a number by a predefined value:"
   ]
  },
  {
   "cell_type": "code",
   "execution_count": null,
   "metadata": {},
   "outputs": [],
   "source": [
    "def hof_product(multiplier):\n",
    "    return lambda x: x * multiplier\n",
    "\n",
    "mult6 = hof_product(6)\n",
    "print(mult6(6)) # 36"
   ]
  },
  {
   "cell_type": "markdown",
   "metadata": {},
   "source": [
    "The lambda expression begins with the keyword lambda followed by the function arguments. After the colon is the code returned by the lambda. This ability to create functions \"on the go\" is heavily used when working with Higher Order Functions.\n",
    "\n",
    "There's a lot more to lambda expressions that we cover in our article Lambda Functions in Python if you want more info."
   ]
  },
  {
   "cell_type": "markdown",
   "metadata": {},
   "source": [
    "Built-in Higher Order Functions\n",
    "\n",
    "Python has implemented some commonly used Higher Order Functions from Functional Programming Languages that makes processing iterable objects like lists and iterators much easier. For space/memory efficiency reasons, these functions return an iterator instead of a list.\n",
    "Map\n",
    "\n",
    "The map function allows us to apply a function to every element in an iterable object. For example, if we had a list of names and wanted to append a greeting to the Strings, we can do the following:"
   ]
  },
  {
   "cell_type": "code",
   "execution_count": null,
   "metadata": {},
   "outputs": [],
   "source": [
    "names = ['Shivani', 'Jason', 'Yusef', 'Sakura']\n",
    "greeted_names = map(lambda x: 'Hi ' + x, names)\n",
    "\n",
    "# This prints something similar to: <map object at 0x10ed93cc0>\n",
    "print(greeted_names)\n",
    "# Recall, that map returns an iterator \n",
    "\n",
    "# We can print all names in a for loop\n",
    "for name in greeted_names:\n",
    "    print(name)"
   ]
  },
  {
   "cell_type": "markdown",
   "metadata": {},
   "source": [
    "Filter\n",
    "\n",
    "The filter function tests every element in an iterable object with a function that returns either True or False, only keeping those which evaluates to True. If we had a list of numbers and wanted to keep those that are divisible by 5 we can do the following:"
   ]
  },
  {
   "cell_type": "code",
   "execution_count": null,
   "metadata": {},
   "outputs": [],
   "source": [
    "numbers = [13, 4, 18, 35]\n",
    "div_by_5 = filter(lambda num: num % 5 == 0, numbers)\n",
    "\n",
    "# We can convert the iterator into a list\n",
    "print(list(div_by_5)) # [35]"
   ]
  },
  {
   "cell_type": "markdown",
   "metadata": {},
   "source": [
    "Combining map and filter\n",
    "\n",
    "As each function returns an iterator, and they both accept iterable objects, we can use them together for some really expressive data manipulations!"
   ]
  },
  {
   "cell_type": "code",
   "execution_count": null,
   "metadata": {},
   "outputs": [],
   "source": [
    "# Let's arbitrarily get the all numbers divisible by 3 between 1 and 20 and cube them\n",
    "arbitrary_numbers = map(lambda num: num ** 3, filter(lambda num: num % 3 == 0, range(1, 21)))\n",
    "\n",
    "print(list(arbitrary_numbers)) # [27, 216, 729, 1728, 3375, 5832]"
   ]
  },
  {
   "cell_type": "markdown",
   "metadata": {},
   "source": [
    "The expression in arbitrary_numbers can be broken down to 3 parts:\n",
    "\n",
    "    range(1, 21) is an iterable object representing numbers from 1, 2, 3, 4... 19, 20.\n",
    "    filter(lambda num: num % 3 == 0, range(1, 21)) is an iterator for the number sequence 3, 6, 9, 12, 15 and 18.\n",
    "    When they're cubed by the map expression we can get an iterator for the number sequence 27, 216, 729, 1728, 3375 and 5832.\n"
   ]
  },
  {
   "cell_type": "markdown",
   "metadata": {},
   "source": [
    "List Comprehensions\n",
    "\n",
    "A popular Python feature that appears prominently in Functional Programming Languages is list comprehensions. Like the map and filter functions, list comprehensions allow us to modify data in a concise, expressive way.\n",
    "\n",
    "Let's try our previous examples with map and filter with list comprehensions instead:"
   ]
  },
  {
   "cell_type": "code",
   "execution_count": null,
   "metadata": {},
   "outputs": [],
   "source": [
    "# Recall\n",
    "names = ['Shivani', 'Jan', 'Yusef', 'Sakura']\n",
    "# Instead of: map(lambda x: 'Hi ' + x, names), we can do\n",
    "greeted_names = ['Hi ' + name for name in names]\n",
    "\n",
    "print(greeted_names) # ['Hi Shivani', 'Hi Jason', 'Hi Yusef', 'Hi Sakura']\n"
   ]
  },
  {
   "cell_type": "markdown",
   "metadata": {},
   "source": [
    "A basic list comprehensions follows this format: [result for singular-element in list-name].\n",
    "\n",
    "If we'd like to filter objects, then we need to use the if keyword:"
   ]
  },
  {
   "cell_type": "code",
   "execution_count": null,
   "metadata": {},
   "outputs": [],
   "source": [
    "# Recall\n",
    "numbers = [13, 4, 18, 35]\n",
    "# Instead of: filter(lambda num: num % 5 == 0, numbers), we can do\n",
    "div_by_5 = [num for num in numbers if num % 5 == 0]\n",
    "\n",
    "print(div_by_5) # [35]\n",
    "\n",
    "# We can manage the combined case as well:\n",
    "# Instead of: \n",
    "# map(lambda num: num ** 3, filter(lambda num: num % 3 == 0, range(1, 21)))\n",
    "arbitrary_numbers = [num ** 3 for num in range(1, 21) if num % 3 == 0]\n",
    "print(arbitrary_numbers) # [27, 216, 729, 1728, 3375, 5832]"
   ]
  },
  {
   "cell_type": "markdown",
   "metadata": {},
   "source": [
    "Every map and filter expression can be expressed as a list comprehension."
   ]
  },
  {
   "cell_type": "markdown",
   "metadata": {},
   "source": [
    "Some Things to Consider\n",
    "\n",
    "It's well known that the creator of Python, Guido van Rossum, did not intend for Python to have functional features but did appreciate some of the benefits its introduction has brought to the language. He discussed the history of Functional Programming language features in one of his blog posts. As a result, the language implementations have not been optimized for Functional Programming features.\n",
    "\n",
    "Furthermore, the Python developer community does not encourage using the vast array of Functional Programming features. If you were writing code for the global Python community to review, you would write list comprehensions instead of using map or filter. Lambdas would be used minimally as you would name your functions.\n",
    "\n",
    "In your Python interpreter, enter import this and you will see \"The Zen of Python\". Python generally encourages code to be written in the most obvious way possible. Ideally, all code should be written in one way - the community doesn't think it should be in a Functional style."
   ]
  },
  {
   "cell_type": "markdown",
   "metadata": {},
   "source": [
    "Conclusion\n",
    "\n",
    "Functional Programming is a programming paradigm with software primarily composed of functions processing data throughout its execution. Although there's not one singular definition of what is Functional Programming, we were able to examine some prominent features in Functional Languages: Pure Functions, Immutability, and Higher Order Functions.\n",
    "\n",
    "Python allows us to code in a functional, declarative style. It even has support for many common functional features like Lambda Expressions and the map and filter functions.\n",
    "\n",
    "However, the Python community does not consider the use of Functional Programming techniques best practice at all times. Even so, we've learned new ways to solve problems and if needed we can solve problems leveraging the expressivity of Functional Programming."
   ]
  }
 ],
 "metadata": {
  "kernelspec": {
   "display_name": "Python 3",
   "language": "python",
   "name": "python3"
  },
  "language_info": {
   "codemirror_mode": {
    "name": "ipython",
    "version": 3
   },
   "file_extension": ".py",
   "mimetype": "text/x-python",
   "name": "python",
   "nbconvert_exporter": "python",
   "pygments_lexer": "ipython3",
   "version": "3.8.3"
  },
  "varInspector": {
   "cols": {
    "lenName": 16,
    "lenType": 16,
    "lenVar": 40
   },
   "kernels_config": {
    "python": {
     "delete_cmd_postfix": "",
     "delete_cmd_prefix": "del ",
     "library": "var_list.py",
     "varRefreshCmd": "print(var_dic_list())"
    },
    "r": {
     "delete_cmd_postfix": ") ",
     "delete_cmd_prefix": "rm(",
     "library": "var_list.r",
     "varRefreshCmd": "cat(var_dic_list()) "
    }
   },
   "types_to_exclude": [
    "module",
    "function",
    "builtin_function_or_method",
    "instance",
    "_Feature"
   ],
   "window_display": false
  }
 },
 "nbformat": 4,
 "nbformat_minor": 4
}
