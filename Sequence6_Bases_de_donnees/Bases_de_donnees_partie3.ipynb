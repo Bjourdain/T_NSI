{
 "cells": [
  {
   "cell_type": "markdown",
   "metadata": {},
   "source": [
    "# <center><font face=\"arial\" size=\"5\" color=#0101DF>NUMERIQUE ET SCIENCES INFORMATIQUES Terminale NSI</font></center>"
   ]
  },
  {
   "cell_type": "markdown",
   "metadata": {},
   "source": [
    "## <font color=#013ADF>Séquence N° 6 : Bases de données - Structured Query Language (SQL) 3ème partie</font>"
   ]
  },
  {
   "cell_type": "markdown",
   "metadata": {},
   "source": [
    "<div class=\"alert alert-danger\" role=\"alert\">\n",
    "    \n",
    "Les objectifs de cette séquence sont :\n",
    "\n",
    "- Identifier les concepts définissant le modèle relationnel ;\n",
    "- Savoir distinguer la structure d'une base de données de son contenu ;\n",
    "- Repérer des anomalies dans le schéma d'une base de données ;\n",
    "- Identifier les services rendus par un système de gestion de bases de données relationnelles : persistance des données, gestion des accès concurrrents, efficacité de traitemenet des requêtes, sécurisation des accès ;\n",
    "- Identifier les composants d'une requête ;\n",
    "- Construire des requêtes d'interrogation à l'aide des clauses du langage SQL : SELECT, FROM, WHERE, JOIN ;\n",
    "- Construire des requêtes d'insertion et de mise à jour à l'aide de : UPDATE, INSERT, DELETE.\n",
    "\n",
    "\n",
    "</div>"
   ]
  },
  {
   "cell_type": "markdown",
   "metadata": {},
   "source": [
    "### 7- Base de données IMDB : Internet Movie DataBase"
   ]
  },
  {
   "cell_type": "markdown",
   "metadata": {},
   "source": [
    "<div class=\"alert alert-success\">\n",
    "    \n",
    "**Remarque : Ce document est une adaptation du travail de Monsieur Gregory Viateau professeur au Lycée Louis de Foix à Bayonne.(liste NSI)**\n",
    "    \n",
    "https://fr.wikipedia.org/wiki/Internet_Movie_Database\n",
    "\n",
    "Le site imdb.com met des bases de données à disposition :\n",
    "    \n",
    "https://www.imdb.com/interfaces/\n",
    "    \n",
    "https://datasets.imdbws.com/\n",
    "    \n",
    "Ce sont des tables au format tsv (tab-separated values). Un script Python a permis de construire une base de données SQL à partir de ces fichiers.\n",
    "    \n",
    "La base de données résultante faisant 4.3 Go, elle a été réduite à une base de données de 205 Mo à l’aide\n",
    "d’un script SQL supprimant les titres les moins connus.\n",
    "    \n",
    "Compte-tenu de la taille de la base, celle-ci est récupérable sur ONeDrive, dans le répertoire que l'on partage sous le nom de \"imdb.db\".\n",
    "    \n",
    "Voici le schéma relationnel de la base de données.\n",
    "    \n",
    "<img src=\"Images/imdb.png\" alt=\"imdb_db\" width=60% align=center>   \n",
    "    \n",
    "   \n",
    "</div>"
   ]
  },
  {
   "cell_type": "markdown",
   "metadata": {},
   "source": [
    "<div class=\"alert alert-warning\">\n",
    "<img src=\"Images/CR.png\" alt=\"logo CR\" width=5% align=right>\n",
    "\n",
    "**Travail demandé** :\n",
    "<br><br>\n",
    "Avant d'envisager de formuler des requêtes, il est préférable de parcourir les données en utilisant par exemple le site : https://sqliteonline.com/\n",
    "    \n",
    "Ceci étant réalisé, formuler les requêtes SQL permettant de répondre aux questions suivantes :\n",
    "    \n",
    "1- Quels sont les différents types de titres dans cette base de données ?\n",
    "    \n",
    "2- Combien y a-t-il de titre dans cette base de données ?\n",
    "\n",
    "3- En quelle année est sorti le film The Godfather ?\n",
    "\n",
    "4- En quelle année est sorti le premier film Superman ?\n",
    "\n",
    "5- Quel est le titre original du film ‘les dents de la mer’ ?\n",
    "\n",
    "6- Quel est le métier d’Olivier Nakache ?\n",
    "\n",
    "7- Quels sont les films d’Olivier Nakache ?\n",
    "\n",
    "8- Quel est le film ayant recueilli le plus de vote ?\n",
    "\n",
    "9- Qui a écrit le scénario du film Taxi sorti en 1998 ?\n",
    "\n",
    "10- Quelles sont les noms et rôles (category et job) des personnes intervenant dans la production du film Return of the jedi ?\n",
    "\n",
    "11- Quels sont les titres des films notés plus de 9/10 avec plus de 10 000 votes ?\n",
    "\n",
    "12- Quelles sont les 5 comédies romantiques les mieux notées ?\n",
    "\n",
    "13- Quels sont les 10 films d’animation ayant reçu plus de 1 000 votes les mieux notés ?\n",
    "\n",
    "14- Combien de films durent plus de 3 heures ?\n",
    "\n",
    "15- Quelle est la durée moyenne d’un film ?\n",
    "\n",
    "16- Quel est le film le plus long ?\n",
    "\n",
    "17- Quels sont les 5 films les plus long ?\n",
    "\n",
    "18- Quels sont les titres des films les plus connus de Sean Connery ?\n",
    "\n",
    "19- Quels sont les acteurs ayant joué le rôle de James Bond, et dans quels films ?\n",
    "\n",
    "20- Quels sont les réalisateurs ayant fait les cinq films les mieux notés ?\n",
    "\n",
    "21- La base de données est-elle à jour ? L’année de décès de l’acteur Sean Connery a-t-elle était mise à jour (facile pour conclure)?\n",
    "\n",
    "    \n",
    "</div>"
   ]
  }
 ],
 "metadata": {
  "kernelspec": {
   "display_name": "Python 3",
   "language": "python",
   "name": "python3"
  },
  "language_info": {
   "codemirror_mode": {
    "name": "ipython",
    "version": 3
   },
   "file_extension": ".py",
   "mimetype": "text/x-python",
   "name": "python",
   "nbconvert_exporter": "python",
   "pygments_lexer": "ipython3",
   "version": "3.8.3"
  },
  "varInspector": {
   "cols": {
    "lenName": 16,
    "lenType": 16,
    "lenVar": 40
   },
   "kernels_config": {
    "python": {
     "delete_cmd_postfix": "",
     "delete_cmd_prefix": "del ",
     "library": "var_list.py",
     "varRefreshCmd": "print(var_dic_list())"
    },
    "r": {
     "delete_cmd_postfix": ") ",
     "delete_cmd_prefix": "rm(",
     "library": "var_list.r",
     "varRefreshCmd": "cat(var_dic_list()) "
    }
   },
   "types_to_exclude": [
    "module",
    "function",
    "builtin_function_or_method",
    "instance",
    "_Feature"
   ],
   "window_display": false
  }
 },
 "nbformat": 4,
 "nbformat_minor": 2
}
