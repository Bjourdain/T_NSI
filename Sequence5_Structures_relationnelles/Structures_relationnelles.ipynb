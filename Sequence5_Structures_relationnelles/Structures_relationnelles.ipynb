{
 "cells": [
  {
   "cell_type": "markdown",
   "metadata": {},
   "source": [
    "# <center><font face=\"arial\" size=\"5\" color=#0101DF>NUMERIQUE ET SCIENCES INFORMATIQUES Terminale NSI</font></center>"
   ]
  },
  {
   "cell_type": "markdown",
   "metadata": {},
   "source": [
    "## <font color=#013ADF>Séquence N° 5 : Structures de données relationnelles : graphes</font>"
   ]
  },
  {
   "cell_type": "markdown",
   "metadata": {},
   "source": [
    "<div class=\"alert alert-danger\" role=\"alert\">\n",
    "    \n",
    "Les objectifs de cette séquence sont :\n",
    "\n",
    "- Modéliser des situations sous forme de graphes ;\n",
    "- Écrire les implémentations correspondates d'un graphe : matrice d'adjacence, liste de successeurs/ de prédécesseurs ;\n",
    "- Passer d'une représentation à une autre ;\n",
    "- Parcourir un graphe en profondeur d'abord, en largeur d'abord ;\n",
    "- Repérer la présence d'un cycle dans un graphe ;\n",
    "- Chercher un chemin dans un graphe.\n",
    "\n",
    "\n",
    "</div>"
   ]
  },
  {
   "cell_type": "markdown",
   "metadata": {},
   "source": [
    "<div class=\"alert alert-warning\">\n",
    "<img src=\"Images/CR.png\" alt=\"logo CR\" width=5% align=right>\n",
    "    \n",
    "Travail préalable   \n",
    "\n",
    "- Lire les chapitres 3  et 11 (à partir de la page 283) du livre ;\n",
    "- Donner des exemples nécessitant l'utilisation d'une structure de données relationnelles (dans plusieurs domaines)\n",
    "- Pour les exercices suivants, répondre aux questions :\n",
    "    \n",
    "**Exercice 1**\n",
    "\n",
    "<img src=\"Images/exo_graphe1.png\" alt=\"exercice_1\" width=20% align=center>\n",
    "    \n",
    "- Ce graphe est-il connexe ?\n",
    "    \n",
    "- Ce graphe est-il orienté ?\n",
    "\n",
    "- Quel est l'ordre du graphe ?\n",
    "\n",
    "- Quel est le degré de C ?\n",
    "\n",
    "- Quelle est la distance entre A et D ?\n",
    "\n",
    "- Quelle est la longueur de la chaîne EACB ?\n",
    "\n",
    "- DBACD est-il un cycle ? si oui, quelle est sa longueur ?\n",
    "\n",
    "**Exercice 2**\n",
    "\n",
    "<img src=\"Images/exo_graphe2.png\" alt=\"exercice_2\" width=20% align=center>\n",
    "    \n",
    "Quelle est la particularité de ce graphe ?\n",
    "    \n",
    "**Exercice 3**\n",
    "\n",
    "<img src=\"Images/exo_graphe3.png\" alt=\"exercice_3\" width=20% align=center>\n",
    "    \n",
    "Quelle est la particularité de ce graphe ?\n",
    "    \n",
    "**Exercice 4**\n",
    "\n",
    "<img src=\"Images/exo_graphe4.png\" alt=\"exercice_4\" width=20% align=center>\n",
    "    \n",
    "Quelle est la particularité de ce graphe ?\n",
    "    \n",
    "**Exercice 5**\n",
    "\n",
    "- Représenter le graphe correspondant à la matrice d'adjacence suivante. On pourra utiliser un outil en ligne, dont voici le lien : https://graphonline.ru/en/ ou Draw io (plus généraliste) : https://app.diagrams.net/\n",
    "\t\t\t\t\n",
    "$$\n",
    "matrice = \\begin{bmatrix} 0&1&1&0&1 \\\\  1&0&1&1&0 \\\\  1&1&0&1&0 \\\\  0&1&1&0&0 \\\\  1&0&0&0&0 \\end{bmatrix}\n",
    "$$\n",
    "\n",
    "**Exercice 6**\n",
    "    \n",
    "- Représenter la liste d'adjacence du graphe précédent.\n",
    "    \n",
    "**Exercice 7**\n",
    "    \n",
    "<img src=\"Images/exo_graphe7.png\" alt=\"exercice_7\" width=20% align=center>\n",
    "    \n",
    "- Représenter la matrice d'adjacence et la liste d'adjacence du graphe ci-dessus.\n",
    "    \n",
    "**Exercice 8**\n",
    "    \n",
    "<img src=\"Images/oriente_pondere.png\" alt=\"exercice_8\" width=40% align=center>\n",
    "    \n",
    "- Représenter la matrice d'adjacence et la liste d'adjacence du graphe ci-dessus.\n",
    "<div>"
   ]
  },
  {
   "cell_type": "markdown",
   "metadata": {},
   "source": [
    "### 1- Parcours en largeur d'un graphe (ou BFS, pour Breadth First Search en anglais) "
   ]
  },
  {
   "cell_type": "markdown",
   "metadata": {},
   "source": [
    "<div class=\"alert alert-success\">\n",
    "\n",
    "Le graphe ci-après représente un musée, avec différentes pièces, situées au rez-de-chaussée, représentées par des noeuds (A, B, C, D, E et F). Les arêtes représentent les portes et couloirs qui relient les pièces entre-elles.\n",
    "    \n",
    "<img src=\"Images/musee.png\" alt=\"musée\" width=30% align=center>   \n",
    "    \n",
    "\n",
    "**Problématique :**\n",
    "\n",
    "Je suis chargé de faire un marquage, dans chaque salle, pour indiquer le chemin le plus court (nombre de pièces traversées) pour sortir du musée (évacuation d'urgence). L'entrée et la sortie du musée s'effectue par  la pièce A. \n",
    "\n",
    "- Par exemple, quelle direction dois-je indiquer dans la salle F  (vers C ou vers E) ?  \n",
    "    \n",
    "Avant de répondre à la problématique, une autre question se pose (c'est peut-être un peu tard pour l'architecte) :\n",
    "\n",
    "- Peut-on atteindre toutes les pièces du musée ?\n",
    "\n",
    "Pour répondre à cette seconde question, nous allons réaliser un **parcours en largeur du graphe**.\n",
    "\n",
    "Le parcours en largeur d'un graphe est similaire au parcours en largeur  d'un arbre. La seule différence est que les graphes peuvent contenir des cycles. Pour éviter de  traiter un noeud plusieurs fois, nous mémoriserons les noeuds visités.\n",
    "\n",
    "Dans un parcours en largeur, tous les noeuds à une profondeur **i** doivent avoir été visités avant que le premier noeud à la profondeur **i+1** ne soit visité. Un tel parcours nécessite l’utilisation d’une **file**  d’attente pour se \"souvenir\" des branches qui restent à visiter.   \n",
    "    \n",
    "    \n",
    "<div>"
   ]
  },
  {
   "cell_type": "markdown",
   "metadata": {},
   "source": [
    "<div class=\"alert alert-warning\">\n",
    "<img src=\"Images/CR.png\" alt=\"logo CR\" width=5% align=right>\n",
    "    \n",
    "- Représenter la matrice d'adjacence du graphe représentant le musée.\n",
    "<div>"
   ]
  },
  {
   "cell_type": "markdown",
   "metadata": {},
   "source": [
    "<div class=\"alert alert-success\">\n",
    "<img src=\"Images/warning.png\" alt=\"warning\" width=5% align=left>\n",
    "    \n",
    "*Principe de l'algorithme* :\n",
    "\n",
    "1. On enfile le sommet de départ ;\n",
    "2. On enfile les sommets adjacents à la tête de file et on visite les noeuds  s'ils n'ont pas été déjà visités ;\n",
    "3. On défile (on enlève la tête de file) ;\n",
    "4. Tant que la file n'est pas vide, on ré-itère les points 2 et 3.\n",
    "<div>"
   ]
  },
  {
   "cell_type": "markdown",
   "metadata": {},
   "source": [
    "<div class=\"alert alert-warning\">\n",
    "<img src=\"Images/CR.png\" alt=\"logo CR\" width=5% align=right>\n",
    "    \n",
    "*Pour notre graphe* : Commençons par le sommet A qui est l'entrée \n",
    "\n",
    "| QUEUE DE LA FILE <- État de la file  -> TÊTE DE LA FILE | Défiler | Remarque                |\n",
    "| :-----------------------------------------------------: | :-----: | ----------------------- |\n",
    "|                                                        |         |                         |\n",
    "|                                                    |         |                         |\n",
    "|                                                     |         |                         |\n",
    "|                                                  |         |       |\n",
    "|                                                       |         |                         |\n",
    "|                                                     |         |         |\n",
    "|                                                     |         |                         |\n",
    "|                                                     |         |       |\n",
    "|                                                      |         |                         |\n",
    "|                                                        |         |  |\n",
    "|                                                         |         |                         |\n",
    "|                                                       |         |  |\n",
    "|                                                     |         |                         |\n",
    "<div>"
   ]
  },
  {
   "cell_type": "markdown",
   "metadata": {},
   "source": [
    "<div class=\"alert alert-warning\">\n",
    "<img src=\"Images/CR.png\" alt=\"logo CR\" width=5% align=right>\n",
    "    \n",
    "- Implémenter l'algorithme proposé à partir de la matrice d'adjacence du graphe représentant le musée.\n",
    "    \n",
    "*Remarque* : À titre personnel, je trouve peu lisible des sommets numérotés de 0 à 5, aussi j'ai utilisé un dictionnaire prenant pour clé le numéro du sommet et pour valeur la lettre correspondante. En fin de traitement, avant de renvoyer le parcours, je convertis les clés en valeur en compréhension de liste.\n",
    "<div>"
   ]
  },
  {
   "cell_type": "code",
   "execution_count": null,
   "metadata": {},
   "outputs": [],
   "source": [
    "import file  # utilisation de la file créée précédemment\n",
    "\n",
    "def parcours_largeur(matrice, sommet):\n",
    "    pass\n",
    " \n",
    "\n",
    "matrice_adj = [[0, 0, 0, 0, 0, 0],\n",
    "               [0, 0, 0, 0, 0, 0],\n",
    "               [0, 0, 0, 0, 0, 0],\n",
    "               [0, 0, 0, 0, 0, 0],\n",
    "               [0, 0, 0, 0, 0, 0],\n",
    "               [0, 0, 0, 0, 0, 0]\n",
    "              ]\n",
    "\n",
    "\n",
    "file=file.File()\n",
    "test=parcours_largeur(matrice_adj,0)\n",
    "print(test)"
   ]
  },
  {
   "cell_type": "markdown",
   "metadata": {},
   "source": [
    "<div class=\"alert alert-warning\">\n",
    "<img src=\"Images/CR.png\" alt=\"logo CR\" width=5% align=right>\n",
    "    \n",
    "- Représenter la liste d'adjacence du graphe représentant le musée.\n",
    "- Ré-écrire l'implémentation du parcours en largeur.\n",
    "<div>"
   ]
  },
  {
   "cell_type": "code",
   "execution_count": null,
   "metadata": {},
   "outputs": [],
   "source": [
    "import file\n",
    "\n",
    "\n",
    "def parcours_largeur(graphe, sommet):\n",
    "    pass\n",
    " \n",
    "\n",
    "# Graphe implémenté par un dictionnaire\n",
    "graphe = {'A': ['-', '-'],\n",
    "          'B': ['-', '-', '-'],\n",
    "          'C': ['-', '-'],\n",
    "          'D': ['-'],\n",
    "          'E': ['-', '-'],\n",
    "          'F': ['-', '-']}\n",
    "\n",
    "file=file.File()\n",
    "test=parcours_largeur(graphe,'A')\n",
    "print(test)"
   ]
  },
  {
   "cell_type": "markdown",
   "metadata": {},
   "source": [
    "<div class=\"alert alert-success\">\n",
    "    \n",
    "Il a été décidé d'entrependre une rénovation dans le couloir FE. Celui-ci est inaccessible durant ces travaux.\n",
    "\n",
    "- Peux-t-on visiter toutes les salles du musée durant les travaux ? \n",
    "\n",
    "Si l'on supprime l'arête 'FE', le graphe devient un **arbre**. Il s'agit d'un arbre couvrant donc l'ensemble des salles est visitable.\n",
    "<br><br>\n",
    "\n",
    "**Revenons à notre problématique :**\n",
    "- Par exemple, quelle direction dois-je indiquer dans la salle F  (vers C ou vers E) ?\n",
    "    \n",
    "Il nous faut indiquer les sommets de départ et d'arrivée dans notre programme et trouver le plus court chemin (nombre de salles traversées minimal ou on peu imaginer que le poids de chaque arète est 1).\n",
    "\n",
    "<div>"
   ]
  },
  {
   "cell_type": "markdown",
   "metadata": {},
   "source": [
    "<div class=\"alert alert-warning\">\n",
    "<img src=\"Images/CR.png\" alt=\"logo CR\" width=5% align=right>\n",
    "    \n",
    "- Reprendre le programme précédent, pour le modifier de sorte qu'il indique le chemin le plus court entre 2 sommets.\n",
    "<div>"
   ]
  },
  {
   "cell_type": "code",
   "execution_count": null,
   "metadata": {},
   "outputs": [],
   "source": [
    "import file\n",
    "\n",
    "\n",
    "def chemin_plus_court_bfs(graphe, depart, destination):\n",
    "    pass\n",
    " \n",
    "    # Dans le cas où le graphe n'est pas connexe\n",
    "    return \"Aucun chemin n'a été trouvé :-(\"\n",
    "\n",
    "file=file.File()\n",
    "# Graphe implémenté par un dictionnaire\n",
    "graphe = ...\n",
    "\n",
    "test=chemin_plus_court_bfs(graphe, 'A', 'F') # chemin le plus court\n",
    "print(test)"
   ]
  },
  {
   "cell_type": "markdown",
   "metadata": {},
   "source": [
    "<div class=\"alert alert-success\">\n",
    "    \n",
    "Une autre question se pose ! \n",
    "\n",
    "- Peut-t-on errer dans le musée indéfiniment ?\n",
    "\n",
    "Autrement dit, y a-t-il un cycle dans le graphe  ?\n",
    "    \n",
    "Vous allez créer une classe **Graphe** qui vérifiera cette question également.\n",
    "<div>"
   ]
  },
  {
   "cell_type": "markdown",
   "metadata": {},
   "source": [
    "<div class=\"alert alert-warning\">\n",
    "<img src=\"Images/CR.png\" alt=\"logo CR\" width=5% align=right>\n",
    "\n",
    "On va profiter de cette nouvelle version d'implémentation pour vérifier si le graphe possède un cycle ou non.\n",
    "    \n",
    "On pourrait imaginer faire une classe Graphe. La première idée qui vient à l'esprit, compte-tenu de ce que l'on a pu faire auparavent, est de créer des sommets. La difficulté vient alors du degré du sommet qui peut prendre n'importe quelle valeur. Pourquoi ne pas ajouter des arêtes entre les neouds ?\n",
    "\n",
    "- Implémenter une classe **Graphe** qui comportera 3 méthodes :\n",
    "    - La méthode spéciale `__init__`qui créra un dictionnaire qui contiendra les adjacences ;\n",
    "    - La méthode **ajoute_arete** qui porte bien son nom et prendra pour argument 2 sommets ;\n",
    "    - La méthode **parcours_largeur** qui prendra en argument le sommet de départ et renverra la liste des sommets parcourus, ainsi que True si le graphe contient un cycle,  False sinon.\n",
    "    \n",
    "*Remarque* : les 2 méthodes `__init__`et **ajoute_arete** créent une liste d'adjacences !\n",
    "<div>"
   ]
  },
  {
   "cell_type": "code",
   "execution_count": null,
   "metadata": {},
   "outputs": [],
   "source": [
    "import file\n",
    "\n",
    "# représentation d'un graphe à l'aide de liste d'adjacence\n",
    "class Graphe:\n",
    "  \n",
    "    def __init__(self):\n",
    "        pass\n",
    "  \n",
    "    # Ajouter une arête entre deux sommets\n",
    "    def ajoute_arete(self, s1, s2):\n",
    "        pass\n",
    "  \n",
    "    # Parcours en largeur\n",
    "    def parcours_largeur(self, sommet):\n",
    "        pass\n",
    "\n",
    "file=file.File()\n",
    "graphe = Graphe()\n",
    "graphe.ajoute_arete('-', '-')\n",
    "...\n",
    "\n",
    "  \n",
    "print(\"Parcours en largeur à partir du sommet A\")\n",
    "graphe.parcours_largeur('A')"
   ]
  },
  {
   "cell_type": "markdown",
   "metadata": {},
   "source": [
    "### 2- Parcours en profondeur d'un graphe (ou DFS, pour Depth-First Search en anglais)"
   ]
  },
  {
   "cell_type": "markdown",
   "metadata": {},
   "source": [
    "<div class=\"alert alert-success\">\n",
    "    \n",
    "**Problématique :**\n",
    "\n",
    "La problématique est simple dans un labyrinthe inconnu, récupérer le trésor (noeud 18) et ressortir.\n",
    "\n",
    "\n",
    "Pour mener à bien notre mission, on va utiliser une technique de parcours différente de la précédente : **le parcours en profondeur**.\n",
    "\n",
    "Il permet de parcourir un graphe en  visitant les nœuds du graphe les plus \"profonds\" en premier, c'est-à-dire les plus éloignés du nœud de départ, avant de \"remonter\"  progressivement dans le graphe.\n",
    "\n",
    "Dans notre cas du labyrinthe, on essaie un chemin jusqu'à être  bloqué, puis on revient à la dernière intersection, on continue jusqu'à  être bloqué, on revient à la dernière intersection, etc. jusqu'à tomber  sur la sortie.\n",
    "\n",
    "On va utiliser une **pile** pour parcourir l'arbre.\n",
    "\n",
    "<img src=\"Images/labyrinthe.png\" alt=\"Chasse au trésor\" width=60% align=center>\n",
    "    \n",
    "    \n",
    "<div>"
   ]
  },
  {
   "cell_type": "markdown",
   "metadata": {},
   "source": [
    "<div class=\"alert alert-success\">\n",
    "<img src=\"Images/warning.png\" alt=\"warning\" width=5% align=left>\n",
    "    \n",
    "*Principe de l'algorithme* :\n",
    "\n",
    "1. On empile le sommet de départ ;\n",
    "\n",
    "2. Si le sommet de la pile possède des voisins qui ne sont pas dans la pile, ni déjà passés dans la pile\n",
    "\n",
    "   - Alors on sélectionne l'un de ces voisins et on l'empile ;\n",
    "\n",
    "   - Sinon on dépile ;\n",
    "\n",
    "3. On recommence au point 2 tant que la pile n'est pas vide.\n",
    "<div>"
   ]
  },
  {
   "cell_type": "markdown",
   "metadata": {},
   "source": [
    "<div class=\"alert alert-warning\">\n",
    "<img src=\"Images/CR.png\" alt=\"logo CR\" width=5% align=right>\n",
    "\n",
    "*Pour notre arbre* : Commençons par le noeud 1 qui est l'entrée \n",
    "\n",
    "| État de la pile  -> SOMMET DE LA PILE |   Dépiler   |\n",
    "| :-----------------------------------: | :---------: |\n",
    "|                                     |             |\n",
    "|                                  |             |\n",
    "|                           |             |\n",
    "|                     |             |\n",
    "|                         |          |\n",
    "|                         |           |\n",
    "|                          |             |\n",
    "|                 |             |\n",
    "|                   |          |\n",
    "|                     |           |\n",
    "|                     |           |\n",
    "|                     |             |\n",
    "|                   |  |\n",
    "|                      |           |\n",
    "|                   |             |\n",
    "|                |             |\n",
    "|                   |         |\n",
    "|                |             |\n",
    "|            |             |\n",
    "|        |             |\n",
    "<div>"
   ]
  },
  {
   "cell_type": "markdown",
   "metadata": {},
   "source": [
    "<div class=\"alert alert-warning\">\n",
    "<img src=\"Images/CR.png\" alt=\"logo CR\" width=5% align=right>\n",
    "    \n",
    "- Implémenter l'algorithme proposé  à partir de la liste d'adjacence du graphe représentant le labyrinthe.\n",
    "    \n",
    "<div>"
   ]
  },
  {
   "cell_type": "code",
   "execution_count": null,
   "metadata": {},
   "outputs": [],
   "source": [
    "import pile\n",
    "\n",
    "def parcours_profondeur(graphe, noeud):\n",
    "    pass\n",
    "\n",
    "graphe = {'1': ['2'],\n",
    "          '2': ['3'],\n",
    "          '3': ['4'],\n",
    "          '4': ['5'],\n",
    "          '5': ['6'],\n",
    "          '6': ['7','9'],\n",
    "          '7': ['8'],\n",
    "          '8': [],\n",
    "          '9': ['10'],\n",
    "          '10': ['11','14'],\n",
    "          '11': ['12','13'],\n",
    "          '12': [],\n",
    "          '13': [],\n",
    "          '14': ['15','16'],\n",
    "          '15': [],\n",
    "          '16': ['17','18'],\n",
    "          '17': [],\n",
    "          '18': ['19'],\n",
    "          '19': ['20'],\n",
    "          '20': []\n",
    "         }\n",
    "\n",
    "pile=pile.Pile()\n",
    "test=parcours_profondeur(graphe, '1') \n",
    "print(test)\n"
   ]
  },
  {
   "cell_type": "markdown",
   "metadata": {},
   "source": [
    "<div class=\"alert alert-warning\">\n",
    "<img src=\"Images/CR.png\" alt=\"logo CR\" width=5% align=right>\n",
    "    \n",
    "- Implémenter une classe **Graphe** qui comportera 3 méthodes :\n",
    "    - La méthode spéciale `__init__`qui créra un dictionnaire qui contiendra les adjacences ;\n",
    "    - La méthode **ajoute_arete** qui porte bien son nom et prendra pour argument 2 sommets ;\n",
    "    - La méthode **parcours_profondeur** qui prendra en argument le sommet de départ, ainsi que la liste des sommets visités initialisé à **None** et renverra la liste des sommets parcourus. Cette méthode sera récursive.\n",
    "<div>   "
   ]
  },
  {
   "cell_type": "code",
   "execution_count": null,
   "metadata": {},
   "outputs": [],
   "source": [
    "class Graphe:\n",
    "    def __init__(self):\n",
    "        pass\n",
    "  \n",
    "    # Ajouter une arête entre deux sommets\n",
    "    def ajoute_arete(self, s1, s2):\n",
    "        pass\n",
    "  \n",
    "    # Parcours en profondeur\n",
    "    def parcours_profondeur(self, noeud, visites=None):\n",
    "        pass\n",
    "  \n",
    "graphe = Graphe()\n",
    "graphe.ajoute_arete(1, 2)\n",
    "...\n",
    "\n",
    "  \n",
    "\n",
    "print(\"Parcours en profondeur à partir du sommet 1\")\n",
    "test=graphe.parcours_profondeur(1)\n",
    "print(test)"
   ]
  }
 ],
 "metadata": {
  "kernelspec": {
   "display_name": "Python 3",
   "language": "python",
   "name": "python3"
  },
  "language_info": {
   "codemirror_mode": {
    "name": "ipython",
    "version": 3
   },
   "file_extension": ".py",
   "mimetype": "text/x-python",
   "name": "python",
   "nbconvert_exporter": "python",
   "pygments_lexer": "ipython3",
   "version": "3.6.10"
  },
  "varInspector": {
   "cols": {
    "lenName": 16,
    "lenType": 16,
    "lenVar": 40
   },
   "kernels_config": {
    "python": {
     "delete_cmd_postfix": "",
     "delete_cmd_prefix": "del ",
     "library": "var_list.py",
     "varRefreshCmd": "print(var_dic_list())"
    },
    "r": {
     "delete_cmd_postfix": ") ",
     "delete_cmd_prefix": "rm(",
     "library": "var_list.r",
     "varRefreshCmd": "cat(var_dic_list()) "
    }
   },
   "types_to_exclude": [
    "module",
    "function",
    "builtin_function_or_method",
    "instance",
    "_Feature"
   ],
   "window_display": false
  }
 },
 "nbformat": 4,
 "nbformat_minor": 2
}
