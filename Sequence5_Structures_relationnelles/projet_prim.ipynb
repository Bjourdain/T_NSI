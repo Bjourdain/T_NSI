{
 "cells": [
  {
   "cell_type": "markdown",
   "metadata": {},
   "source": [
    "# <center><font face=\"arial\" size=\"5\" color=#0101DF>NUMERIQUE ET SCIENCES INFORMATIQUES Terminale NSI</font></center>"
   ]
  },
  {
   "cell_type": "markdown",
   "metadata": {},
   "source": [
    "## <font color=#013ADF>Séquence N° 4 : Projet \"Arbre couvrant de poids minimum - Algorithme de PRIM\"</font>"
   ]
  },
  {
   "cell_type": "markdown",
   "metadata": {},
   "source": [
    "<div class=\"alert alert-success\">\n",
    "    \n",
    "Une companie de télécomunication veut déployer la fibre (optique) dans tous les bâtiments d'un nouveau quartier. Pour éviter des câbles aériens disgracieux, la municipalité impose d'enterrer tous les câbles.\n",
    "\n",
    "La seule solution est de creuser des tranchées le long des routes existantes. Des boitiers d'interconnection seront placés aux intersections des routes.\n",
    "\n",
    "**Problématique** :\n",
    "\n",
    "Comment minimiser le coût de l'installation ?\n",
    "\n",
    "Il s'agit de trouver un chemin passant par tous les bâtiments de longueur minimale.\n",
    "\n",
    "Si on modélise notre problème par un graphe, où les boitiers d'interconnection sont les sommets et où les routes sont les arêtes, le problème consiste à **trouver un arbre couvrant de poids minimal** (Minimum Spanning Tree en anglais).\n",
    "- arbre couvrant : arbre contenant tous les sommets ;\n",
    "- poids minimal : somme des arêtes de longueur minimale.\n",
    "\n",
    "Deux algorithmes majeurs sont capables de résoudre ce problème :\n",
    "- algorithme de Kruskal ;\n",
    "- algorithme de Prim.\n",
    "\n",
    "\n",
    "C'est ce second algorithme que l'on vous demande d'implémenter sur le graphe fourni.\n",
    "<div>"
   ]
  },
  {
   "cell_type": "markdown",
   "metadata": {},
   "source": [
    "### Travail demandé"
   ]
  },
  {
   "cell_type": "markdown",
   "metadata": {},
   "source": [
    "<div class=\"alert alert-warning\">\n",
    "<img src=\"Images/CR.png\" alt=\"logo CR\" width=5% align=right>\n",
    "    \n",
    "- Visionner la vidéo (https://www.youtube.com/watch?v=I0uiQyAs5G4) et répondre aux questions suivantes :\n",
    "    - Quelques sont les pré-conditions à l'usage de l'algorithme de Prim ?\n",
    "    - Expliquer pourquoi l'algorithme de Prim est qualifié de glouton ?\n",
    "    - L'algorithme réalise-t-il un parcours en largeur ou en profondeur ?\n",
    "- Implémenter l'algorithme sur le graphe fourni ci-dessous en utilisant une liste d'adjacence.\n",
    "\n",
    "<img src=\"Images/prim.png\" alt=\"warning\" width=50% align=center>\n",
    "<div>"
   ]
  },
  {
   "cell_type": "code",
   "execution_count": null,
   "metadata": {},
   "outputs": [],
   "source": []
  }
 ],
 "metadata": {
  "kernelspec": {
   "display_name": "Python 3",
   "language": "python",
   "name": "python3"
  },
  "language_info": {
   "codemirror_mode": {
    "name": "ipython",
    "version": 3
   },
   "file_extension": ".py",
   "mimetype": "text/x-python",
   "name": "python",
   "nbconvert_exporter": "python",
   "pygments_lexer": "ipython3",
   "version": "3.8.3"
  },
  "varInspector": {
   "cols": {
    "lenName": 16,
    "lenType": 16,
    "lenVar": 40
   },
   "kernels_config": {
    "python": {
     "delete_cmd_postfix": "",
     "delete_cmd_prefix": "del ",
     "library": "var_list.py",
     "varRefreshCmd": "print(var_dic_list())"
    },
    "r": {
     "delete_cmd_postfix": ") ",
     "delete_cmd_prefix": "rm(",
     "library": "var_list.r",
     "varRefreshCmd": "cat(var_dic_list()) "
    }
   },
   "types_to_exclude": [
    "module",
    "function",
    "builtin_function_or_method",
    "instance",
    "_Feature"
   ],
   "window_display": false
  }
 },
 "nbformat": 4,
 "nbformat_minor": 4
}
