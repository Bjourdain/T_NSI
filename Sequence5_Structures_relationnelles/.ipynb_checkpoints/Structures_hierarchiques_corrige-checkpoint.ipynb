{
 "cells": [
  {
   "cell_type": "markdown",
   "metadata": {},
   "source": [
    "# <center><font face=\"arial\" size=\"5\" color=#0101DF>NUMERIQUE ET SCIENCES INFORMATIQUES Terminale NSI</font></center>"
   ]
  },
  {
   "cell_type": "markdown",
   "metadata": {},
   "source": [
    "## <font color=#013ADF>Séquence N° 5 : Structures relationnelles : graphes</font>"
   ]
  },
  {
   "cell_type": "markdown",
   "metadata": {},
   "source": [
    "<div class=\"alert alert-danger\" role=\"alert\">\n",
    "    \n",
    "Les objectifs de cette séquence sont :\n",
    "\n",
    "- Modéliser des situations sous forme de graphes ;\n",
    "- Écrire les implémentations correspondates d'un graphe : matrice d'adjacence, liste de successeurs/ de prédécesseurs ;\n",
    "- Passer d'une représentation à une autre ;\n",
    "- Parcourir un graphe en profondeur d'abord, en largeur d'abord ;\n",
    "- Repérer la précence d'un cycle dans un graphe ;\n",
    "- Chercher un chemin dans un graphe.\n",
    "\n",
    "\n",
    "</div>"
   ]
  },
  {
   "cell_type": "markdown",
   "metadata": {},
   "source": [
    "<div class=\"alert alert-warning\">\n",
    "<img src=\"Images/CR.png\" alt=\"logo CR\" width=5% align=right>\n",
    "    \n",
    "Travail préalable   \n",
    "\n",
    "- Lire les chapitres 2  et 11 (pages 276 à 282) du livre ;\n",
    "- Donner des exemples nécessitant l'utilisation d'une structure de données arborescente (dans plusieurs domaines)\n",
    "\n",
    "Pour l'arbre suivant, indiquez :\n",
    "\n",
    "<img src=\"Images/def_arbre.png\" alt=\"arbre\" width=40% align=center>\n",
    "    \n",
    "- La clé du noeud \"racine\" ;\n",
    "- La clé des noeuds \"feuille\" de l'arbre ;\n",
    "- Le prédécesseur du noeud 7 ;\n",
    "- Un successeur du noeud 7 ;\n",
    "- Sa taille ;\n",
    "- Sa hauteur ;\n",
    "- S'il s'agit d'un arbre binaire ?\n",
    "- Donner la liste des noeuds rencontrés dans un parcours :\n",
    "    - En largeur ;\n",
    "    - En profondeur :\n",
    "        - Parcours préfixe ;\n",
    "        - Parcours suffixe (ou postfixe) ;\n",
    "        - Parcours infixe\n",
    "<div>"
   ]
  },
  {
   "cell_type": "markdown",
   "metadata": {},
   "source": [
    "<div class=\"alert alert-danger\" role=\"alert\">\n",
    "\n",
    "Arbre généalogique, hiérarchie administrative, arbre lexicographique, arbre syntaxique, tournoi sportif ...\n",
    "    \n",
    "Noeud \"racine\" : 0\n",
    "\n",
    "Noeuds \"feuille\" :9, 2, 6, 12, 13, 14\n",
    "\n",
    "Prédécesseur du noeud 7 : 3\n",
    "\n",
    "Successeur du noeud 7 : 12 ou 13\n",
    "\n",
    "Taille de l'arbre : 18\n",
    "\n",
    "Hauteur de l'arbre : 4\n",
    "\n",
    "Ce n'est pas un arbre binaire car le noeud 3 à 3 successeurs\n",
    "\n",
    "Parcours en largeur → niveau par niveau : 0, 1, 2, 3, 4, 5, 6, 7, 8, 9, 10, 11, 12, 13, 14, 15, 16, 17\n",
    "\n",
    "Parcours en profondeur :\n",
    "\n",
    "**Dans un parcours prefixe, chaque nœud est visite avant que ses enfants soient visites. (Racine Gauche Droite)**\n",
    "\n",
    "préfixe → 0, 1, 4, 9, 5, 10, 15, 11, 16, 17, 2, 3, 6, 7, 12, 13, 8, 14\n",
    "\n",
    "**Dans un parcours postfixe (ou suffixe), chaque nœud est visite après que ses enfants soient visites.(GDR)**\n",
    "\n",
    "suffixe → 9, 4, 15, 10, 16, 17, 11, 5, 1, 2, 6, 12, 13, 7, 14, 8, 3, 0\n",
    "\n",
    "**Dans un parcours infixe, chaque nœud est visité apres son enfant gauche mais avant son enfant droit. (GRD**\n",
    "\n",
    "infixe → 9, 4, 1, 15, 10, 5, 16, 11, 17, 2, 6, 3, 12, 7, 13, 8, 14\n",
    "    \n",
    "<div>"
   ]
  },
  {
   "cell_type": "markdown",
   "metadata": {},
   "source": [
    "<div class=\"alert alert-warning\">\n",
    "<img src=\"Images/CR.png\" alt=\"logo CR\" width=5% align=right>\n",
    "    \n",
    "Un autre exemple avant que vous ne me posiez la question : un arbre syntaxique.\n",
    "\n",
    "<img src=\"Images/arbre_syntaxique.png\" alt=\"arbre\" width=30% align=center>\n",
    " \n",
    "- Parcours infixe ?\n",
    "- Parcours préfixe ?\n",
    "- Parcours suffixe ?"
   ]
  },
  {
   "cell_type": "markdown",
   "metadata": {},
   "source": [
    "<div class=\"alert alert-danger\" role=\"alert\">\n",
    "    \n",
    "- Parcours infixe → 2  * (3 + 7) : en respectant les priorités 3+7 =10, 10 * 2 = 20 (noeuds en ordre croissant dans un ABR)\n",
    "- Parcours préfixe → * 2 + 3 7 : pour une copie de l'arbre (arborescence informatique !)\n",
    "- Parcours suffixe → 2 3 7 + * : notation polonaise inverse 3+7 = 10, 10 * 2 = 20, pour supprimer l'arbre (informatique OS)\n",
    "    \n",
    "    Principe NPI :\n",
    "    - on empile les nombres ;\n",
    "    - Lorsque l'on rencontre un opérateur, on dépile les 2 dernières valeurs et on fait l'opération ;\n",
    "    - On emplile le résultat ;\n",
    "    - On recommence tant que la pile n'est pas vide. \n",
    "<div>"
   ]
  },
  {
   "cell_type": "markdown",
   "metadata": {},
   "source": [
    "### 1- Les arbres binaires"
   ]
  },
  {
   "cell_type": "markdown",
   "metadata": {},
   "source": [
    "<img src=\"Images/arbre_binaire.png\" alt=\"arbre_binaire\" width=30% align=left>\n",
    "<img src=\"Images/recursion.png\" alt=\"def_recursif\" width=30% align=right>"
   ]
  },
  {
   "cell_type": "markdown",
   "metadata": {},
   "source": [
    "<div class=\"alert alert-warning\">\n",
    "<img src=\"Images/CR.png\" alt=\"logo CR\" width=5% align=right>\n",
    "    \n",
    "Travail préalable\n",
    "\n",
    "- Rappeler ici ce qu'est un arbre binaire ?\n",
    "- Donner une défintion récursive d'un arbre.\n",
    "<div>"
   ]
  },
  {
   "cell_type": "markdown",
   "metadata": {},
   "source": [
    "<div class=\"alert alert-danger\" role=\"alert\">\n",
    "\n",
    "Un arbre binaire est constitué de noeuds ne pouvant avoir que 0, 1 ou 2 enfants.\n",
    "\n",
    "Un arbre est constitué d'un noeud (racine) et d'une suite de sous-arbres qui sont les fils du noeud racine.\n",
    "    \n",
    "Ou encore :\n",
    "\n",
    "Un arbre est soit :\n",
    "- vide\n",
    "- contient une clé et un ou plusieurs arbres\n",
    "    \n",
    "<div>"
   ]
  },
  {
   "cell_type": "markdown",
   "metadata": {},
   "source": [
    "<img src=\"Images/arbre_binaire_2.png\" alt=\"arbre_binaire\" width=30% align=left>\n",
    "\n",
    "Voici une première représentation de cet arbre binaire.\n",
    "\n",
    "Observer attentivement les appels récursifs de la méthode **afficher** : Quelles sont les conditions d'arrêt ?"
   ]
  },
  {
   "cell_type": "code",
   "execution_count": null,
   "metadata": {},
   "outputs": [],
   "source": [
    "class Noeud:\n",
    "\n",
    "    def __init__(self,cle:str):\n",
    "      self.fils_gauche = None\n",
    "      self.fils_droit = None\n",
    "      self.cle = cle\n",
    "    \n",
    "    def afficher(self, level=0):\n",
    "        if self.fils_droit:\n",
    "            self.fils_droit.afficher(level + 1)\n",
    "        print(f\"{' ' * 4 * level}{self.cle}\")\n",
    "        if self.fils_gauche:\n",
    "            self.fils_gauche.afficher(level + 1)\n",
    "\n",
    "if __name__=='__main__':\n",
    "    n1 = Noeud('r')\n",
    "    n2 = Noeud('a')\n",
    "    n3 = Noeud('b')\n",
    "    n4 = Noeud('c')\n",
    "    n5 = Noeud('d')\n",
    "    n1.fils_gauche = n2\n",
    "    n1.fils_droit = n3\n",
    "    n3.fils_gauche = n4\n",
    "    n3.fils_droit = n5\n",
    "    n1.afficher()"
   ]
  },
  {
   "cell_type": "markdown",
   "metadata": {},
   "source": [
    "Voici une seconde représentation avec une liste d'adjacence dans un dictionnaire :"
   ]
  },
  {
   "cell_type": "code",
   "execution_count": null,
   "metadata": {},
   "outputs": [],
   "source": [
    "arbre = { 'r' : ['a','b'], 'a' : [None,None],'b' : ['c','d'], 'c' : [None,None], 'd' : [None,None]}"
   ]
  },
  {
   "cell_type": "markdown",
   "metadata": {},
   "source": [
    "<div class=\"alert alert-warning\">\n",
    "<img src=\"Images/CR.png\" alt=\"logo CR\" width=5% align=right>\n",
    "    \n",
    "Travail demandé\n",
    "\n",
    "En s'inspirant des algorithmes **récursifs**  proposés dans le livre :\n",
    "\n",
    "- Créer une fonction qui détermine la hauteur\n",
    "- Créer une fonction qui détermine la taille\n",
    "- Créer une fonction qui réalise un parcours en profondeur préfixe\n",
    "- Créer une fonction qui réalise un parcours en profondeur infixe\n",
    "- Créer une fonction qui réalise un parcours en profondeur suffixe (postfixe)\n",
    "\n",
    "    \n",
    "En utilisant une structure **file** :\n",
    "    \n",
    "- Créer une fonction qui réalise un parcours en largeur\n",
    "<div>"
   ]
  },
  {
   "cell_type": "markdown",
   "metadata": {},
   "source": [
    "## Solution possible"
   ]
  },
  {
   "cell_type": "code",
   "execution_count": null,
   "metadata": {},
   "outputs": [],
   "source": [
    "def hauteur(arbre:dict, noeud:str='r')->int:\n",
    "    \"\"\"\n",
    "    hauteur d'un arbre non vide\n",
    "    \"\"\"\n",
    "    if arbre[noeud][0] == None and arbre[noeud][1] == None :\n",
    "        return 0\n",
    "    elif arbre[noeud][0] == None :\n",
    "        return 1 + hauteur(arbre, arbre[noeud][1])\n",
    "    elif arbre[noeud][1] == None :\n",
    "        return 1 + hauteur(arbre, arbre[noeud][0])\n",
    "    else :\n",
    "        return 1 + max( hauteur(arbre, arbre[noeud][0]), hauteur(arbre, arbre[noeud][1]) )\n",
    "\n",
    "def taille(arbre:dict, noeud:str='r')->int:\n",
    "    if arbre[noeud][0] == None and arbre[noeud][1] == None :\n",
    "        return 0\n",
    "    else:\n",
    "        return 1 + taille(arbre,arbre[noeud][0]) + taille(arbre,arbre[noeud][1])\n",
    "    \n",
    "def parcours_largeur(arbre:dict, noeud:str='r')->list:\n",
    "    # Garde trace de tous les noeuds visités\n",
    "    visites = []\n",
    "    # Garde trace de tous les neouds devant être vérifiés\n",
    "    file = [noeud]\n",
    "    # Boucle tant que tous les neouds n'ont pas été vérifiés\n",
    "    while file :\n",
    "        # récupère le premier élément de la file\n",
    "        noeud = file .pop(0)\n",
    "        if noeud not in visites:\n",
    "            # ajout du noeud dans la liste des visités\n",
    "            visites.append(noeud)\n",
    "            # création d'une liste de noeuds voisins non visités au noeud courant\n",
    "            # et ajout dans la file\n",
    "            for voisin in arbre[noeud] :\n",
    "                if voisin not in visites and voisin !=None:\n",
    "                    file.append(voisin)\n",
    "    return visites\n",
    "\n",
    "def parcours_prefixe(arbre:dict, noeud:str='r', lst=[])-> list :\n",
    "    if(noeud != None) :\n",
    "        lst.append(noeud)\n",
    "        parcours_prefixe(arbre, arbre[noeud][0])\n",
    "        parcours_prefixe(arbre, arbre[noeud][1])\n",
    "    return lst\n",
    "\n",
    "def parcours_postfixe(arbre:dict, noeud:str='r', lst=[])-> list :\n",
    "    if(noeud != None) :\n",
    "        parcours_postfixe(arbre, arbre[noeud][0])\n",
    "        parcours_postfixe(arbre, arbre[noeud][1])\n",
    "        lst.append(noeud)\n",
    "    return lst\n",
    "\n",
    "def parcours_infixe(arbre:dict, noeud:str='r', lst=[])-> list :\n",
    "    if(noeud != None) :\n",
    "        parcours_infixe(arbre, arbre[noeud][0])\n",
    "        lst.append(noeud)\n",
    "        parcours_infixe(arbre, arbre[noeud][1])\n",
    "    return lst\n",
    "\n",
    "arbre = { 'r' : ['a','b'], 'a' : [None,None],'b' : ['c','d'], 'c' : [None,None], 'd' : [None,None]}\n",
    "\n",
    "print(f'Hauteur de l\\'arbre : {hauteur(arbre)}\\n')\n",
    "print(f'Taille de l\\'arbre : {taille(arbre)}\\n')\n",
    "print(f'Parcours préfixe : {parcours_prefixe(arbre)}\\n')\n",
    "print(f'Parcours postfixe : {parcours_postfixe(arbre)}\\n')\n",
    "print(f'Parcours infixe : {parcours_infixe(arbre)}\\n')\n",
    "print(f'Parcours en largeur : {parcours_largeur(arbre)}\\n')"
   ]
  },
  {
   "cell_type": "markdown",
   "metadata": {},
   "source": [
    "### 2- Les arbres binaires de recherche (ABR)"
   ]
  },
  {
   "cell_type": "markdown",
   "metadata": {},
   "source": [
    "<img src=\"Images/ABR.png\" alt=\"arbre_binaire_recherche\" width=30% align=center>"
   ]
  },
  {
   "cell_type": "markdown",
   "metadata": {},
   "source": [
    "**TAD arbre binaire de recherche**\n",
    "\n",
    "Type : ABR\n",
    "\n",
    "Utilise : Donnée (de type entier), Booléen\n",
    "\n",
    "Opérations :\n",
    "    \n",
    "    constructeur : Donnée x ABR → ABR\n",
    "    \n",
    "    inserer : Donnée x ABR → ABR\n",
    "    \n",
    "    chercher : Donnée x ABR → Booléen\n",
    "    \n",
    " "
   ]
  },
  {
   "cell_type": "markdown",
   "metadata": {},
   "source": [
    "<div class=\"alert alert-warning\">\n",
    "<img src=\"Images/CR.png\" alt=\"logo CR\" width=5% align=right>\n",
    "    \n",
    "Travail préalable\n",
    "\n",
    "- Rappeler ici la particularité d'un arbre binaire de recherche ?\n",
    "<div>"
   ]
  },
  {
   "cell_type": "markdown",
   "metadata": {},
   "source": [
    "<div class=\"alert alert-warning\">\n",
    "<img src=\"Images/CR.png\" alt=\"logo CR\" width=5% align=right>\n",
    "\n",
    "Le type abstrait de données \"arbre binaire de recherche\" se limitera à l'interface précedente.\n",
    "    \n",
    "Travail à faire\n",
    "\n",
    "- Implémenter une méthode constructeur prenant en arguments : la clé, le fils gauche, le fils droit et le père s'ils existent !\n",
    "- Implémenter une méthode permettant de chercher si une clé particulière et présente dans l'ABR\n",
    "- Implementer une méthode permettant d'insérer une clé dans l'ABR\n"
   ]
  },
  {
   "cell_type": "code",
   "execution_count": null,
   "metadata": {},
   "outputs": [],
   "source": [
    "class ABR:\n",
    "    def __init__(self, cle, fils_gauche=None, fils_droit=None, pere=None):\n",
    "        self.fils_gauche=fils_gauche # lien vers le fils gauche\n",
    "        self.fils_droit=fils_droit # lien vers le fils droit\n",
    "        self.pere=pere # lien vers le père\n",
    "        self.cle=cle # valeur du noeud\n",
    "    \n",
    "    def afficher(self, level=0):\n",
    "        if self.fils_droit:\n",
    "            self.fils_droit.afficher(level + 1)\n",
    "        print(f\"{' ' * 4 * level}{self.cle}\")\n",
    "        if self.fils_gauche:\n",
    "            self.fils_gauche.afficher(level + 1)\n",
    "        \n",
    "    def inserer(self,cle):\n",
    "        if cle<self.cle: # on met à gauche\n",
    "            if self.fils_gauche is None: # si pas de fils\n",
    "                self.fils_gauche=Noeud(cle) # création du noeud fils gauche\n",
    "                self.fils_gauche.pere=self # déclaration de paternité\n",
    "            else:\n",
    "                self.fils_gauche.inserer(cle) # si fils, on descend récursivement\n",
    "        if cle >self.cle: # on met à droite\n",
    "            if self.fils_droit is None : # si pas de fils\n",
    "                self.fils_droit=Noeud(cle) # création du noeud fils droit\n",
    "                self.fils_droit.pere=self # déclaration de paternité\n",
    "            else:\n",
    "                self.fils_droit.inserer(cle) # si fils on descend récursivement\n",
    "    \n",
    "    def chercher(self,cle):\n",
    "        if cle == self.cle:\n",
    "            return True\n",
    "        if cle < self.cle:\n",
    "            return self.fils_gauche.chercher(cle) if self.fils_gauche else False\n",
    "        else:\n",
    "            return self.fils_droit.chercher(cle) if self.fils_droit else False"
   ]
  },
  {
   "cell_type": "code",
   "execution_count": null,
   "metadata": {},
   "outputs": [],
   "source": [
    "# construction de l'arbre       \n",
    "arbre=ABR(30)\n",
    "arbre.inserer(16)\n",
    "arbre.inserer(9)\n",
    "arbre.inserer(20)\n",
    "arbre.inserer(40)\n",
    "arbre.inserer(80)\n",
    "arbre.inserer(1)\n",
    "arbre.inserer(35)\n",
    "arbre.afficher()\n",
    "donnee=16\n",
    "print(f'\\nLa valeur {donnee} est-elle présente : {arbre.chercher(donnee)}')"
   ]
  },
  {
   "cell_type": "markdown",
   "metadata": {},
   "source": [
    "Étude du coût d'une recherche et insertion."
   ]
  },
  {
   "cell_type": "code",
   "execution_count": null,
   "metadata": {},
   "outputs": [],
   "source": []
  }
 ],
 "metadata": {
  "kernelspec": {
   "display_name": "Python 3",
   "language": "python",
   "name": "python3"
  },
  "language_info": {
   "codemirror_mode": {
    "name": "ipython",
    "version": 3
   },
   "file_extension": ".py",
   "mimetype": "text/x-python",
   "name": "python",
   "nbconvert_exporter": "python",
   "pygments_lexer": "ipython3",
   "version": "3.7.7"
  },
  "varInspector": {
   "cols": {
    "lenName": 16,
    "lenType": 16,
    "lenVar": 40
   },
   "kernels_config": {
    "python": {
     "delete_cmd_postfix": "",
     "delete_cmd_prefix": "del ",
     "library": "var_list.py",
     "varRefreshCmd": "print(var_dic_list())"
    },
    "r": {
     "delete_cmd_postfix": ") ",
     "delete_cmd_prefix": "rm(",
     "library": "var_list.r",
     "varRefreshCmd": "cat(var_dic_list()) "
    }
   },
   "types_to_exclude": [
    "module",
    "function",
    "builtin_function_or_method",
    "instance",
    "_Feature"
   ],
   "window_display": false
  }
 },
 "nbformat": 4,
 "nbformat_minor": 2
}
