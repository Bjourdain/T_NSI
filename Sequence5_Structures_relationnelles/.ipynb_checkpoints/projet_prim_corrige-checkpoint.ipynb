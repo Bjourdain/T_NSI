{
 "cells": [
  {
   "cell_type": "markdown",
   "metadata": {},
   "source": [
    "# <center><font face=\"arial\" size=\"5\" color=#0101DF>NUMERIQUE ET SCIENCES INFORMATIQUES Terminale NSI</font></center>"
   ]
  },
  {
   "cell_type": "markdown",
   "metadata": {},
   "source": [
    "## <font color=#013ADF>Séquence N° 4 : Projet \"Arbre couvrant de poids minimum - Algorithme de PRIM\"</font>"
   ]
  },
  {
   "cell_type": "markdown",
   "metadata": {},
   "source": [
    "<div class=\"alert alert-success\">\n",
    "    \n",
    "Une companie de télécomunication veut déployer la fibre (optique) dans tous les bâtiments d'un nouveau quartier. Pour éviter des câbles aériens disgracieux, la municipalité impose d'enterrer tous les câbles.\n",
    "\n",
    "La seule solution est de creuser des tranchées le long des routes existantes. Des boitiers d'interconnection seront placés aux intersections des routes.\n",
    "\n",
    "**Problématique** :\n",
    "\n",
    "Comment minimiser le coût de l'installation ?\n",
    "\n",
    "Il s'agit de trouver un chemin passant par tous les bâtiments de longueur minimale.\n",
    "\n",
    "Si on modélise notre problème par un graphe, où les boitiers d'interconnection sont les sommets et où les routes sont les arêtes, le problème consiste à **trouver un arbre couvrant de poids minimal** (Minimum Spanning Tree en anglais).\n",
    "- arbre couvrant : arbre contenant tous les sommets ;\n",
    "- poids minimal : somme des arêtes de longueur minimale.\n",
    "\n",
    "Deux algorithmes majeurs sont capables de résoudre ce problème :\n",
    "- algorithme de Kruskal ;\n",
    "- algorithme de Prim.\n",
    "\n",
    "\n",
    "C'est ce second algorithme que l'on vous demande d'implémenter sur le graphe fourni.\n",
    "<div>"
   ]
  },
  {
   "cell_type": "markdown",
   "metadata": {},
   "source": [
    "### Travail demandé"
   ]
  },
  {
   "cell_type": "markdown",
   "metadata": {},
   "source": [
    "<div class=\"alert alert-warning\">\n",
    "<img src=\"Images/CR.png\" alt=\"logo CR\" width=5% align=right>\n",
    "    \n",
    "- Visionner la vidéo (https://www.youtube.com/watch?v=I0uiQyAs5G4) et répondre aux questions suivantes :\n",
    "    - Quelques sont les pré-conditions à l'usage de l'algorithme de Prim ?\n",
    "    - Expliquer pourquoi l'algorithme de Prim est qualifié de glouton ?\n",
    "    - L'algorithme réalise-t-il un parcours en largeur ou en profondeur ?\n",
    "- Implémenter l'algorithme sur le graphe fourni ci-dessous en utilisant une liste d'adjacence.\n",
    "\n",
    "<img src=\"Images/prim.png\" alt=\"warning\" width=50% align=center>\n",
    "<div>"
   ]
  },
  {
   "cell_type": "code",
   "execution_count": null,
   "metadata": {},
   "outputs": [],
   "source": [
    "\"\"\"\n",
    "Algorithme de PRIM avec liste d'adjacence\n",
    "Précondition : graphe connexe, non orienté, pondéré\n",
    "\"\"\"\n",
    "\n",
    "def prim(graphe,debut):\n",
    "    arbre=[debut]\n",
    "    distance=0\n",
    "    while len(arbre)<len(graphe):\n",
    "        mini=float('inf') # distance infinie\n",
    "        plus_proche=debut # choix arbitraire qui n'est pas faux , au début ...\n",
    "        # recherche des voisins de l'arbre\n",
    "        for noeud in arbre:\n",
    "            for voisin in range(len(graphe[noeud])): # parcours en largeur\n",
    "                sommet,poids=graphe[noeud][voisin] # dépaquetage du tuple\n",
    "                if poids<mini and sommet not in arbre: # pas de cycle\n",
    "                    plus_proche=sommet #nom du voisin le plus proche du noeud\n",
    "                    mini=poids # poids de l'arête\n",
    "        distance+=mini\n",
    "        arbre.append(plus_proche) # on garde le noeud le plus proche -> glouton\n",
    "    return arbre, distance\n",
    "\n",
    "\n",
    "graphe = {'A': [('B',2),('G',5)],\n",
    "          'B': [('A',2),('G',15),('D',10),('E',3)],\n",
    "          'C': [('G',5),('D',7),('E',10),('F',12)],\n",
    "          'D': [('B',10),('G',3),('C',7),('E',1)],\n",
    "          'E': [('B',3),('D',1),('C',10),('F',11)],\n",
    "          'F': [('C',12),('E',11)],\n",
    "          'G': [('A',5),('B',15),('D',3),('C',5)]\n",
    "         }\n",
    "\n",
    "depart=\"D\"\n",
    "arbre_couvrant, poids=prim(graphe, depart)\n",
    "print(f'Arbre couvrant : {arbre_couvrant} d\\'un poids de : {poids}')\n"
   ]
  },
  {
   "cell_type": "code",
   "execution_count": null,
   "metadata": {},
   "outputs": [],
   "source": [
    "\"\"\"\n",
    "Algorithme glouton de PRIM\n",
    "\n",
    "Précondition : graphe connexe, pondéré, non orienté\n",
    "\"\"\"\n",
    "\n",
    "\n",
    "def prim(matrice,debut):\n",
    "    arbre=[debut]\n",
    "    distance=0\n",
    "    while len(arbre)<len(matrice):\n",
    "        mini=float('inf') # distance infinie\n",
    "        plus_proche=0 # choix arbitraire\n",
    "        # recherche des voisins de l'arbre\n",
    "        for noeud in arbre:\n",
    "            for voisin in range(len(matrice[noeud])): # parcours en largeur\n",
    "                if matrice[noeud][voisin]<mini and voisin not in arbre: # pas de cycle\n",
    "                    plus_proche=voisin #index du voisin le plus proche du noeud\n",
    "                    mini=matrice[noeud][voisin] # poids de l'arête\n",
    "        distance+=mini\n",
    "        arbre.append(plus_proche) # on garde le noeud le plus proche -> glouton\n",
    "    return arbre, distance\n",
    "\n",
    "matrice=[\n",
    "        [float('inf'),2,float('inf'),float('inf'),float('inf'),float('inf'),5],\n",
    "        [2,float('inf'),float('inf'),10,3,float('inf'),15],\n",
    "        [float('inf'),float('inf'),float('inf'),7,10,float('inf'),5],\n",
    "        [float('inf'),10,7,float('inf'),1,float('inf'),3],\n",
    "        [float('inf'),3,10,1,float('inf'),11,float('inf')],\n",
    "        [float('inf'),float('inf'),12,float('inf'),11,float('inf'),float('inf')],\n",
    "        [5,15,5,3,float('inf'),float('inf'),float('inf')],\n",
    "        ]\n",
    "\n",
    "# pour être lisible\n",
    "id_noeuds={0:'A',1:'B',2:'C',3:'D',4:'E',5:'F',6:'G'}\n",
    "depart=3\n",
    "arbre_couvrant, poids=prim(matrice, depart)\n",
    "print(f'Arbre couvrant : {[id_noeuds[valeur] for valeur in arbre_couvrant]} d\\'un poids de : {poids}')\n"
   ]
  }
 ],
 "metadata": {
  "kernelspec": {
   "display_name": "Python 3",
   "language": "python",
   "name": "python3"
  },
  "language_info": {
   "codemirror_mode": {
    "name": "ipython",
    "version": 3
   },
   "file_extension": ".py",
   "mimetype": "text/x-python",
   "name": "python",
   "nbconvert_exporter": "python",
   "pygments_lexer": "ipython3",
   "version": "3.8.3"
  },
  "varInspector": {
   "cols": {
    "lenName": 16,
    "lenType": 16,
    "lenVar": 40
   },
   "kernels_config": {
    "python": {
     "delete_cmd_postfix": "",
     "delete_cmd_prefix": "del ",
     "library": "var_list.py",
     "varRefreshCmd": "print(var_dic_list())"
    },
    "r": {
     "delete_cmd_postfix": ") ",
     "delete_cmd_prefix": "rm(",
     "library": "var_list.r",
     "varRefreshCmd": "cat(var_dic_list()) "
    }
   },
   "types_to_exclude": [
    "module",
    "function",
    "builtin_function_or_method",
    "instance",
    "_Feature"
   ],
   "window_display": false
  }
 },
 "nbformat": 4,
 "nbformat_minor": 4
}
