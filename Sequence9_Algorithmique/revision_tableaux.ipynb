{
 "cells": [
  {
   "cell_type": "markdown",
   "metadata": {},
   "source": [
    "# <center><font face=\"arial\" size=\"5\" color=#0101DF>NUMERIQUE ET SCIENCES INFORMATIQUES 1ère NSI</font></center>"
   ]
  },
  {
   "cell_type": "markdown",
   "metadata": {},
   "source": [
    "## <font color=#013ADF>Séquence N° 9 : révisions sur les tableaux</font>"
   ]
  },
  {
   "cell_type": "markdown",
   "metadata": {},
   "source": [
    "<div class=\"alert alert-danger\" role=\"alert\">\n",
    "    \n",
    "Pour tous les exercices de ce notebook, on n'utilisera pas les méthodes pop(), append(), extend() ... des listes python.\n",
    "</div>"
   ]
  },
  {
   "cell_type": "markdown",
   "metadata": {},
   "source": [
    "## 1) Exercice 1 : Permutation dans un tableau 1D"
   ]
  },
  {
   "cell_type": "markdown",
   "metadata": {},
   "source": [
    "<div class=\"alert alert-warning\">\n",
    "<img src=\"Images/CR.png\" alt=\"logo CR\" width=5% align=right>\n",
    "Travail demandé :\n",
    "    \n",
    "- Écrire une fonction qui permute 2 éléments d'un tableau à une dimension. Cette fonction prend en paramètres, le tableau et la position des 2 éléments à permuter ;\n",
    "- Ajouter les annotations de typage des paramètres ;\n",
    "- Écrire les assertions nécessaires à la bonne exécution de la fonction (pré-conditions) ;\n",
    "- Écrire des tests unitaires bien choisis.\n",
    "</div>"
   ]
  },
  {
   "cell_type": "code",
   "execution_count": null,
   "metadata": {},
   "outputs": [],
   "source": [
    "from random import randint\n",
    "\n",
    "def permute(lst, n, m):\n",
    "    \"\"\"\n",
    "    Permute en place l'élément en position n \n",
    "    dans le tableau avec l'élément m du tableau.\n",
    "    \"\"\"\n",
    "    # votre code ici\n",
    "    pass\n",
    "\n",
    "if __name__=='__main__':\n",
    "    from doctest import testmod\n",
    "    testmod()\n",
    "    liste_valeurs=[randint(1, 10) for i in range(10)]\n",
    "    permute(liste_valeurs, 2, 6)"
   ]
  },
  {
   "cell_type": "markdown",
   "metadata": {},
   "source": [
    "## 2) Exercice 2 : Insertion dans un tableau 1D"
   ]
  },
  {
   "cell_type": "markdown",
   "metadata": {},
   "source": [
    "<div class=\"alert alert-warning\">\n",
    "<img src=\"Images/CR.png\" alt=\"logo CR\" width=5% align=right>\n",
    "Travail demandé :\n",
    "    \n",
    "- Écrire une fonction qui insère un élément dans un tableau 1D. Cette fonction prend en paramètres, un tableau plein, la position à laquelle il faut insérer l'élément et enfin l'élément à insérer. la fonction renvoie un **nouveau** tableau comportant les anciennes valeurs ainsi que l'élément ajouté à sa bonne place ;\n",
    "- Ajouter les annotations de typage des paramètres ;\n",
    "- Écrire les assertions nécessaires à la bonne exécution de la fonction (pré-conditions) ;\n",
    "- Écrire des tests unitaires bien choisis.\n",
    "</div>"
   ]
  },
  {
   "cell_type": "code",
   "execution_count": null,
   "metadata": {},
   "outputs": [],
   "source": [
    "from random import randint\n",
    "\n",
    "\n",
    "def insere(lst, n, elt):\n",
    "    \"\"\"\n",
    "    Insère dans un tableau à la position n,\n",
    "    l'élément elt.\n",
    "    Attention le premier élément d'un tableau\n",
    "    est à la position 0 !\n",
    "    \"\"\"\n",
    "    pass\n",
    "    # votre code ici\n",
    "\n",
    "\n",
    "if __name__=='__main__':\n",
    "    from doctest import testmod\n",
    "    testmod()\n",
    "    liste_valeurs=[randint(1, 10) for i in range(10)]\n",
    "    tableau=insere(liste_valeurs, 1, 120)"
   ]
  },
  {
   "cell_type": "markdown",
   "metadata": {},
   "source": [
    "## 3) Exercice 3 : Insertion dans un tableau 1D"
   ]
  },
  {
   "cell_type": "markdown",
   "metadata": {},
   "source": [
    "<div class=\"alert alert-warning\">\n",
    "<img src=\"Images/CR.png\" alt=\"logo CR\" width=5% align=right>\n",
    "Travail demandé :\n",
    "    \n",
    "- Écrire une fonction qui insère un élément dans un tableau 1D à la fin de celui-ci, à condition qu'il soit assez grand. Si ce n'est pas le cas, l'insertion n'aura pas lieu. Le nombre d'éléments contenus dans le tableau sera stocké à la position 0 de celui-ci. Le tableau est initialisé au debut à 10 valeurs nulles. Cette fonction prend en paramètres, un tableau et l'élément à insérer ;\n",
    "- Ajouter les annotations de typage des paramètres ;\n",
    "- Écrire les assertions nécessaires à la bonne exécution de la fonction (pré-conditions) ;\n",
    "- Écrire des tests unitaires bien choisis.\n",
    "</div>"
   ]
  },
  {
   "cell_type": "code",
   "execution_count": null,
   "metadata": {},
   "outputs": [],
   "source": [
    "from random import randint\n",
    "\n",
    "\n",
    "def insere_fin(lst, elt):\n",
    "    \"\"\"\n",
    "    Insère l'élément elt en dernière position.\n",
    "    Le nombre d'éléments est mémorisé dans le tableau\n",
    "    à la position 0.\n",
    "    \"\"\"\n",
    "    pass\n",
    " \n",
    "if __name__=='__main__':\n",
    "    from doctest import testmod\n",
    "    testmod()\n",
    "    liste_valeurs=[0]*10\n",
    "    for i in range(9):\n",
    "        insere_fin(liste_valeurs, randint(1, 10))"
   ]
  },
  {
   "cell_type": "markdown",
   "metadata": {},
   "source": [
    "## 4) Exercice 4 : Insertion dans un tableau 1D"
   ]
  },
  {
   "cell_type": "markdown",
   "metadata": {},
   "source": [
    "<div class=\"alert alert-warning\">\n",
    "<img src=\"Images/CR.png\" alt=\"logo CR\" width=5% align=right>\n",
    "Travail demandé :\n",
    "    \n",
    "- Écrire une fonction qui insère un élément dans un tableau 1D au début de celui-ci (à la position 1), à condition qu'il soit assez grand. Si ce n'est pas le cas, l'insertion n'aura pas lieu. Le nombre d'éléments contenus dans le tableau sera stocké à la position 0 de celui-ci. Le tableau est initialisé au debut à 10 valeurs nulles. Cette fonction prend en paramètres, un tableau et l'élément à insérer ;\n",
    "- Ajouter les annotations de typage des paramètres ;\n",
    "- Écrire les assertions nécessaires à la bonne exécution de la fonction (pré-conditions) ;\n",
    "- Écrire des tests unitaires bien choisis.\n",
    "</div>"
   ]
  },
  {
   "cell_type": "code",
   "execution_count": null,
   "metadata": {},
   "outputs": [],
   "source": [
    "from random import randint\n",
    "\n",
    "\n",
    "def insere_debut(lst, elt):\n",
    "    \"\"\"\n",
    "    Insère l'élément elt en première position, c'est\n",
    "    à dire à la position 1. Le nombre d'éléments \n",
    "    est mémorisé dans le tableau à la position 0\n",
    "    \"\"\"\n",
    "    pass\n",
    "    # votre code ici\n",
    "    \n",
    " \n",
    "if __name__=='__main__':\n",
    "    from doctest import testmod\n",
    "    testmod()\n",
    "    liste_valeurs=[0]*10\n",
    "    for i in range(3):\n",
    "        insere_debut(liste_valeurs, randint(1, 10))\n",
    "    insere_debut(liste_valeurs, 12)"
   ]
  },
  {
   "cell_type": "markdown",
   "metadata": {},
   "source": [
    "## 5) Exercice 5 : Permutation dans un tableau 2D"
   ]
  },
  {
   "cell_type": "markdown",
   "metadata": {},
   "source": [
    "<div class=\"alert alert-warning\">\n",
    "<img src=\"Images/CR.png\" alt=\"logo CR\" width=5% align=right>\n",
    "Travail demandé :\n",
    "    \n",
    "- Écrire une fonction qui permute 2 éléments d'un tableau à 2 dimensions. Cette fonction prend en paramètres, le tableau et la position des 2 éléments à permuter dans 2 tuples ;\n",
    "- Ajouter les annotations de typage des paramètres ;\n",
    "- Écrire les assertions nécessaires à la bonne exécution de la fonction (pré-conditions) ;\n",
    "- Écrire des tests unitaires bien choisis.\n",
    "</div>"
   ]
  },
  {
   "cell_type": "code",
   "execution_count": null,
   "metadata": {},
   "outputs": [],
   "source": [
    "from random import randint\n",
    "\n",
    "def permute(lst, n, m):\n",
    "    \"\"\"\n",
    "    Permute en place l'élément en position n \n",
    "    dans le tableau avec l'élément m du tableau.\n",
    "    \"\"\"\n",
    "    # votre code ici\n",
    "    pass\n",
    "\n",
    "if __name__=='__main__':\n",
    "    from doctest import testmod\n",
    "    testmod()\n",
    "    liste_valeurs=[[randint(1, 9) for i in range(10)]for j in range(10)]\n",
    "    print(liste_valeurs,'\\n')\n",
    "    permute(liste_valeurs, (0,2),(1,6))\n",
    "    print(liste_valeurs)"
   ]
  },
  {
   "cell_type": "markdown",
   "metadata": {},
   "source": [
    "## 6) Exercice 6 : Suppression dans un tableau 1D ou 2D"
   ]
  },
  {
   "cell_type": "markdown",
   "metadata": {},
   "source": [
    "<div class=\"alert alert-warning\">\n",
    "<img src=\"Images/CR.png\" alt=\"logo CR\" width=5% align=right>\n",
    "    \n",
    "Pour ceux qui auraient encore quelques difficultés, ou pour confirmer les acquis, reprendre les exercices précédents, en supprimant un élément dans un tableau 1D et/ou 2D.\n",
    "</div>"
   ]
  }
 ],
 "metadata": {
  "kernelspec": {
   "display_name": "Python 3",
   "language": "python",
   "name": "python3"
  },
  "language_info": {
   "codemirror_mode": {
    "name": "ipython",
    "version": 3
   },
   "file_extension": ".py",
   "mimetype": "text/x-python",
   "name": "python",
   "nbconvert_exporter": "python",
   "pygments_lexer": "ipython3",
   "version": "3.8.3"
  },
  "varInspector": {
   "cols": {
    "lenName": 16,
    "lenType": 16,
    "lenVar": 40
   },
   "kernels_config": {
    "python": {
     "delete_cmd_postfix": "",
     "delete_cmd_prefix": "del ",
     "library": "var_list.py",
     "varRefreshCmd": "print(var_dic_list())"
    },
    "r": {
     "delete_cmd_postfix": ") ",
     "delete_cmd_prefix": "rm(",
     "library": "var_list.r",
     "varRefreshCmd": "cat(var_dic_list()) "
    }
   },
   "types_to_exclude": [
    "module",
    "function",
    "builtin_function_or_method",
    "instance",
    "_Feature"
   ],
   "window_display": false
  }
 },
 "nbformat": 4,
 "nbformat_minor": 2
}
