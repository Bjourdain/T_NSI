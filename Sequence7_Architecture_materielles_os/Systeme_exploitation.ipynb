{
 "cells": [
  {
   "cell_type": "markdown",
   "metadata": {},
   "source": [
    "# <center><font face=\"arial\" size=\"5\" color=#0101DF>NUMERIQUE ET SCIENCES INFORMATIQUES Terminale NSI</font></center>"
   ]
  },
  {
   "cell_type": "markdown",
   "metadata": {},
   "source": [
    "## <font color=#013ADF>Séquence N° 7 : Systèmes d'exploitation</font>"
   ]
  },
  {
   "cell_type": "markdown",
   "metadata": {},
   "source": [
    "<div class=\"alert alert-danger\" role=\"alert\">\n",
    "    \n",
    "Les objectifs de cette séquence sont :\n",
    "\n",
    "- Décrire la création d'un processus, l'ordonnancement de plusieurs processus par le système ;\n",
    "- Mettre en évidence le risque de l'interblocage (deadlock).\n",
    "\n",
    "</div>"
   ]
  },
  {
   "cell_type": "markdown",
   "metadata": {},
   "source": [
    "<div class=\"alert alert-warning\">\n",
    "<img src=\"Images/CR.png\" alt=\"logo CR\" width=5% align=right>\n",
    "    \n",
    "Travail préalable :\n",
    "    \n",
    "Lire le livre chapitre 7, paragraphes 4 et 5.\n",
    "<div>"
   ]
  },
  {
   "cell_type": "markdown",
   "metadata": {},
   "source": [
    "### 1- Fonction du système d'exploitation"
   ]
  },
  {
   "cell_type": "markdown",
   "metadata": {},
   "source": [
    "<div class=\"alert alert-success\">\n",
    "\n",
    "Un système d'exploitation SE (ou Operating System : OS) permet d'exploiter des ressources matérielles (composants électroniques). Ces ressources permettent de manière générale à  :\n",
    "- Exécuter un traitement ;\n",
    "- Stocker des données ;\n",
    "- Communiquer.\n",
    "    \n",
    "Voici quelques systèmes d'exploitation grand public, tels que : Windows, MacOS, Androïd, IOS, Linux ... mais il existe également des systèmes d'exploitation plus spécifiques pour la robotique ...\n",
    "    \n",
    "<br><br>\n",
    "<img src=\"Images/OS.png\" alt=\"Système d'eploitation\" width=50% align=center>   \n",
    "\n",
    "Le noyau du système d'exploitation comporte nécessairement :\n",
    "   \n",
    "- La gestion des processus (ordonnancement) ;\n",
    "- La gestion de la mémoire (répartition pour les applications) ;\n",
    "- La gestion du système de fichiers (maintien de l'arborescence).\n",
    "- La gestion des entrées/sorties (communication ...)\n",
    "    \n",
    "<div>"
   ]
  },
  {
   "cell_type": "markdown",
   "metadata": {},
   "source": [
    "### 2- Les processus"
   ]
  },
  {
   "cell_type": "markdown",
   "metadata": {},
   "source": [
    "<div class=\"alert alert-success\">\n",
    "\n",
    "Lorsqe l'on observe un écran, il apparaît clairement que l'ordinateur mène plusieurs activités en parallèle. Ces activités sont gérées, en apparence, simultanément alors que la machine ne dispose que d'un nombre limité de coeurs.\n",
    "    \n",
    "A un instant donné, il n'y a donc pas un mais plusieurs programmes qui  sont en cours d'exécution sur un ordinateur : on les nomme **processus**. Une des tâches du système d'exploitation est d'allouer à chacun des  processus les ressources dont il a besoin en termes de mémoire, d'entrées-sorties et de temps processeur. Il doit également s'assurer que les processus ne se gênent pas les uns les autres.\n",
    "\n",
    "<img src=\"Images/warning.png\" alt=\"warning\" width=5% align=left>\n",
    "    \n",
    "À ce stade, il est important de distinguer application et processus. Si vous lancez 2 instances d'une application, ces deux applications ne font pas parties du même processus car leur contexte est différent.\n",
    "<br><br>\n",
    "\n",
    "**Un processus est un phénomène dynamique correspondant à l'exécution d'un programme. Il est décrit par :**\n",
    "\n",
    "- un ensemble d'instructions à exécuter (l'application) ;\n",
    "- un espace mémoire dédié à l'exécution de l'application ; \n",
    "- les ressources matérielles utilsées par l'application (fichiers, connexion réseau ...) ;\n",
    "- Le contenu des registres du microprocesseur.\n",
    "    \n",
    "    \n",
    "*Exemple que nous allons vérifier ci-après* : Vous ouvrez 2 terminaux (bash : bourne again shell) pour interroger le système sur le contenu d'un répertoire et sur l'existence d'un fichier quelconque. Vous aurez créé 2 processus distincts que l'on pourra vérifier facilement grâce à leur identifiants (PID).\n",
    "\n",
    "\n",
    "<div>"
   ]
  },
  {
   "cell_type": "markdown",
   "metadata": {},
   "source": [
    "<div class=\"alert alert-warning\">\n",
    "<img src=\"Images/CR.png\" alt=\"logo CR\" width=5% align=right>\n",
    " \n",
    "Il est temps de visualiser les processus en cours sur la machine. Pour cela, il existe 2 commandes importantes :\n",
    "    \n",
    "- **ps** pour un affichage statique (état au moment de la commande) ;\n",
    "- **top** pour un affichage dynamique.\n",
    "\n",
    "Comme pour toute commande UNIX, il existe des options.\n",
    "\n",
    "    \n",
    "Travail demandé  \n",
    "\n",
    "- Ouvrir un terminal;\n",
    "- Taper la commande ps -elf : vous devriez obtenir quelque chose de similaire à cela :\n",
    "    \n",
    "<img src=\"Images/ps-elf.png\" alt=\"processus\" width=80% align=center>\n",
    "    \n",
    "Les 2 derniers processus listés ont été crées par vous. C'est visible avec la colonne UID.\n",
    "    \n",
    "- bash est l'ouverture du terminal, ps -elf est la ligne de commande. Quels sont leurs ID ?\n",
    "\n",
    "- Quel est le nom du premier processus créé ? Quel est son PID ? À t-il un parent ?\n",
    "    \n",
    "- Quel est processus parent de \"ps -elf\" ?\n",
    "      \n",
    "- Quel est processus parent de \"bash\" ?\n",
    "    \n",
    "Pour mieux visualiser la hiérarchie, il existe la commande **pstree**.\n",
    "    \n",
    "- Utilisez la pour vérifier la hiérarchie de \"pstree\".\n",
    "    \n",
    "- Taper la commande top : vous devriez obtenir quelque chose de similaire à cela, se renouvelant toutes les 3 secondes environ :\n",
    "    \n",
    "<img src=\"Images/top.png\" alt=\"processus\" width=80% align=center>\n",
    "\n",
    "- quel est PID de top ?\n",
    "    \n",
    "Pour ne pas afficher les processus inactifs, taper le raccourci clavier \"i\". Pour quitter l'utilitaire, appuyer sur la touche \"q\".\n",
    "\n",
    "\n",
    "<div>"
   ]
  },
  {
   "cell_type": "markdown",
   "metadata": {},
   "source": [
    "<div class=\"alert alert-success\">\n",
    "\n",
    "L'utilisation de \"top\" permet de visualiser en temps réel, le travail de  l'**ordonnanceur**. Ce dernier a pour tâche de sélectionner le processus suivant à exécuter parmi ceux qui sont prêts.\n",
    "\n",
    "<img src=\"Images/ordonnanceur.png\" alt=\"ordonnanceur\" width=50% align=center>\n",
    "\n",
    "La création d'un nouveau processus se fait par clonage du père au travers d'un appel systeme : **fork()**.\n",
    "\n",
    "Sous Linux, on peut passer des consignes à l'ordonnanceur en fixant  des priorités aux processus dont on est propriétaire : Cette priorité  est un nombre entre -20 (plus prioritaire) et +20 (moins prioritaire).\n",
    "\n",
    "<div>"
   ]
  },
  {
   "cell_type": "markdown",
   "metadata": {},
   "source": [
    "<div class=\"alert alert-warning\">\n",
    "<img src=\"Images/CR.png\" alt=\"logo CR\" width=5% align=right>\n",
    " \n",
    "Manipulons les commandes pour lancer, stopper, tuer un processus. Pour cela, dans un terminal :\n",
    "\n",
    "- Lancer le processus xeyes ;\n",
    "    \n",
    "C'est amusant, mais que constatez-vous au niveau du terminal ?\n",
    "    \n",
    "Ce problème vient du fait que vous avez lancé ce processus au premier plan.\n",
    "    \n",
    "- Faites un CTRL-Z pour stopper le processus et lisez le message envoyé par le système.\n",
    "- Relancer xeyes mais avec la syntaxe suivante : xeyes &   (ou nohup xeyes)\n",
    "\n",
    "Les processus dialoguent entre-eux avec des signaux. Pour obrtenir la liste des signaux possibles, taper :\n",
    "\n",
    "- kill -l\n",
    "    \n",
    "On peut remarquer que malgré son nom, cette commande ne fait pas que tuer un processus !\n",
    "    \n",
    "- Mettre en pause le processus \"xeyes\". Plusieurs syntaxes sont possibles :\n",
    "\n",
    "kill -19 PID xeyes ;\n",
    "kill SIGSTOP PID eyes ;\n",
    "kill STOP PID xeyes.\n",
    "    \n",
    "Dans tous les cas, il faut connaître le PID de xeyes, que nous pouvons obtenir avec la commande : ps | grep \"xeyes\".\n",
    "\n",
    "- Mettre en pause le processus xeyes. constater cette pause en bougeant la souris ;\n",
    "    kill -19 N°PID\n",
    "- Reveiller le processus xeyes ;\n",
    "    kill -18 N°PID\n",
    "- Tuer le processus xeyes ;\n",
    "    kill -9 N°PID\n",
    "\n",
    "\n",
    "<div>"
   ]
  },
  {
   "cell_type": "markdown",
   "metadata": {},
   "source": [
    "<div class=\"alert alert-success\">\n",
    "    \n",
    "Le choix du processus a exécuter depend de l'algorithme implanté dans l'ordonnanceur du système d'exploitation.\n",
    "\n",
    "(pour en savoir plus : https://fr.wikibooks.org/wiki/Les_syst%C3%A8mes_d%27exploitation/Version_imprimable)\n",
    "\n",
    "On peut cependant agir sur la priorité avec les instructions **nice** et **renice**.\n",
    "    \n",
    "Les valeurs de priorité commencent à -20 ( valeur de priorité la plus élevée ) jusqu’à +19 (valeur de priorité la plus basse). \n",
    "\n",
    "les colonnes **PR** et **NI** de la commande **top** montrent le niveau de priorité de chaque processus.\n",
    "\n",
    "Le lien entre **PR** et **NI** est simple : **PR = NI + 20** ce qui fait qu'une priorité **PR** de 0 équivaut à un niveau de priorité maximal.\n",
    "\n",
    "Les utilisateurs autres que le super-utilisateur root ne peuvent que diminuer la priorité de leurs processus. De plus, ils sont restreints à la plage de 0 à 19. Seul root peut jouer sur l’intégralité de l’échelle, pour n’importe quel processus actif.\n",
    "\n",
    "**nice** permet de donner une priorité à un process dés son exécution, Par défaut, elle  attribut la valeur de 10, vous pouvez mettre votre valeur avec l’option -n :\n",
    "\n",
    "nice –n 15 processus\n",
    "\n",
    "Si le processus est déja en cours d’exécution et vous souhaiter changer sa priorité utiliser la commande **renice**. Celle-ci fonctionne comme nice :\n",
    "\n",
    "renice +12 processus\n",
    "\n",
    "<div>"
   ]
  },
  {
   "cell_type": "markdown",
   "metadata": {},
   "source": [
    "### 3- Interblocage"
   ]
  },
  {
   "cell_type": "markdown",
   "metadata": {},
   "source": [
    "<div class=\"alert alert-success\">\n",
    "    \n",
    "Dans le livre page 174 et 175, vous avez découvert ce qu'est l'interblocage.\n",
    "\n",
    "<img src=\"Images/deadlock.png\" alt=\"linterblocage\" width=60% align=center>\n",
    "\n",
    "<div>"
   ]
  },
  {
   "cell_type": "markdown",
   "metadata": {},
   "source": [
    "<div class=\"alert alert-warning\">\n",
    "<img src=\"Images/CR.png\" alt=\"logo CR\" width=5% align=right>\n",
    "\n",
    "    \n",
    "<img src=\"Images/warning.png\" alt=\"warning\" width=5% align=left>\n",
    "    \n",
    "Un processus peut être divisé en threads. Tous les threads partagent le même environnement et se déroulent de manière indépendante.\n",
    "<br><br>\n",
    "Travail demandé :\n",
    "    \n",
    "- Exécuter ce code sur un IDE ;\n",
    "- Constater l'interblocage ;\n",
    "- Décommenter les lignes de fonctions comportant la méthode \"release\" et relancer l'exécution ;\n",
    "- Ouvrir les fichiers .txt générés et justifier l'interblocage précédent.\n",
    "    \n",
    "```python\n",
    "    \n",
    "import threading\n",
    "\n",
    "verrou_1= threading.Lock()\n",
    "verrou_2= threading.Lock()\n",
    "\n",
    "fichier_1='fichier1.txt'\n",
    "fichier_2='fichier2.txt'\n",
    "\n",
    "def thread_1(nom):\n",
    "    \"\"\"\n",
    "    Thread lisant le fichier 1\n",
    "    et écrivant dans le fichier 2\n",
    "    \"\"\"\n",
    "    verrou_1.acquire()\n",
    "    with open(fichier_1, 'r', encoding=\"utf-8\") as ft:\n",
    "        lignes_texte=ft.read()\n",
    "    with open(fichier_2, 'w', encoding=\"utf-8\") as ft:\n",
    "            ft.write(nom + '\\n' + lignes_texte + '\\n')\n",
    "    #verrou_1.release()\n",
    "    verrou_2.acquire()\n",
    "\n",
    "    \n",
    "def thread_2(nom):\n",
    "    \"\"\"\n",
    "    Thread lisant le fichier 2\n",
    "    et écrivant dans le fichier 1\n",
    "    \"\"\"    \n",
    "    verrou_2.acquire()\n",
    "    with open(fichier_2, 'r', encoding=\"utf-8\") as ft:\n",
    "        lignes_texte=ft.read()\n",
    "    with open(fichier_1, 'w', encoding=\"utf-8\") as ft:\n",
    "            ft.write(nom + '\\n' + lignes_texte + '\\n')\n",
    "    #verrou_2.release() \n",
    "    verrou_1.acquire()\n",
    "\n",
    "    \n",
    "if __name__=='__main__':   \n",
    "    # Création des threads\n",
    "    thread1 = threading.Thread(target = thread_1, args =['thread 1',])\n",
    "    thread2 = threading.Thread(target = thread_2, args =['thread 2',])\n",
    "    # Lancement des threads  \n",
    "    thread1.start() \n",
    "    thread2.start() \n",
    "    # Attente de la fin des 2 threads pour terminer le main \n",
    "    thread1.join()\n",
    "    thread2.join()\n",
    "```\n",
    "<div>"
   ]
  }
 ],
 "metadata": {
  "kernelspec": {
   "display_name": "Python 3",
   "language": "python",
   "name": "python3"
  },
  "language_info": {
   "codemirror_mode": {
    "name": "ipython",
    "version": 3
   },
   "file_extension": ".py",
   "mimetype": "text/x-python",
   "name": "python",
   "nbconvert_exporter": "python",
   "pygments_lexer": "ipython3",
   "version": "3.8.3"
  },
  "varInspector": {
   "cols": {
    "lenName": 16,
    "lenType": 16,
    "lenVar": 40
   },
   "kernels_config": {
    "python": {
     "delete_cmd_postfix": "",
     "delete_cmd_prefix": "del ",
     "library": "var_list.py",
     "varRefreshCmd": "print(var_dic_list())"
    },
    "r": {
     "delete_cmd_postfix": ") ",
     "delete_cmd_prefix": "rm(",
     "library": "var_list.r",
     "varRefreshCmd": "cat(var_dic_list()) "
    }
   },
   "types_to_exclude": [
    "module",
    "function",
    "builtin_function_or_method",
    "instance",
    "_Feature"
   ],
   "window_display": false
  }
 },
 "nbformat": 4,
 "nbformat_minor": 2
}
