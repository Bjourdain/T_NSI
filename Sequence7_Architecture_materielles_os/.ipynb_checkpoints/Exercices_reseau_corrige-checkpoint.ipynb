{
 "cells": [
  {
   "cell_type": "markdown",
   "metadata": {},
   "source": [
    "# <center><font face=\"arial\" size=\"5\" color=#0101DF>NUMERIQUE ET SCIENCES INFORMATIQUES Tale NSI</font></center>"
   ]
  },
  {
   "cell_type": "markdown",
   "metadata": {},
   "source": [
    "## <font color=#013ADF>Séquence N° 7 : Réseaux - Exercices</font>"
   ]
  },
  {
   "cell_type": "markdown",
   "metadata": {},
   "source": [
    "## Exercice 1 :\n",
    "\n",
    "Soit la table  de routage suivante :\n",
    "\n",
    "> ```\n",
    "> router# show ip route\n",
    ">   ....\n",
    ">   D   192.168.32.0/26 [90/25789217] via 10.1.1.1\n",
    ">   R   192.168.32.0/24 [120/4] via 10.1.1.2\n",
    ">   O   192.168.32.0/19 [110/229840] via 10.1.1.3\n",
    ">   ....\n",
    "> ```\n",
    "\n",
    "Si un paquet arrive sur une interface du routeur destinée pour  192.168.32.1, quelle route le routeur choisirait-il ? Cela dépend de la  longueur du préfixe, ou du nombre de bits dans le masque de sous-réseau. De plus longs préfixes sont toujours privilégiés par rapport à des plus courts lors de l'expédition d'un paquet. \n",
    "\n",
    "Dans ce cas, un paquet destiné à 192.168.32.1 est orienté vers  10.1.1.1, car 192.168.32.1 fait partie du réseau 192.168.32.0/26  (192.168.32.0 à 192.168.32.63). Il fait partie également des deux autres routes disponibles, mais le 192.168.32.0/26 a le préfixe le plus long  dans la table de routage (26 bits contre 24 ou 19 bits). \n",
    "\n",
    "De même, si un paquet destiné pour 192.168.32.100 arrive sur une  des interfaces du routeur, il est transféré à 10.1.1.2, parce que  192.168.32.100 ne fait pas partie de 192.168.32.0/26 (192.168.32.0  jusqu'à 192.168.32.63), mais il fait partie de la destination  192.168.32.0/24 (192.168.32.0 jusqu'à 192.168.32.255). De nouveau, il  tombe également dans la fourchette couverte par 192.168.32.0/19, mais  192.168.32.0/24 a un préfixe plus long. \n",
    "\n",
    "###  Ip Classless \n",
    "\n",
    "Où la commande **ip classless configuration** intervient dans  les processus de routage et de transfert est souvent déroutant. En  réalité, IP classless affecte seulement le fonctionnement des processus  de transfert dans IOS ; elle n'affecte pas la manière dont la table de  routage est construite. Si IP classless n'est pas configurée (à l'aide  de la commande **no ip classless**), le routeur n'expédiera pas les  paquets vers des super-réseaux. Comme exemple, plaçons à nouveau trois  routes dans la table de routage et des paquets de route par le routeur.\n",
    "\n",
    " **Remarque:** Si le super-réseau ou la route par défaut est apprise par l'intermédiaire de l'IS-IS ou OSPF, la commande **no ip classless configuration** est ignorée. Dans ce cas, le comportement de commutation de paquet fonctionne comme si **ip classless** avaient été configurées.\n",
    "\n",
    "> ```\n",
    "> router# show ip route\n",
    "> ....\n",
    ">   172.30.0.0/16 is variably  subnetted, 2 subnets, 2 masks\n",
    "> D        172.30.32.0/20 [90/4879540] via  10.1.1.2\n",
    "> D       172.30.32.0/24  [90/25789217] via 10.1.1.1\n",
    "> S*   0.0.0.0/0 [1/0] via 10.1.1.3  \n",
    "> ```\n",
    "\n",
    "En gardant à l'esprit que le réseau 172.30.32.0/24 inclut les  adresses 172.30.32.0 jusqu'à 172.30.32.255, et le réseau 172.30.32.0/20  inclut les adresses 172.30.32.0 jusqu'à 172.30.47.255, nous pouvons  alors essayer de commuter trois packets via cette table de routage et  voir quels sont les résultats. \n",
    "\n",
    "- Un paquet destiné à 172.30.32.1 est transféré à 10.1.1.1, puisque c'est la correspondance de préfixe la plus longue. \n",
    "- Un paquet destiné à 172.30.33.1 est transféré à 10.1.1.2, puisque c'est la correspondance de préfixe la plus longue. \n",
    "- Un paquet destiné à 192.168.10.1 est transféré à 10.1.1.3 ;  puisque ce réseau n'existe pas dans la table de routage, ce paquet est  transféré vers la route par défaut. "
   ]
  },
  {
   "cell_type": "markdown",
   "metadata": {},
   "source": [
    "## Exercice 2 :\n",
    "\n",
    "Un routeur dispose de la table de routage suivante :\n",
    "\n",
    "```\n",
    "C       10.0.0.0/30 is directly connected, Serial0/0\n",
    "C       10.0.0.4/30 is directly connected, Serial0/1\n",
    "C    \t10.0.0.8/30 is directly connected, FastEthernet0/1\n",
    "D       10.0.10.0/24 [90/2145648] via 10.0.0.5, 00:15:29, Serial0/1\n",
    "O       10.0.10.0/24 [110/782] via 10.0.0.1, 00:53:35, Serial0/0\n",
    "R       10.0.10.32/27 [120/2] via 10.0.0.9, 00:00:12, FastEthernet0/1\n",
    "S*      0.0.0.0/0 [1/0] via 10.0.0.2\n",
    "```\n",
    "\n",
    "Ce routeur reçoit un paquet à desintation de 10.0.10.49 … quelle route va-t-il choisir ?\n",
    "\n",
    "Parmi les entrées de la table, 4 peuvent correspondre à la destination: 10.0.10.0/24 (2x), 10.0.10.32/27 et 0.0.0.0/0.\n",
    "\n",
    "Dans le cas présent, ce sera l’entrée pour 10.0.10.32/27 qui sera  retenue parce qu’elle est la plus précise (10.0.10.32/27 est un  sous-réseau de 10.0.10.0/24).\n",
    "\n",
    "Prenons maintenant le cas d’un paquet à destination de 10.0.10.19.  Trois entrées sont éligibles: 10.0.10.0/24 [90/2145648], 10.0.10.0/24  [110/782] et 0.0.0.0/0 [1/0].\n",
    "\n",
    "On peut éliminer directement 0.0.0.0/0 vu que les deux autres sont  plus précises. Les deux routes restantes indiquent la direction du même réseau… il faut donc maintenant comparer les distances administratives … la plus faible l’emportera … il s’agit donc ici de 10.0.10.0/24  [90/2145648].\n"
   ]
  },
  {
   "cell_type": "code",
   "execution_count": null,
   "metadata": {},
   "outputs": [],
   "source": []
  }
 ],
 "metadata": {
  "kernelspec": {
   "display_name": "Python 3",
   "language": "python",
   "name": "python3"
  },
  "language_info": {
   "codemirror_mode": {
    "name": "ipython",
    "version": 3
   },
   "file_extension": ".py",
   "mimetype": "text/x-python",
   "name": "python",
   "nbconvert_exporter": "python",
   "pygments_lexer": "ipython3",
   "version": "3.8.3"
  },
  "varInspector": {
   "cols": {
    "lenName": 16,
    "lenType": 16,
    "lenVar": 40
   },
   "kernels_config": {
    "python": {
     "delete_cmd_postfix": "",
     "delete_cmd_prefix": "del ",
     "library": "var_list.py",
     "varRefreshCmd": "print(var_dic_list())"
    },
    "r": {
     "delete_cmd_postfix": ") ",
     "delete_cmd_prefix": "rm(",
     "library": "var_list.r",
     "varRefreshCmd": "cat(var_dic_list()) "
    }
   },
   "types_to_exclude": [
    "module",
    "function",
    "builtin_function_or_method",
    "instance",
    "_Feature"
   ],
   "window_display": false
  }
 },
 "nbformat": 4,
 "nbformat_minor": 2
}
