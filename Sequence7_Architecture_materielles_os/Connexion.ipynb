{
 "cells": [
  {
   "cell_type": "markdown",
   "metadata": {},
   "source": [
    "# <center><font face=\"arial\" size=\"5\" color=#0101DF>NUMERIQUE ET SCIENCES INFORMATIQUES Terminale NSI</font></center>"
   ]
  },
  {
   "cell_type": "markdown",
   "metadata": {},
   "source": [
    "## <font color=#013ADF>Séquence N° 7 : Réseaux - Protocoles de transport</font>"
   ]
  },
  {
   "cell_type": "markdown",
   "metadata": {},
   "source": [
    "<div class=\"alert alert-danger\" role=\"alert\">\n",
    "    \n",
    "Les objectifs de cette séquence sont :\n",
    "\n",
    "- Dérouler le fonctionnement d'un protocole simple de récupération de perte de paquets (bit alterné).\n",
    "\n",
    "</div>"
   ]
  },
  {
   "cell_type": "markdown",
   "metadata": {},
   "source": [
    "<div class=\"alert alert-warning\">\n",
    "<img src=\"Images/CR.png\" alt=\"logo CR\" width=5% align=right>\n",
    "    \n",
    "Travail préalable :\n",
    "    \n",
    "- Lire le livre chapitre 8 ;\n",
    "- Relire le document \"reseaux.pdf\", séquence 5 \"Web-reseaux\" de la classe de première.   \n",
    "</div>"
   ]
  },
  {
   "cell_type": "markdown",
   "metadata": {},
   "source": [
    "### 1- Protocoles de transport"
   ]
  },
  {
   "cell_type": "markdown",
   "metadata": {},
   "source": [
    "<div class=\"alert alert-success\">\n",
    "\n",
    "UDP est un protocole non orienté connexion, c'est-à-dire qu’il n’offre pas de fonction de contrôle du bon\n",
    "acheminement :\n",
    "- Aucune vérification logicielle de la livraison des messages ;\n",
    "- Pas de réassemblage des messages entrants ;\n",
    "- Pas d‘accusé de réception ;\n",
    "- Aucun contrôle de flux ;\n",
    "\n",
    "Cependant, UDP offre l’avantage de nécessiter moins de bande passante que TCP. Il peut donc être intéressant\n",
    "d’utiliser ce protocole pour des applications de streaming par exemple.\n",
    "    \n",
    "\n",
    "Le protocole TCP est un protocole orienté connexion, c'est-à-dire :\n",
    "- Ouverture d’un canal ;\n",
    "- Communication Full-Duplex ;\n",
    "- Fermeture du canal ;\n",
    "- Ordre des paquets garanti ;\n",
    "- Arrivée des paquets garantie ;\n",
    "    \n",
    "\n",
    "</div>"
   ]
  },
  {
   "cell_type": "markdown",
   "metadata": {},
   "source": [
    "#### Les problèmes de communication"
   ]
  },
  {
   "cell_type": "markdown",
   "metadata": {},
   "source": [
    "<div class=\"alert alert-danger\" role=\"alert\">\n",
    "    \n",
    "<img src=\"Images/connexion_pb.png\" alt=\"pertes\" width=100% align=center>\n",
    "\n",
    "</div>"
   ]
  },
  {
   "cell_type": "markdown",
   "metadata": {},
   "source": [
    "#### Piste de solution"
   ]
  },
  {
   "cell_type": "markdown",
   "metadata": {},
   "source": [
    "<div class=\"alert alert-success\">\n",
    "   \n",
    "<img src=\"Images/connexion_sol.png\" alt=\"solution\" width=100% align=center>\n",
    "    \n",
    "Ce protocole est connu sour le nom de **bit alterné** ou encore wait and stop ARQ (Automatic Repeat reQuest).\n",
    "\n",
    "</div>"
   ]
  },
  {
   "cell_type": "markdown",
   "metadata": {},
   "source": [
    "<div class=\"alert alert-success\">\n",
    "\n",
    "**Comment se réalise le transport avec le protocole TCP ?**\n",
    "    \n",
    "<img src=\"Images/TCP.png\" alt=\"protocole TCP\" width=100% align=center>\n",
    "\n",
    "\n",
    "</div>"
   ]
  },
  {
   "cell_type": "code",
   "execution_count": null,
   "metadata": {},
   "outputs": [],
   "source": []
  }
 ],
 "metadata": {
  "kernelspec": {
   "display_name": "Python 3",
   "language": "python",
   "name": "python3"
  },
  "language_info": {
   "codemirror_mode": {
    "name": "ipython",
    "version": 3
   },
   "file_extension": ".py",
   "mimetype": "text/x-python",
   "name": "python",
   "nbconvert_exporter": "python",
   "pygments_lexer": "ipython3",
   "version": "3.8.3"
  },
  "varInspector": {
   "cols": {
    "lenName": 16,
    "lenType": 16,
    "lenVar": 40
   },
   "kernels_config": {
    "python": {
     "delete_cmd_postfix": "",
     "delete_cmd_prefix": "del ",
     "library": "var_list.py",
     "varRefreshCmd": "print(var_dic_list())"
    },
    "r": {
     "delete_cmd_postfix": ") ",
     "delete_cmd_prefix": "rm(",
     "library": "var_list.r",
     "varRefreshCmd": "cat(var_dic_list()) "
    }
   },
   "types_to_exclude": [
    "module",
    "function",
    "builtin_function_or_method",
    "instance",
    "_Feature"
   ],
   "window_display": false
  }
 },
 "nbformat": 4,
 "nbformat_minor": 2
}
