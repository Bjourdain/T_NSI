{
 "cells": [
  {
   "cell_type": "markdown",
   "metadata": {},
   "source": [
    "# <center><font face=\"arial\" size=\"5\" color=#0101DF>NUMERIQUE ET SCIENCES INFORMATIQUES Terminale NSI</font></center>"
   ]
  },
  {
   "cell_type": "markdown",
   "metadata": {},
   "source": [
    "## <font color=#013ADF>Séquence N° 7 : Réseaux HTTP-HTTPS révisions</font>"
   ]
  },
  {
   "cell_type": "markdown",
   "metadata": {},
   "source": [
    "<div class=\"alert alert-danger\" role=\"alert\">\n",
    "    \n",
    "Les objectifs de cette séquence sont :\n",
    "\n",
    "- Identifier, suivant le protocole de routage utilisé, la route empruntée par un paquet ;\n",
    "- Décrire les principes de chiffrement symétrique (clef partagée) et asymétrique (clef privée/publique) ;\n",
    "- Décrire l'échange d'une clef symétrique en utilisant un protocole asymétrique pour sécuriser une communication HTTPS.\n",
    "    \n",
    "Révisions de première :\n",
    "- Distinguer ce qui est exécuté sur le client ou sur le serveur et dans quel ordre ;\n",
    "- Reconnaître quand et pourquoi la transmission est chiffrée ;\n",
    "\n",
    "</div>"
   ]
  },
  {
   "cell_type": "markdown",
   "metadata": {},
   "source": [
    "<div class=\"alert alert-warning\">\n",
    "<img src=\"Images/CR.png\" alt=\"logo CR\" width=5% align=right>\n",
    "    \n",
    "Travail préalable :\n",
    "    \n",
    "- Lire le livre chapitre 8 ;\n",
    "- Relire le document \"reseaux.pdf\", séquence 5 \"Web-reseaux\" de la classe de première.   \n",
    "</div>"
   ]
  },
  {
   "cell_type": "markdown",
   "metadata": {},
   "source": [
    "### 1- Installation du sniffeur réseau wiresark"
   ]
  },
  {
   "cell_type": "markdown",
   "metadata": {},
   "source": [
    "<div class=\"alert alert-warning\">\n",
    "<img src=\"Images/CR.png\" alt=\"logo CR\" width=5% align=right>\n",
    "    \n",
    "Travail demandé :\n",
    "    \n",
    "- Installer le paquet wireshark avec l'utilitaire apt sur votre poste de travail ;\n",
    "- Autoriser les utilisateurs de l'ordinateur a réaliser des captures de trames : usermod -a -G wireshark $USER\n",
    "- Rendre le fichier dumcap exécutable : chmod +x /usr/bin/dumpcap\n",
    "</div>"
   ]
  },
  {
   "cell_type": "markdown",
   "metadata": {},
   "source": [
    "<div class=\"alert alert-success\">\n",
    "    \n",
    "**Mode d'emploi élémentaire du logiciel** :\n",
    "\n",
    "- Après avoir lancé l'application, sélectionner la carte réseau wifi comme périphérique de capture (wlp2s0 vraisemblablement) ;\n",
    "- Pour lancer une capture, cliquer sur l'icône \"aileron\", pour l'arréter le carré rouge ;\n",
    "\n",
    "Les autres fonctionnalités sont identiques à d'autres applications, autrement, il suffit de lire entièrement le message reçu.\n",
    "\n",
    "</div>"
   ]
  },
  {
   "cell_type": "markdown",
   "metadata": {},
   "source": [
    "### 2- Manipulations"
   ]
  },
  {
   "cell_type": "markdown",
   "metadata": {},
   "source": [
    "<div class=\"alert alert-warning\">\n",
    "<img src=\"Images/CR.png\" alt=\"logo CR\" width=5% align=right>\n",
    "\n",
    "Travail demandé :\n",
    "    \n",
    "- Télécharger l'ensemble du répertoire GESTvsPOST sur votre poste de travail ;\n",
    "- Exécuter le fichier \"info_get.html\" ;\n",
    "- Lancer une capture avec wireshark ;\n",
    "- Renseigner les 3 champs du formulaire avec des informations farfelues mais dont vous vous souviendrez, puis cliquer sur le bouton submit ;\n",
    "- Observez la barre de navigation ;\n",
    "- Lorsque le serveur HTTP vous aura répondu, fermer la page du navigateur ;\n",
    "- Arrêter la capture.\n",
    "\n",
    "1- qu'avez-vous pu observer dans la barre de navigation ?\n",
    "    \n",
    "Le sniffeur réseau a enregistré beaucoup de traffic. Pour le filtrer, on peut par exemple ne demander que les trames concernant votre adresse IP.\n",
    "    \n",
    "2- Comment connaître son adresse IP ?\n",
    "    \n",
    "Dans la barre de filtrage de wireshark, ajouter le filtre : ip.addr== votre adresse ip\n",
    "    \n",
    "Intéressons nous d'abord à la ligne concernant la couche application avec la requête du GET.\n",
    "    \n",
    "**Couche physique**\n",
    "    \n",
    "3- Quel est le nombre d'octets de la trame ? Quel est l'Id de l'interface ?\n",
    "    \n",
    "4- Quel est le protocole encapsulé dans cette couche ?\n",
    "    \n",
    "**Couche liaison de données**\n",
    "    \n",
    "5- Quel est le protocole utilisé ?\n",
    "6- Quelles sont les adresses MAC du client et du serveur ? Ces valeurs sont-elles visibles dans la trame ?\n",
    "7- Quel est le protocole encapsulé dans cette couche ? Quelle est sa version ?\n",
    "\n",
    "**Couche réseau**\n",
    "\n",
    "8- Quel est donc le protocole utilisé ?\n",
    "9- Quelles sont les adresses IP source et destination ? Ces valeurs sont-elles visibles dans la trame ?\n",
    "10- Quel protocole est encapsulé dans cette couche ?\n",
    "    \n",
    "**Couche transport**\n",
    "    \n",
    "11- Quel est le protocole utilisé ?\n",
    "12- Quel est le port du serveur, le port du client ? Peut-on justifier ces valeurs ?\n",
    "13- Quel protocole est encapsulé dans cette couche ?\n",
    "\n",
    "**Couche application**\n",
    "\n",
    "14- Les informations saisies sont-elles lisibles dans la trame ?\n",
    "15- quel est le nom de domaine du serveur contacté ?\n",
    "16- Quel est le système d'exploitation et le navigateur utilisé par le client ?\n",
    "    \n",
    "Renouveler l'opération en exécutant le fichier \"info_post.html\"\n",
    "    \n",
    "17- Quelles sont les différences par rapport à l'activité précédente ?\n",
    "    \n",
    "**Attardons nous sur le protocole de transport TCP**. Au préalable, il faut avoir lu le notebook \"Connexion\".\n",
    "    \n",
    "18- Qui initie la connexion ? À quelle N° de trame ?\n",
    "19- Combien faut-il de trames pour que la connexion bi-directionnelle soit établie ?\n",
    "\n",
    "20- Justifier le numéro de séquence et le numéro de l'acknowledge lors d'un des échanges ?\n",
    "    \n",
    "21- Qui initie la déconnexion ? À quelle N° de trame ?\n",
    "22- Combien faut-il de trames pour que la déconnexion soit effective ?\n",
    "    \n",
    "\n",
    "**Nous allons maintenant nous connecter, puis nous loguer au serveur jupyter se trouvant à l'adresse : 92.103.233.204**\n",
    "    \n",
    "23- Faire une capture de trame englobant une connexion, un login, l'ouverture puis la dfermeture d'un notebook et enfin une déconnexion propre !\n",
    "    \n",
    "24- quel sont les numéros de ports serveur et client ?\n",
    "    \n",
    "25- Quelle différence observez-vous quant aux trames saisies juste après que la connexion au serveur soit établie ?\n",
    "    \n",
    "26- Dans quelle couche se situe le protocole TLS/SSL ?\n",
    "    \n",
    "27- Quel est l'algorithme de chiffrement utilisé par les 2 parties (client, serveur) ?\n",
    "    \n",
    "28- Pouvez-vous retrouver le \"username \" et le password\" saisis précédemment ?\n",
    "\n",
    "29- The last but not least : pourquoi lorsque l'on efface les informations enregistrées par le navigateur, celui-nous met en garde lorsqu'on essaie de se reconnecter à jupyterhub ?\n",
    "    \n",
    "</div>"
   ]
  },
  {
   "cell_type": "markdown",
   "metadata": {},
   "source": [
    "<div class=\"alert alert-success\">\n",
    "<img src=\"Images/TLS-SSL.png\" alt=\"protocole TLS principe\" width=80% align=center>\n",
    "</div>"
   ]
  }
 ],
 "metadata": {
  "kernelspec": {
   "display_name": "Python 3",
   "language": "python",
   "name": "python3"
  },
  "language_info": {
   "codemirror_mode": {
    "name": "ipython",
    "version": 3
   },
   "file_extension": ".py",
   "mimetype": "text/x-python",
   "name": "python",
   "nbconvert_exporter": "python",
   "pygments_lexer": "ipython3",
   "version": "3.8.3"
  },
  "varInspector": {
   "cols": {
    "lenName": 16,
    "lenType": 16,
    "lenVar": 40
   },
   "kernels_config": {
    "python": {
     "delete_cmd_postfix": "",
     "delete_cmd_prefix": "del ",
     "library": "var_list.py",
     "varRefreshCmd": "print(var_dic_list())"
    },
    "r": {
     "delete_cmd_postfix": ") ",
     "delete_cmd_prefix": "rm(",
     "library": "var_list.r",
     "varRefreshCmd": "cat(var_dic_list()) "
    }
   },
   "types_to_exclude": [
    "module",
    "function",
    "builtin_function_or_method",
    "instance",
    "_Feature"
   ],
   "window_display": false
  }
 },
 "nbformat": 4,
 "nbformat_minor": 2
}
