{
 "cells": [
  {
   "cell_type": "markdown",
   "metadata": {},
   "source": [
    "# <center><font face=\"arial\" size=\"5\" color=#0101DF>NUMERIQUE ET SCIENCES INFORMATIQUES Terminale NSI</font></center>"
   ]
  },
  {
   "cell_type": "markdown",
   "metadata": {},
   "source": [
    "## <font color=#013ADF>Séquence N° 1 : Récursivité</font>"
   ]
  },
  {
   "cell_type": "markdown",
   "metadata": {},
   "source": [
    "<div class=\"alert alert-danger\" role=\"alert\">\n",
    "    \n",
    "Les objectifs de cette séquence sont :\n",
    "\n",
    "- D'analysez le fonctionnement d'un programme récursif ;\n",
    "- Écrire un programme récursif.\n",
    "\n",
    "</div>"
   ]
  },
  {
   "cell_type": "markdown",
   "metadata": {},
   "source": [
    "### 1- Introduction"
   ]
  },
  {
   "cell_type": "markdown",
   "metadata": {},
   "source": [
    "![](Images/matreshka.jpeg)"
   ]
  },
  {
   "cell_type": "markdown",
   "metadata": {},
   "source": [
    "Matreshka est une poupée russe avec une poupée russe à l'intérieur..."
   ]
  },
  {
   "cell_type": "markdown",
   "metadata": {},
   "source": [
    "### 2- Définition"
   ]
  },
  {
   "cell_type": "markdown",
   "metadata": {},
   "source": [
    "<div class=\"alert alert-success\">\n",
    "<img src=\"Images/warning.png\" alt=\"logo warn\" width=5% align=left>\n",
    "    \n",
    "Un algorithme récursif est un algorithme qui s'appelle lui même !\n",
    "\n",
    "- Récurrence → Mathématiques\n",
    "- Récursivité → Informatique\n"
   ]
  },
  {
   "cell_type": "markdown",
   "metadata": {},
   "source": [
    "### 3- Principe"
   ]
  },
  {
   "cell_type": "markdown",
   "metadata": {},
   "source": [
    "La récursion est le processus de résolution d'un problème en termes de version plus petite du même problème. Comme le problème devient plus petit, le processus se terminera avec un problème basique qui sera résolu facilement.\n",
    "\n",
    "C'est un paradigme (manière de concevoir) utilisé en informatique (et ailleurs) : Diviser pour régner.\n",
    "\n",
    "*Remarque : Les programmes fournis n'ont pour seule prétention que de découvrir le principe de récursivité.*\n",
    "\n",
    "**Tester ce petit programme**"
   ]
  },
  {
   "cell_type": "code",
   "execution_count": null,
   "metadata": {},
   "outputs": [],
   "source": [
    "#!/usr/bin/env python3\n",
    "# -*- coding: utf-8 -*-\n",
    "\"\"\"\n",
    "Conversion d'un entier décimal en  base entre 2\n",
    "\"\"\"\n",
    "\n",
    "caracteres='01'\n",
    "\n",
    "def conv_bin_dec(n:int)->str:\n",
    "    if n < 2: # condition d'arrêt (cas élémentaire)\n",
    "        return caracteres[n]\n",
    "    return conv_bin_dec(n//2) + caracteres[n%2] # appel récursif\n",
    "\n",
    "nombre=9\n",
    "nb_converti=conv_bin_dec(nombre)\n",
    "print(f'L\\'entier décimal {nombre} vaut en binaire {nb_converti}')"
   ]
  },
  {
   "cell_type": "markdown",
   "metadata": {},
   "source": [
    "<div class=\"alert alert-success\">\n",
    "<img src=\"Images/warning.png\" alt=\"logo warn\" width=5% align=left>\n",
    "    \n",
    "**Pour réaliser un traitement récursif, j'ai 2 questions à me poser :**\n",
    "\n",
    "1. **À quelle(s) condition(s)  le traitement s'arrête-t-il ?**\n",
    "\n",
    "- Si je ne réponds pas à cette question, mon programme ne se termine jamais.\n",
    "\n",
    "- Il ne doit pas y avoir d'appel récursif dans cette partie.\n",
    "\n",
    "- Le cas à traiter est élémentaire.\n",
    "\n",
    "2. **Quel traitement  dois-je réaliser ?**\n",
    "\n",
    "- Si je ne réponds pas à cette question, mon programme ne réalisera pas la tâche escomptée.\n",
    "\n",
    "- Il y a normalement au moins un appel récursif !\n",
    "\n",
    "- Le traitement réalisé doit permettre de converger vers les conditions d'arrêts.\n",
    "\n",
    "L'allure générale d'une fonction récursive est la suivante :\n",
    "    \n",
    "<div>"
   ]
  },
  {
   "cell_type": "raw",
   "metadata": {},
   "source": [
    "debut fonction_recursive(arg1, arg2, ...)\n",
    "\tsi condition élémentaire vraie\t\t\t\t\t# cas élémentaire\n",
    "\t\talors retourner quelque chose\n",
    "\t\tsinon traitement quelconque possible\n",
    "\t\t\t  fonction_recursive(par1, par2, ...) \t# appel récursif\n",
    "\t\t\t  traitement quelconque possible\n",
    " \t\t\t  retourner quelque chose\n",
    " \tfinsi\n",
    "fin fonction"
   ]
  },
  {
   "cell_type": "markdown",
   "metadata": {},
   "source": [
    "**Autre exemple à tester**"
   ]
  },
  {
   "cell_type": "code",
   "execution_count": null,
   "metadata": {},
   "outputs": [],
   "source": [
    "def compter(n:int)->None :\n",
    "    \"\"\"\n",
    "    La fonction réalise le comptage d'une unité\n",
    "    de la valeur 0 jusqu'à que celle-ci atteigne\n",
    "    la valeur passée en argument\n",
    "    \"\"\"\n",
    "    if n < 0 : \n",
    "        return None # il n'y a rien à retourner\n",
    "    else :\n",
    "        compter(n-1)\n",
    "        print(n, end=\" \") # appel récursif de la fonction compter\n",
    "        return None # il n'y a rien à retourner\n",
    "\n",
    "compter(3)"
   ]
  },
  {
   "cell_type": "markdown",
   "metadata": {},
   "source": [
    "**Démontons le mécanisme de récursivité sur l'exemple précédent**\n",
    "\n",
    "Avant d'afficher la valeur de \"n\", on appelle à nouveau la fonction avec la valeur de \"n-1\", qui avant de s'afficher va appeler la fonction avec la valeur de \"(n-1)-1\" ... jusqu'au cas basique de terminaison \"n<0\".\n",
    "\n",
    "Pour pouvoir afficher, il faudra être \"descendu\" jusqu'au cas de base, puis remonter (dépiler) les valeurs jusqu'à la valeur initiale de \"n\".\n",
    "\n",
    "![](Images/appels_recursifs.png)\n",
    "\n",
    "**Copier/coller le code proposé sur la page du lien ci-dessous et visualiser son exécution.**\n",
    "\n",
    "http://pythontutor.com/visualize.html#mode=edit\n",
    "\n",
    "**Description de l'exécution d'un appel de la fonction compter avec l'argument 3.**\n",
    "\n",
    "Appel : compter(2).\n",
    "\n",
    "1. On exécute donc compter(2). Dans cette exécution, on appelle compte avec la valeur 1 pour le paramètre.\n",
    "2. On exécute donc compter(1). Dans cette exécution, on appelle compte avec la valeur 0 pour le paramètre.\n",
    "3. On exécute donc compter(0).  Dans cette exécution, on appelle compte avec une valeur -1 pour le paramètre.\n",
    "4. L'exécution de compter(-1) ne fait rien (c'est le sens de l'instruction return None).\n",
    "5. L'exécution de compter(-1) est terminée. Mais cette exécution a été lancée depuis l'exécution de compter(0), qui, elle, n'est pas terminée puisqu'il restait une ligne à exécuter : la ligne print(n, end=\" \"). Cette ligne est donc exécutée : la valeur 0 s'affiche à l'écran.\n",
    "6. L'exécution de compter(0) est terminée. Mais cette exécution a été lancée depuis l'exécution de compter(1), qui, elle, n'est pas terminée puisqu'il restait une ligne à exécuter : la ligne print(n, end=\" \"). Cette ligne est donc exécutée : la valeur 1 s'affiche à l'écran.\n",
    "7. L'exécution de compter(1) est ainsi terminée . Mais cette exécution de compter(1) avait été lancée depuis une exécution de compter(2). Et cette exécution de compter(2) n'est pas terminée : il restait la ligne print(n, end = \" \") à exécuter. Elle est donc exécutée, et 2 est donc imprimé à l'écran.\n",
    "8. L'exécution de compter(2) est donc terminée ! On peut respirer : quel suspense ! ;-)\n",
    "\n",
    "*Remarque : Mon objectif était de vous montrer le principe. Ce paradigme de programmation fonctionne, faites lui confiance et \"ne démonter pas la mécanique\" à chaque fois.*"
   ]
  },
  {
   "cell_type": "markdown",
   "metadata": {},
   "source": [
    "### 4- La pile d'exécution"
   ]
  },
  {
   "cell_type": "markdown",
   "metadata": {},
   "source": [
    "*Euh ... Moi, il me faut une vingtaine de lignes pour \"suivre\" l'évolution de la récursivité, comment le microprocesseur s'en sort-il ?*\n",
    "\n",
    "Sur la figure ci-dessus, on peut voir une pile d'exécution. Il s'agit d'une zone réservée en mémoire pour stocker temporairement le contexte (les valeurs). Lorsque la zone est pleine, il y a débordement. En anglais : stack overflow !\n",
    "\n",
    "Cette pile est de type LIFO (Last In First Out) que l'on peut assimiler à une pile d'assiettes. La dernière empilée est la première dépilée.\n",
    "\n",
    "Lorsqu’au bout de \"n\" appels se produit la condition d’arrêt, les différents contextes sont progressivement dépilés pour poursuivre l’exécution où on en était resté.\n",
    "\n",
    "*Remarque : tout le contexte n'est pas représenté sur la figure pour ne pas la surcharger !*"
   ]
  },
  {
   "cell_type": "markdown",
   "metadata": {},
   "source": [
    "### 5- Étude comparative"
   ]
  },
  {
   "cell_type": "markdown",
   "metadata": {},
   "source": [
    "<div class=\"alert alert-warning\">\n",
    "<img src=\"Images/CR.png\" alt=\"logo CR\" width=5% align=right>\n",
    "\n",
    "Travail à faire\n",
    "\n",
    "Compléter la version récursive de ce code (le cahier des charges est dans le docstring de la fonction)\n",
    "\n",
    "<div>"
   ]
  },
  {
   "cell_type": "code",
   "execution_count": null,
   "metadata": {},
   "outputs": [],
   "source": [
    "# Version récursive\n",
    "import time\n",
    "\n",
    "def somme(n:int)->int:\n",
    "    \"\"\"\n",
    "    Fonction récursive réalisant la somme\n",
    "    de tous les nombres inférieurs et égal\n",
    "    au nombre entier passé en argument.\n",
    "    Entrée \tUn entier naturel n positif\n",
    "    Sortie \tla somme 1+2+3+...+n. \n",
    "    \"\"\"\n",
    "    assert n>=0,'Le nombre doit être supérieur à 0' # vérification précondition\n",
    "    # Votre code ici\n",
    "    \n",
    "\n",
    "\n",
    "# test avec 2000\n",
    "print(somme(2000))"
   ]
  },
  {
   "cell_type": "markdown",
   "metadata": {},
   "source": [
    "Voici 2 versions de programme réalisant la même tâche que votre programme. On va comparer les temps d'exécution. Ajouter dans votre code, les instructions qui permettent de mesurer ce temps (par analogie avec les codes fournis)"
   ]
  },
  {
   "cell_type": "code",
   "execution_count": null,
   "metadata": {},
   "outputs": [],
   "source": [
    "# Version itérative\n",
    "import time\n",
    "\n",
    "def somme(n:int)->int:\n",
    "    assert n>=0,'Le nombre doit être supérieur à 0' # vérification précondition\n",
    "    accu=0\n",
    "    for i in range(1,n+1):\n",
    "        accu+=i\n",
    "    return accu\n",
    "    \n",
    "# Debut du decompte du temps\n",
    "debut = time.time()\n",
    "# test avec 2000\n",
    "print(somme(2000))\n",
    "# Affichage du temps d execution\n",
    "print(f\"Temps d'éxecution : {(time.time() - debut)} secondes\")"
   ]
  },
  {
   "cell_type": "code",
   "execution_count": null,
   "metadata": {},
   "outputs": [],
   "source": [
    "# Version les math ça peut servir !\n",
    "import time\n",
    "\n",
    "def somme(n:int)->int:\n",
    "    assert n>=0,'Le nombre doit être supérieur à 0' # vérification précondition\n",
    "    return int(n*(n+1)/2)\n",
    "\n",
    "# Debut du decompte du temps\n",
    "debut = time.time()\n",
    "# test avec 2000\n",
    "print(somme(2000))\n",
    "# Affichage du temps d execution\n",
    "print(f\"Temps d'éxecution : {(time.time() - debut)} secondes\")"
   ]
  },
  {
   "cell_type": "markdown",
   "metadata": {},
   "source": [
    "*Remarque : le code si dessus implémente l'équation :*\n",
    "\n",
    "$$\n",
    "somme= \\frac{n(n+1)}2\n",
    "$$\n"
   ]
  },
  {
   "cell_type": "markdown",
   "metadata": {},
   "source": [
    "**Une petite démo ?**\n",
    "\n",
    "$$\n",
    "Endroit\\\\somme = 1 + 2 + 3 + ... + (n-3) + (n-2) + (n-1) + n\\\\Envers\\\\somme = n + (n-1) + (n-2) + (n-3) ... + 3 + 2 + 1 \\\\Addition = Endroit + Envers\\\\2 \\times somme = (n+1) + (n+1) + (n+1 ) + ... + (n+1) + (n+1)+(n+1)\\\\2 \\times somme = n \\times(n+1)\\\\somme = \\frac {n \\times(n+1)}{2}\\\\\n",
    "\t\t\t\t$$\n"
   ]
  },
  {
   "cell_type": "markdown",
   "metadata": {},
   "source": [
    "<div class=\"alert alert-warning\">\n",
    "<img src=\"Images/CR.png\" alt=\"logo CR\" width=5% align=right>\n",
    "\n",
    "Travail à faire\n",
    "\n",
    "**Conclusion du timing des codes** : Ici votre conclusion.\n",
    "<div>"
   ]
  },
  {
   "cell_type": "markdown",
   "metadata": {},
   "source": [
    "### 6- Exercices d'application"
   ]
  },
  {
   "cell_type": "markdown",
   "metadata": {},
   "source": [
    "**Exercice 1** : On appelle palindrome un mot qui se lit dans les deux sens comme \"sos\" ou \"radar\".\n",
    "\n",
    "*Cas d'arrêt* :\n",
    "\n",
    "Si le mot est la chaîne vide, c'est un palindrome.\n",
    "Si le mot ne contient qu'une seule lettre, c'est un palindrome.\n",
    "    \n",
    "*Autres cas* :\n",
    "\n",
    "Le mot est un palindrome si la première et la dernière lettre sont identiques et le mot tronqué de ses première et dernière lettres est un palindrome."
   ]
  },
  {
   "cell_type": "code",
   "execution_count": null,
   "metadata": {},
   "outputs": [],
   "source": [
    "def palindrome(mot:str)->bool :\n",
    "    \"\"\"\n",
    "    Entrée \tUn mot (type str)\n",
    "    Sortie \tTrue si l'entrée est un palindrome, False sinon\n",
    "    \"\"\"\n",
    "    # Votre code ici\n",
    "   \n",
    "\n",
    "print(palindrome('sos'))\n",
    "print(palindrome('kayak'))\n",
    "print(palindrome('Karine Alla EnIrak'.lower()))\n",
    "print(palindrome('glop glop'))"
   ]
  },
  {
   "cell_type": "markdown",
   "metadata": {},
   "source": [
    "**Exercice 2** : Miroir mon beau miroir dis moi que je suis la plus belle ?\n",
    "\n",
    "\n",
    "![](Images/miroir.jpg)\n",
    "\n",
    "Exemples :\n",
    "\n",
    "miroir → riorim\t\t\t\t\tburps → sprub\t\t\t\tzorglub → bulgroz\n",
    "\n",
    "*Condition d'arrêt :*\n",
    "\n",
    "Si le mot n'a aucune lettre ou une seule lettre, il est déjà retourné.\n",
    "    \n",
    "*Autres cas* :\n",
    "\n",
    "Le miroir du mot est la concaténation de sa dernière lettre et du miroir du mot tronqué de cette dernière lettre."
   ]
  },
  {
   "cell_type": "code",
   "execution_count": null,
   "metadata": {},
   "outputs": [],
   "source": [
    "def miroir(mot:str)->str:\n",
    "    \"\"\"\n",
    "    Entrée \tun mot (type str)\n",
    "    Sortie \tle mot à contre-sens\n",
    "    \"\"\"\n",
    "    # Votre code ici\n",
    "    \n",
    "   \n",
    "print(miroir('gloubiboulga'))"
   ]
  },
  {
   "cell_type": "markdown",
   "metadata": {},
   "source": [
    "**Exercice 3**\n",
    "\n",
    "Ce problème a déjà été résolu avec une méthode itérative. Il s'agit de rechercher la présence d’un élement dans une liste préalablement triée.\n",
    "\n",
    "Rappel : L'idée pour résoudre cette question est d'utiliser une méthode  dichotomique (Diviser pour régner). La liste étant triée, après comparaison avec l’élément du  \"milieu\", il est en effet facile de voir dans quelle moitié peut  éventuellement se trouver l’élément cherché. On aura plus alors qu'à  recommencer récursivement la recherche.\n",
    "\n",
    "La condition d'arrêt à la récursivité sera identique à celle utilisée avec la version itérative."
   ]
  },
  {
   "cell_type": "code",
   "execution_count": null,
   "metadata": {},
   "outputs": [],
   "source": [
    "def recherche_dicho(liste:list,n:int,deb:int,fin:int):\n",
    "    '''\n",
    "    Chercher un élément n dans une liste triée liste\n",
    "    Entrée : une liste de nombre triée \"liste\"\n",
    "            le nombre recherché \"n\"\n",
    "            l'index de début de liste \"deb\" (0 normalement)\n",
    "            l'index de fin de liste \"fin\" (taille de la liste normalement)\n",
    "    Sortie : un booléen indiquant ou non la présence de l'élément \"n\"\n",
    "            dans la liste \"liste\"\n",
    "    '''\n",
    "    # Votre code ici\n",
    "    \n",
    "\n",
    "valeurs=[4, 7, 12, 19, 21, 22]\n",
    "elt=21\n",
    "print(recherche_dicho(valeurs, elt, 0, len(valeurs)))"
   ]
  },
  {
   "cell_type": "markdown",
   "metadata": {},
   "source": [
    "**Exercice 4**\n",
    "\n",
    "Réaliser une fonction qui convertit un entier dans une autre base comprise entre 2 et 16 en une chaîne de caractères."
   ]
  },
  {
   "cell_type": "code",
   "execution_count": null,
   "metadata": {},
   "outputs": [],
   "source": [
    "#!/usr/bin/env python3\n",
    "# -*- coding: utf-8 -*-\n",
    "\"\"\"\n",
    "Conversion d'un entier en une chaîne de caractère\n",
    "dans une autre base entre 2 et 16\n",
    "Entrée : un nombre décimal entier\n",
    "        une base entière comprise entre 2 et 16\n",
    "Sortie : un chaîne de caractères représentant le nombre converti\n",
    "\"\"\"\n",
    "\n",
    "caracteres = '0123456789ABCDEF'\n",
    "\n",
    "def vers_chaine(n:int, base:int)->str:\n",
    "   # votre code ici\n",
    "\n",
    "conversion=vers_chaine(159, 16)"
   ]
  },
  {
   "cell_type": "markdown",
   "metadata": {},
   "source": [
    "**Exercice 5**\n",
    "\n",
    "Réaliser une fonction récursive qui renvoie le pgcd de 2 nombres entiers."
   ]
  },
  {
   "cell_type": "markdown",
   "metadata": {},
   "source": [
    "Voici une méthode de recherche du plus grand nombre diviseur des 2 nombres a, b. PGCD(a,b)\n",
    "\n",
    "Plusieurs méthodes permettent de trouver le PGCD de 2 nombres, mais la plus rapide pour des grands nombres et l'algorithme d'Euclide (300 ans avant notre ère).\n",
    "\n",
    "La méthode sur un exemple : PGCD(357,561)\n",
    "\n",
    "On réalise une division euclidienne entre le plus grand nombre et le plus petit.\n",
    "\n",
    "561 = 357 x 1 + 204\n",
    "\n",
    "Puis on divise le plus petit des 2 nombres par le reste.\n",
    "\n",
    "357 = 204 x 1 + 153\n",
    "\n",
    "204 = 153 x 1 + **51**\n",
    "\n",
    "153 = 51 x 3 + 0\n",
    "\n",
    "Le dernier reste non nul est le PGCD : PGCD(357,561)=51"
   ]
  },
  {
   "cell_type": "markdown",
   "metadata": {},
   "source": [
    "On donne ci-dessous une version itérative de la méthode :"
   ]
  },
  {
   "cell_type": "code",
   "execution_count": null,
   "metadata": {},
   "outputs": [],
   "source": [
    "#!/usr/bin/env python3\n",
    "# -*- coding: utf-8 -*-\n",
    "\"\"\"\n",
    "Created on Sun Aug 30 16:46:41 2020\n",
    "\"\"\"\n",
    "\n",
    "def pgcd(a:int,b:int)->int:\n",
    "    if a<b:\n",
    "        a,b=b,a\n",
    "    while b:\n",
    "        a,b=b,a%b\n",
    "    return a\n",
    "\n",
    "print(pgcd(42,63))\n",
    "print(pgcd(357,561))"
   ]
  }
 ],
 "metadata": {
  "kernelspec": {
   "display_name": "Python 3",
   "language": "python",
   "name": "python3"
  },
  "language_info": {
   "codemirror_mode": {
    "name": "ipython",
    "version": 3
   },
   "file_extension": ".py",
   "mimetype": "text/x-python",
   "name": "python",
   "nbconvert_exporter": "python",
   "pygments_lexer": "ipython3",
   "version": "3.7.7"
  },
  "varInspector": {
   "cols": {
    "lenName": 16,
    "lenType": 16,
    "lenVar": 40
   },
   "kernels_config": {
    "python": {
     "delete_cmd_postfix": "",
     "delete_cmd_prefix": "del ",
     "library": "var_list.py",
     "varRefreshCmd": "print(var_dic_list())"
    },
    "r": {
     "delete_cmd_postfix": ") ",
     "delete_cmd_prefix": "rm(",
     "library": "var_list.r",
     "varRefreshCmd": "cat(var_dic_list()) "
    }
   },
   "types_to_exclude": [
    "module",
    "function",
    "builtin_function_or_method",
    "instance",
    "_Feature"
   ],
   "window_display": false
  }
 },
 "nbformat": 4,
 "nbformat_minor": 2
}
