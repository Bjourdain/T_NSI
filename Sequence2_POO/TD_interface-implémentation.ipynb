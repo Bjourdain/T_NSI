{
 "cells": [
  {
   "cell_type": "markdown",
   "metadata": {},
   "source": [
    "# <center><font face=\"arial\" size=\"5\" color=#0101DF>NUMERIQUE ET SCIENCES INFORMATIQUES Terminale NSI</font></center>"
   ]
  },
  {
   "cell_type": "markdown",
   "metadata": {},
   "source": [
    "## <font color=#013ADF>Séquence N° 2 : Interface et implémentation</font>"
   ]
  },
  {
   "cell_type": "markdown",
   "metadata": {},
   "source": [
    "<div class=\"alert alert-danger\" role=\"alert\">\n",
    "    \n",
    "Les objectifs de cette séquence sont :\n",
    "\n",
    "- Écrire la définition d'une classe ;\n",
    "- Accèder aux attributs et méthodes d'une classe ;\n",
    "- Spécifier une structure de données par son interface ;\n",
    "- Distinguer interface et implémentation ;\n",
    "- Écrire plusieurs implémentations d'une même structure de données.\n",
    "\n",
    "</div>"
   ]
  },
  {
   "cell_type": "markdown",
   "metadata": {},
   "source": [
    "### 1- Points du plan"
   ]
  },
  {
   "cell_type": "markdown",
   "metadata": {},
   "source": [
    "On considère l'interface suivante :"
   ]
  },
  {
   "cell_type": "code",
   "execution_count": 2,
   "metadata": {},
   "outputs": [],
   "source": [
    "from interface import Interface, implements\n",
    "\n",
    "class InterfacePoint(Interface):\n",
    "\n",
    "    def __init__(self, nom: str, x: int, y: int):\n",
    "        pass\n",
    "\n",
    "    def __repr__(self):\n",
    "        pass\n",
    "\n",
    "    @classmethod\n",
    "    def distance(cls, a, b) -> float:\n",
    "        pass"
   ]
  },
  {
   "cell_type": "markdown",
   "metadata": {},
   "source": [
    "<div class=\"alert alert-warning\">\n",
    "<img src=\"Images/CR.png\" alt=\"logo CR\" width=5% align=right>\n",
    "    \n",
    "Définir une classe \"Point\" implémentant l'interface \"InterfacePoint\" puis compléter le corps des méthodes spéciales `__init__` et `__repr__` de la manière suivante :\n",
    "- Le constructeur `__init__` doit initialiser :\n",
    "- L'attribut d'instance nom de type str qui prendra pour valeur le nom du point\n",
    "- L'attribut d'instance x de type int représentant l'abscisse du point\n",
    "- L'attribut d'instance y de type int représentant l'ordonnée du point\n",
    "- La méthode spéciale `__repr__` doit renvoyer la chaîne {nom du point}({valeur de x}, {valeur de y})\n",
    "<div>"
   ]
  },
  {
   "cell_type": "markdown",
   "metadata": {},
   "source": [
    "<div class=\"alert alert-warning\">\n",
    "<img src=\"Images/CR.png\" alt=\"logo CR\" width=5% align=right>\n",
    "    \n",
    "Compléter le corps de la ***méthode de classe***  distance qui prend en paramètres deux instances a et b de Point et renvoie la valeur de la distance entre ces deux points.\n",
    "<div>"
   ]
  },
  {
   "cell_type": "markdown",
   "metadata": {},
   "source": [
    "*Exemple d'utilisation* :\n",
    "> ```python\n",
    "> >>> a = Point('A', -50, -150)\n",
    "> >>> b = Point('B', 200, -100)\n",
    "> >>> a\n",
    "> A(-50, -150)\n",
    "> >>> b\n",
    "> B(200, -100)\n",
    "> >>> Point.distance(a, b)\n",
    "> 254.95097567963924\n",
    "> ```"
   ]
  },
  {
   "cell_type": "markdown",
   "metadata": {},
   "source": [
    "### 2- Satellites"
   ]
  },
  {
   "cell_type": "markdown",
   "metadata": {},
   "source": [
    "<div class=\"alert alert-warning\">\n",
    "<img src=\"Images/CR.png\" alt=\"logo CR\" width=5% align=right>\n",
    "\n",
    "Définir une classe \"Satellite\" qui permette d'instancier des objets simulant des satellites artificiels lancés dans l'espace, autour de la terre. Le constructeur de cette classe initialisera les attributs d'instance ci-dessous :\n",
    "- L'attribut nom de type str, représentant le nom du satellite\n",
    "- L'attribut masse de type int ou float, représentant la masse du satellite en $kg$, ayant pour valeur par défaut 250\n",
    "- L'attribut vitesse de type int ou float, représentant la vitesse du satellite en $m.s^{-1}$, ayant pour valeur par défaut 0 \n",
    "<div>"
   ]
  },
  {
   "cell_type": "markdown",
   "metadata": {},
   "source": [
    "<div class=\"alert alert-warning\">\n",
    "<img src=\"Images/CR.png\" alt=\"logo CR\" width=5% align=right>\n",
    "\n",
    "Instancier les trois satellites suivants puis vérifier en console les valeurs de leurs attributs :\n",
    "- Satellite s1 portant le nom de \"Sirius\"\n",
    "- Satellite s2 ayant pour nom \"Arcturus\" et pour masse 100 $kg$\n",
    "- Satellite s3 ayant pour nom \"Procyon\", pour masse 150 $kg$ et pour vitesse 20 $m.s^{-1}$    \n",
    "<div>"
   ]
  },
  {
   "cell_type": "markdown",
   "metadata": {},
   "source": [
    "<div class=\"alert alert-warning\">\n",
    "<img src=\"Images/CR.png\" alt=\"logo CR\" width=5% align=right>\n",
    "\n",
    "Créer les trois méthodes infos, __repr__ et __str__ pour qu'elles produisent les affichages donnés en exemple.\n",
    "<br>*Exemple* :\n",
    "\n",
    "s3.infos()\n",
    "    \n",
    "Le satellite Procyon (masse : 150 kg) a une vitesse de 20 m/s\n",
    "    \n",
    "s3\n",
    "    \n",
    "Nom : Procyon\n",
    "Masse : 150 kg\n",
    "Vitesse : 20 m/s\n",
    "    \n",
    "print(s3)\n",
    "    \n",
    "Satellite Procyon : | Masse -> 150 kg | Vitesse -> 20 m/s\n",
    "   \n",
    "<div>"
   ]
  },
  {
   "cell_type": "markdown",
   "metadata": {},
   "source": [
    "<div class=\"alert alert-warning\">\n",
    "<img src=\"Images/CR.png\" alt=\"logo CR\" width=5% align=right>\n",
    "\n",
    "Tester les deux dernières instructions de la question précédente :\n",
    "- En commentant la méthode spéciale `__repr__`\n",
    "- En commentant la méthode spéciale `__str__`\n",
    "\n",
    "On expliquera dans chaque cas les affichages obtenus.    \n",
    "<div>"
   ]
  },
  {
   "cell_type": "markdown",
   "metadata": {},
   "source": [
    "<div class=\"alert alert-warning\">\n",
    "<img src=\"Images/CR.png\" alt=\"logo CR\" width=5% align=right>\n",
    "\n",
    "On rappelle que l'énergie cinétique se calcule à l'aide de la formule : $E_{c} = \\frac{1}{2} m v^{2}$\n",
    "<br><br>Définir une méthode energie qui renvoie la valeur de l'énergie cinétique de l'instance.    \n",
    "<div>"
   ]
  },
  {
   "cell_type": "markdown",
   "metadata": {},
   "source": [
    "<div class=\"alert alert-warning\">\n",
    "<img src=\"Images/CR.png\" alt=\"logo CR\" width=5% align=right>\n",
    "\n",
    "On rappelle que la variation $\\Delta v$ subie par un objet de masse $m$ soumis à l'action d'une force $F$ pendant un temps $t$ vaut : $\\Delta v = \\frac{F \\times t}{m}$. Par exemple, un satellite de 300 $kg$ qui subit une force de 600 $N$ pendant 10 secondes voit sa vitesse augmenter (ou diminuer) de 20 $m.s^{-1}$.\n",
    "<br><br> Définir une méthode impulsion qui :\n",
    "- Prend en paramètre la valeur de la force, force, en $N$ et la durée d'application de cette force, duree, en $s$\n",
    "- Modifie la vitesse du satellite en conséquence    \n",
    "<div>"
   ]
  },
  {
   "cell_type": "markdown",
   "metadata": {},
   "source": [
    "### 3- Comptes bancaires"
   ]
  },
  {
   "cell_type": "markdown",
   "metadata": {},
   "source": [
    "<div class=\"alert alert-warning\">\n",
    "<img src=\"Images/CR.png\" alt=\"logo CR\" width=5% align=right>\n",
    "\n",
    "Définir une classe CompteBancaire permettant d'instancier des objets représentant des comptes. \n",
    "<br><br>Le constructeur de cette classe initialisera deux attributs :\n",
    "- L'attribut numero, de type str, représentant le numéro de compte\n",
    "- L'attribut solde, de type float   \n",
    "<div>"
   ]
  },
  {
   "cell_type": "markdown",
   "metadata": {},
   "source": [
    "<div class=\"alert alert-warning\">\n",
    "<img src=\"Images/CR.png\" alt=\"logo CR\" width=5% align=right>\n",
    "\n",
    "Créer les méthodes credit et debit permettant respectivement d'ajouter et de retirer une certaine somme. Ces méthodes possèderont deux paramètres :\n",
    "- Le paramètre montant, de type float, correspondant à la somme à ajouter ou à débiter\n",
    "- Le paramètre description, de type str, qui précise le type d'opération.\n",
    "<br><br>Ce paramètre sera initialisé par défaut à \"Type de crédit/débit non précisé\"   \n",
    "<div>"
   ]
  },
  {
   "cell_type": "markdown",
   "metadata": {},
   "source": [
    "<div class=\"alert alert-warning\">\n",
    "<img src=\"Images/CR.png\" alt=\"logo CR\" width=5% align=right>\n",
    "\n",
    "Créer la méthode info_solde qui renvoie la chaîne de caractères suivante :\n",
    "\n",
    "Le solde du compte n°{numéro du compte} est de {valeur du solde} €.\n",
    "   \n",
    "<div>"
   ]
  },
  {
   "cell_type": "markdown",
   "metadata": {},
   "source": [
    "<div class=\"alert alert-warning\">\n",
    "<img src=\"Images/CR.png\" alt=\"logo CR\" width=5% align=right>\n",
    "\n",
    "Dans cette question, on souhaite générer un fichier au format csv représentant un relevé du compte.\n",
    "<br><br>Ce fichier devra posséder les quatre champs suivants : \"Description\", \"Crédit\", \"Débit\" et \"Solde\".\n",
    "- Créer un nouvel attribut d'instance histo et l'initialiser à la valeur Solde initial,,,{valeur du solde}\\n.\n",
    "- Compléter les méthodes credit et debit pour ajouter l'enregistrement correspondant à chaque opération.\n",
    "- Créer la méthode d'instance genere_historique qui crée le fichier releve_{numéro du compte}.csv comme indiqué dans l'exemple ci-dessous.   \n",
    "<div>"
   ]
  },
  {
   "cell_type": "markdown",
   "metadata": {},
   "source": [
    "<div class=\"alert alert-warning\">\n",
    "<img src=\"Images/CR.png\" alt=\"logo CR\" width=5% align=right>\n",
    "\n",
    "*Exemple d'utilisation* :\n",
    "\n",
    "compte = CompteBancaire('15667', 800)<br>\n",
    "compte.credit(350, 'Virement CAF')<br>\n",
    "compte.debit(200, 'Paiement CB')<br>\n",
    "compte.info_solde()<br>\n",
    "Le solde du compte n°15667 est de 950.00 €.<br>\n",
    "compte.credit(500)<br>\n",
    "compte.debit(15.75)<br>\n",
    "compte.info_solde()<br>\n",
    "Le solde du compte n°15667 est de 1434.25 €.<br>\n",
    "compte.credit(1786.84, 'Versement salaire')<br>\n",
    "compte.debit(60, 'Retrait DAB')<br>\n",
    "compte.info_solde()<br>\n",
    "Le solde du compte n°15667 est de 3161.09 €.<br>\n",
    "compte.genere_historique()<br>\n",
    "→ Voir fichier généré\n",
    "<div>"
   ]
  }
 ],
 "metadata": {
  "kernelspec": {
   "display_name": "Python 3",
   "language": "python",
   "name": "python3"
  },
  "language_info": {
   "codemirror_mode": {
    "name": "ipython",
    "version": 3
   },
   "file_extension": ".py",
   "mimetype": "text/x-python",
   "name": "python",
   "nbconvert_exporter": "python",
   "pygments_lexer": "ipython3",
   "version": "3.7.7"
  },
  "varInspector": {
   "cols": {
    "lenName": 16,
    "lenType": 16,
    "lenVar": 40
   },
   "kernels_config": {
    "python": {
     "delete_cmd_postfix": "",
     "delete_cmd_prefix": "del ",
     "library": "var_list.py",
     "varRefreshCmd": "print(var_dic_list())"
    },
    "r": {
     "delete_cmd_postfix": ") ",
     "delete_cmd_prefix": "rm(",
     "library": "var_list.r",
     "varRefreshCmd": "cat(var_dic_list()) "
    }
   },
   "types_to_exclude": [
    "module",
    "function",
    "builtin_function_or_method",
    "instance",
    "_Feature"
   ],
   "window_display": false
  }
 },
 "nbformat": 4,
 "nbformat_minor": 2
}
