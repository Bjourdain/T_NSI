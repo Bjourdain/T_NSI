{
 "cells": [
  {
   "cell_type": "markdown",
   "metadata": {},
   "source": [
    "# <center><font face=\"arial\" size=\"5\" color=#0101DF>NUMERIQUE ET SCIENCES INFORMATIQUES Terminale NSI</font></center>"
   ]
  },
  {
   "cell_type": "markdown",
   "metadata": {},
   "source": [
    "## <font color=#013ADF>Séquence N° 2 : Programmation orienté objet - Devoir</font>"
   ]
  },
  {
   "cell_type": "markdown",
   "metadata": {},
   "source": [
    "### Problème : Vecteurs du plan à coordonnées entières"
   ]
  },
  {
   "cell_type": "markdown",
   "metadata": {},
   "source": [
    "<img src=\"annexe_math.png\" alt=\"Annexe mathématiques\" width=100% align=center>"
   ]
  },
  {
   "cell_type": "markdown",
   "metadata": {},
   "source": [
    "<div class=\"alert alert-danger\" role=\"alert\">\n",
    "    \n",
    "Vous allez implémenter une classe permettant de créer et de manipuler des vecteurs 2D, à coordonnées entières, à partir de l'interface donnée ci-dessous :\n",
    "<div>"
   ]
  },
  {
   "cell_type": "code",
   "execution_count": null,
   "metadata": {},
   "outputs": [],
   "source": [
    "from interface import Interface, implements\n",
    "\n",
    "class InterfaceVecteur2D(Interface):\n",
    "\n",
    "        def __init__(self, x: int=None, y: int=None):\n",
    "            pass\n",
    "\n",
    "        def __repr__(self) -> str:\n",
    "            pass\n",
    "\n",
    "        def produit_reel(self, k: int):\n",
    "            pass\n",
    "\n",
    "        def representant(self, point: tuple=(0, 0)) -> tuple:\n",
    "            pass\n",
    "\n",
    "        def norme(self) -> float:\n",
    "            pass\n",
    "\n",
    "        @classmethod\n",
    "        def addition(cls, u, v):\n",
    "            pass\n",
    "\n",
    "        @classmethod\n",
    "        def produit_scalaire(cls, u, v) -> float:\n",
    "            pass\n",
    "\n",
    "        @classmethod\n",
    "        def orthogonaux(cls, u, v) -> bool:\n",
    "            pass\n",
    "\n",
    "        @classmethod\n",
    "        def colineaires(cls, u, v) -> bool:\n",
    "            pass"
   ]
  },
  {
   "cell_type": "markdown",
   "metadata": {},
   "source": [
    "<div class=\"alert alert-warning\">\n",
    "    \n",
    "**1-** Définir une classe **Vecteur2D** implémentant l'interface **InterfaceVecteur2D** puis compléter le corps des méthodes spéciales `__init__` et `__repr__` de la manière suivante :\n",
    "Le constructeur `__init__` doit initialiser :\n",
    "- L'attribut d'instance `x` de type `int` représentant l'abscisse du vecteur\n",
    "- L'attribut d'instance `y` de type `int` représentant l'ordonnée du vecteur\n",
    "\n",
    "La méthode spéciale `__repr__` doit renvoyer la chaîne **({valeur de x}, {valeur de y})**\n",
    "\n",
    "*Exemple* : \n",
    "```python\n",
    "u = Vecteur2D(4, 3)\n",
    "v = Vecteur2D(2)\n",
    "w = Vecteur2D(y=7)\n",
    "\n",
    "print(u)\n",
    "print(v)\n",
    "print(w)\n",
    "(4, 3)\n",
    "(2, None)\n",
    "(None, 7)\n",
    "```\n",
    "<div>"
   ]
  },
  {
   "cell_type": "code",
   "execution_count": null,
   "metadata": {},
   "outputs": [],
   "source": []
  },
  {
   "cell_type": "code",
   "execution_count": null,
   "metadata": {},
   "outputs": [],
   "source": []
  },
  {
   "cell_type": "markdown",
   "metadata": {},
   "source": [
    "<div class=\"alert alert-warning\">\n",
    "    \n",
    "**2-** Compléter le corps de la méthode **produit_reel** qui prend en argument un entier **k** et renvoie une instance de **Vecteur2D** représentant le vecteur $k \\vec{u}$. \n",
    "<br>Si une des coordonnées du vecteur $\\vec{u}$ n'est pas définie, la méthode renverra **None**.\n",
    " \n",
    "*Exemple* :\n",
    "```python\n",
    "u = Vecteur2D(4, 3)\n",
    "v = Vecteur2D()\n",
    "print(u.produit_reel(-6))\n",
    "print(v.produit_reel(-6))\n",
    "(-24, -18)\n",
    "None\n",
    "```\n",
    "<div>"
   ]
  },
  {
   "cell_type": "code",
   "execution_count": null,
   "metadata": {},
   "outputs": [],
   "source": []
  },
  {
   "cell_type": "code",
   "execution_count": null,
   "metadata": {},
   "outputs": [],
   "source": []
  },
  {
   "cell_type": "markdown",
   "metadata": {},
   "source": [
    "<div class=\"alert alert-warning\">\n",
    "    \n",
    "**3-** Compléter le corps de la méthode **representant** qui prend en argument un **tuple point** (initialisé par défaut au couple **(0, 0)**) représentant l'origine du vecteur et renvoie un **tuple** constitués des couples représentant respectivement l'origine du vecteur et son extrémité.\n",
    "<br>Si une des coordonnées du vecteur $\\vec{u}$ n'est pas définie, la méthode renverra **None**.\n",
    " \n",
    "*Exemple* :\n",
    "```python\n",
    "u = Vecteur2D(4, 3)\n",
    "print(u.representant())\n",
    "((0, 0), (4, 3))\n",
    "print(u.representant((2, 9)))\n",
    "(2, 9), (6, 12))\n",
    "v = Vecteur2D()\n",
    "print(v.representant((2, 9)))\n",
    "None\n",
    "```\n",
    "<div>"
   ]
  },
  {
   "cell_type": "code",
   "execution_count": null,
   "metadata": {},
   "outputs": [],
   "source": []
  },
  {
   "cell_type": "code",
   "execution_count": null,
   "metadata": {},
   "outputs": [],
   "source": []
  },
  {
   "cell_type": "markdown",
   "metadata": {},
   "source": [
    "<div class=\"alert alert-warning\">\n",
    "    \n",
    "**4-** Compléter le corps de la méthode **norme** qui renvoie la norme du vecteur $\\vec{u}$.\n",
    "<br>Si une des coordonnées du vecteur $\\vec{u}$ n'est pas définie, la méthode renverra `None`.\n",
    "\n",
    "*Exemple* :\n",
    "```python\n",
    "u = Vecteur2D(4, 3)\n",
    "print(u.norme())\n",
    "5.0\n",
    "v = Vecteur2D()\n",
    "print(v.norme())\n",
    "None\n",
    "```\n",
    "<div>"
   ]
  },
  {
   "cell_type": "code",
   "execution_count": null,
   "metadata": {},
   "outputs": [],
   "source": []
  },
  {
   "cell_type": "code",
   "execution_count": null,
   "metadata": {},
   "outputs": [],
   "source": []
  },
  {
   "cell_type": "markdown",
   "metadata": {},
   "source": [
    "<div class=\"alert alert-warning\">\n",
    "    \n",
    "**5-** Compléter le corps des quatre **méthodes de classe** de la manière suivante puis les tester.\n",
    "- La méthode **addition** doit renvoyer une instance de **Vecteur2D** représentant la somme $\\vec{u} + \\vec{v}$\n",
    "- La méthode **produit_scalaire** doit renvoyer le produit scalaire $\\vec{u} . \\vec{v}$\n",
    "- La méthode **orthogonaux** doit renvoyer **True** si les vecteurs $\\vec{u}$ et $\\vec{v}$ sont orthogonaux et **False** sinon\n",
    "- La méthode **colineaires** doit renvoyer **True** si les vecteurs $\\vec{u}$ et $\\vec{v}$ sont colinéaires et **False** sinon\n",
    "\n",
    "Si une des coordonnées du vecteur $\\vec{u}$ ou du vecteur $\\vec{v}$ n'est pas définie, ces méthodes renverront **None**.\n",
    "<div>"
   ]
  },
  {
   "cell_type": "code",
   "execution_count": null,
   "metadata": {
    "jupyter": {
     "source_hidden": true
    }
   },
   "outputs": [],
   "source": []
  },
  {
   "cell_type": "code",
   "execution_count": null,
   "metadata": {
    "jupyter": {
     "source_hidden": true
    }
   },
   "outputs": [],
   "source": []
  }
 ],
 "metadata": {
  "kernelspec": {
   "display_name": "Python 3",
   "language": "python",
   "name": "python3"
  },
  "language_info": {
   "codemirror_mode": {
    "name": "ipython",
    "version": 3
   },
   "file_extension": ".py",
   "mimetype": "text/x-python",
   "name": "python",
   "nbconvert_exporter": "python",
   "pygments_lexer": "ipython3",
   "version": "3.6.10"
  },
  "varInspector": {
   "cols": {
    "lenName": 16,
    "lenType": 16,
    "lenVar": 40
   },
   "kernels_config": {
    "python": {
     "delete_cmd_postfix": "",
     "delete_cmd_prefix": "del ",
     "library": "var_list.py",
     "varRefreshCmd": "print(var_dic_list())"
    },
    "r": {
     "delete_cmd_postfix": ") ",
     "delete_cmd_prefix": "rm(",
     "library": "var_list.r",
     "varRefreshCmd": "cat(var_dic_list()) "
    }
   },
   "types_to_exclude": [
    "module",
    "function",
    "builtin_function_or_method",
    "instance",
    "_Feature"
   ],
   "window_display": false
  }
 },
 "nbformat": 4,
 "nbformat_minor": 4
}
