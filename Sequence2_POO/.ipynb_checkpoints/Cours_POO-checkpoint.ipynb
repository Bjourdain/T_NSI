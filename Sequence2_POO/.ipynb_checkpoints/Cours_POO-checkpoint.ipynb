{
 "cells": [
  {
   "cell_type": "markdown",
   "metadata": {},
   "source": [
    "# <center><font face=\"arial\" size=\"5\" color=#0101DF>NUMERIQUE ET SCIENCES INFORMATIQUES Terminale NSI</font></center>"
   ]
  },
  {
   "cell_type": "markdown",
   "metadata": {},
   "source": [
    "## <font color=#013ADF>Séquence N° 2 : Programmation orienté objet - éléments de cours</font>"
   ]
  },
  {
   "cell_type": "markdown",
   "metadata": {},
   "source": [
    "<div class=\"alert alert-danger\" role=\"alert\">\n",
    "    \n",
    "Les objectifs de cette séquence sont :\n",
    "\n",
    "- Écrire la définition d'une classe ;\n",
    "- Accèder aux attributs et méthodes d'une classe ;\n",
    "- Spécifier une structure de données par son interface ;\n",
    "- Distinguer interface et implémentation ;\n",
    "- Écrire plusieurs implémentations d'une même structure de données.\n",
    "\n",
    "</div>"
   ]
  },
  {
   "cell_type": "markdown",
   "metadata": {},
   "source": [
    "### 1- Construction d'une classe sur un exemple"
   ]
  },
  {
   "cell_type": "markdown",
   "metadata": {},
   "source": [
    "On souhaite implémenter un chronomètre. Celui-ci possède un bouton start/stop et un bouton RAZ."
   ]
  },
  {
   "cell_type": "markdown",
   "metadata": {},
   "source": [
    "<img src=\"Images/chronomètre.png\" alt=\"logo CR\" width=15% align=left>"
   ]
  },
  {
   "cell_type": "raw",
   "metadata": {},
   "source": [
    "...................\n",
    ":  Chronometre    : Nom de la classe\n",
    "...................\n",
    ":id : str         : Attributs\n",
    ":debut : float    :\n",
    ":fin : float      :\n",
    ":duree : float    :\n",
    ":nb_chrono : int  :\n",
    "...................\n",
    ":start()          : \n",
    ":stop()           :\n",
    ":raz()            : Méthodes\n",
    ":duration(): float:\n",
    ":__repr__():str   :\n",
    ":nombre(): int    :\n",
    "..................."
   ]
  },
  {
   "cell_type": "markdown",
   "metadata": {},
   "source": [
    "### Création de la classe"
   ]
  },
  {
   "cell_type": "code",
   "execution_count": null,
   "metadata": {},
   "outputs": [],
   "source": []
  },
  {
   "cell_type": "markdown",
   "metadata": {},
   "source": [
    "### Instanciation de la classe : création d'un objet"
   ]
  },
  {
   "cell_type": "code",
   "execution_count": null,
   "metadata": {},
   "outputs": [],
   "source": []
  },
  {
   "cell_type": "markdown",
   "metadata": {},
   "source": [
    "### Remarque sur les attributs"
   ]
  },
  {
   "cell_type": "markdown",
   "metadata": {},
   "source": [
    "*un attribut \"public\" peut être appelé non seulement par les objets et méthodes de sa classe, mais aussi depuis l'extérieur* **self.toto=toto**\n",
    "\n",
    "*un attribut \"privé\" (private) ne peut être utilisé qu'avec les objets et méthodes de la classe dont il est déclaré.* **self.__toto=toto**\n",
    "\n",
    "*l'attribut \"protégé\" (protected) peut être utilisé à l'extérieur de la classe mais uniquement par ses classes filles(héritage)* **self._toto=toto**\n",
    "\n",
    "**Tout est accessible en Python. Il n’y a pas de variables privées. Ce sont des conventions.**"
   ]
  },
  {
   "cell_type": "markdown",
   "metadata": {},
   "source": [
    "### Création des méthodes d'instance"
   ]
  },
  {
   "cell_type": "code",
   "execution_count": null,
   "metadata": {},
   "outputs": [],
   "source": []
  },
  {
   "cell_type": "markdown",
   "metadata": {},
   "source": [
    "### Création des méthodes spéciales"
   ]
  },
  {
   "cell_type": "markdown",
   "metadata": {},
   "source": [
    "Deux méthodes spéciales permettent de configurer la représentation et l'affichage des objets sont les suivantes :\n",
    "- La méthode `__repr__` : \n",
    "  <br>Elle ne prend aucun paramètre, excepté `self`, et renvoie la chaîne de caractères que l'on souhaite afficher quand on saisit directement le nom de l'objet dans l'interpréteur. (exemple : t1)\n",
    "- La méthode `__str__` : \n",
    "  <br>Elle est spécialement utilisée pour afficher l'objet avec la fonction `print`. \n",
    "  <br>Elle est également appelée si vous désirez convertir votre objet en chaîne à l'aide du constructeur `str`. (exemple : print(t1)\n",
    "\n",
    "On notera que, par défaut, si la méthode `__str__` n'est pas définie, Python appelle la méthode `__repr__` de l'objet. "
   ]
  },
  {
   "cell_type": "markdown",
   "metadata": {},
   "source": [
    "### Version finale avec attribut et méthode de classe"
   ]
  },
  {
   "cell_type": "code",
   "execution_count": null,
   "metadata": {},
   "outputs": [],
   "source": []
  }
 ],
 "metadata": {
  "kernelspec": {
   "display_name": "Python 3",
   "language": "python",
   "name": "python3"
  },
  "language_info": {
   "codemirror_mode": {
    "name": "ipython",
    "version": 3
   },
   "file_extension": ".py",
   "mimetype": "text/x-python",
   "name": "python",
   "nbconvert_exporter": "python",
   "pygments_lexer": "ipython3",
   "version": "3.7.7"
  },
  "varInspector": {
   "cols": {
    "lenName": 16,
    "lenType": 16,
    "lenVar": 40
   },
   "kernels_config": {
    "python": {
     "delete_cmd_postfix": "",
     "delete_cmd_prefix": "del ",
     "library": "var_list.py",
     "varRefreshCmd": "print(var_dic_list())"
    },
    "r": {
     "delete_cmd_postfix": ") ",
     "delete_cmd_prefix": "rm(",
     "library": "var_list.r",
     "varRefreshCmd": "cat(var_dic_list()) "
    }
   },
   "types_to_exclude": [
    "module",
    "function",
    "builtin_function_or_method",
    "instance",
    "_Feature"
   ],
   "window_display": false
  }
 },
 "nbformat": 4,
 "nbformat_minor": 2
}
