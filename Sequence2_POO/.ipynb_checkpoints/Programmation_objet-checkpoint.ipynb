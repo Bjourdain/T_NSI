{
 "cells": [
  {
   "cell_type": "markdown",
   "metadata": {},
   "source": [
    "# <center><font face=\"arial\" size=\"5\" color=#0101DF>NUMERIQUE ET SCIENCES INFORMATIQUES Terminale NSI</font></center>"
   ]
  },
  {
   "cell_type": "markdown",
   "metadata": {},
   "source": [
    "## <font color=#013ADF>Séquence N° 2 : Programmation orienté objet</font>"
   ]
  },
  {
   "cell_type": "markdown",
   "metadata": {},
   "source": [
    "<div class=\"alert alert-danger\" role=\"alert\">\n",
    "    \n",
    "Les objectifs de cette séquence sont :\n",
    "\n",
    "- Écrire la définition d'une classe ;\n",
    "- Accèder aux attributs et méthodes d'une classe.\n",
    "\n",
    "</div>"
   ]
  },
  {
   "cell_type": "markdown",
   "metadata": {},
   "source": [
    "### 1- Construction d'une classe sur un exemple"
   ]
  },
  {
   "cell_type": "markdown",
   "metadata": {},
   "source": [
    "On souhaite implémenter un chronomètre. Celui-ci possède un bouton start/stop et un bouton RAZ."
   ]
  },
  {
   "cell_type": "raw",
   "metadata": {},
   "source": [
    "..............\n",
    ":Chronometre : Nom de la classe\n",
    "..............\n",
    ": id         : Attributs\n",
    ": debut      :\n",
    ": fin        :\n",
    ": duree      :\n",
    "..............\n",
    ": start()    : \n",
    ": stop()     :\n",
    ": raz()      : Méthodes\n",
    ": duration() :\n",
    ": __repr__() :\n",
    ".............."
   ]
  },
  {
   "cell_type": "markdown",
   "metadata": {},
   "source": [
    "### Création de la classe"
   ]
  },
  {
   "cell_type": "code",
   "execution_count": null,
   "metadata": {},
   "outputs": [],
   "source": [
    "class Chronometre:\n",
    "    \"\"\"\n",
    "    Classe implémentant un chronomètre\n",
    "    \"\"\"\n",
    "    \n",
    "    # Constructeur\n",
    "    def __init__(self, id):\n",
    "        self.id=id\n",
    "        self.debut=0\n",
    "        self.fin=0\n",
    "        self.duree=0"
   ]
  },
  {
   "cell_type": "markdown",
   "metadata": {},
   "source": [
    "### Instantiation de la classe : création d'un objet"
   ]
  },
  {
   "cell_type": "code",
   "execution_count": null,
   "metadata": {},
   "outputs": [],
   "source": [
    "t1=Chronometre('t1')"
   ]
  },
  {
   "cell_type": "code",
   "execution_count": null,
   "metadata": {},
   "outputs": [],
   "source": [
    "print(t1)\n",
    "type(t1)"
   ]
  },
  {
   "cell_type": "markdown",
   "metadata": {},
   "source": [
    "### Quelques tests\n",
    "- t1.id\n",
    "- t1.debut ...\n",
    "- Remplacement attribut public/privé"
   ]
  },
  {
   "cell_type": "code",
   "execution_count": null,
   "metadata": {},
   "outputs": [],
   "source": [
    "class Chronometre:\n",
    "    \"\"\"\n",
    "    Classe implémentant un chronomètre\n",
    "    \"\"\"\n",
    "    \n",
    "    # Constructeur\n",
    "    def __init__(self, id):\n",
    "        self.id=id       # attribut public\n",
    "        self.__debut=0   # attribut privé\n",
    "        self.__fin=0\n",
    "        self.__duree=0"
   ]
  },
  {
   "cell_type": "code",
   "execution_count": null,
   "metadata": {},
   "outputs": [],
   "source": [
    "t1=Chronometre('t1')"
   ]
  },
  {
   "cell_type": "code",
   "execution_count": null,
   "metadata": {},
   "outputs": [],
   "source": [
    "t1.__debut"
   ]
  },
  {
   "cell_type": "markdown",
   "metadata": {},
   "source": [
    "*un attribut \"public\" peut être appelé non seulement par les objets et méthodes de sa classe, mais aussi depuis l'extérieur* **self.toto=toto**\n",
    "\n",
    "*un attribut \"privé\" (private) ne peut être utilisé qu'avec les objets et méthodes de la classe dont il est déclaré.* **self.__toto=toto**\n",
    "\n",
    "*l'attribut \"protégé\" (protected) peut être utilisé à l'extérieur de la classe mais uniquement par ses classes filles(héritage)* **self._toto=toto**\n",
    "\n",
    "**Tout est accessible en Python. Il n’y a pas de variables privées. Ce sont des conventions.**"
   ]
  },
  {
   "cell_type": "code",
   "execution_count": null,
   "metadata": {},
   "outputs": [],
   "source": [
    "# La preuve !\n",
    "t1._Chronometre__debut"
   ]
  },
  {
   "cell_type": "markdown",
   "metadata": {},
   "source": [
    "### Création des méthodes de classe"
   ]
  },
  {
   "cell_type": "code",
   "execution_count": null,
   "metadata": {},
   "outputs": [],
   "source": [
    "#!/usr/bin/env python3\n",
    "# -*- coding: utf-8 -*-\n",
    "\"\"\"\n",
    "Created on Sat Aug 29 13:31:08 2020\n",
    "\n",
    "@author: bruno\n",
    "\"\"\"\n",
    "\n",
    "import time\n",
    "from random import uniform\n",
    "\n",
    "class Chronometre:\n",
    "    \"\"\"\n",
    "    Classe implémentant un chronomètre\n",
    "    \"\"\"\n",
    "    \n",
    "    # Constructeur\n",
    "    def __init__(self, id):\n",
    "        self.id=id\n",
    "        self.__debut=0\n",
    "        self.__fin=0\n",
    "        self.__duree=0\n",
    "    \n",
    "    def start(self):\n",
    "        \"\"\"\n",
    "        Mesure le temps\n",
    "        au début\n",
    "        \"\"\"\n",
    "        self.__debut=time.time()\n",
    "    \n",
    "    def stop(self):\n",
    "        \"\"\"\n",
    "        Mesure le temps\n",
    "        à la fin\n",
    "        \"\"\"\n",
    "        self.__fin=time.time()\n",
    "    \n",
    "    def raz(self):\n",
    "        \"\"\"\n",
    "        Efface les valeurs\n",
    "        \"\"\"\n",
    "        self.__debut=0\n",
    "        self.__fin=0\n",
    "        self.__duree=0\n",
    "    \n",
    "    def duration(self):\n",
    "        \"\"\"\n",
    "        Calcule la durée\n",
    "        \"\"\"\n",
    "        self.__duree=self.__fin-self.__debut\n",
    "        return self.__duree\n",
    "\n",
    "if __name__=='__main__':\n",
    "    t1=Chronometre('t1')\n",
    "    t1.start()\n",
    "    time.sleep(uniform(10,30)) # temps alétoire entre 10 et 30 secondes\n",
    "    t1.stop()\n",
    "    print(t1)\n",
    "    temps_1=t1.duration()\n",
    "    print(f'Temps d\\'effort :  {temps_1: .4f} s')\n",
    "    t1.raz()"
   ]
  },
  {
   "cell_type": "markdown",
   "metadata": {},
   "source": [
    "### Version finale"
   ]
  },
  {
   "cell_type": "code",
   "execution_count": null,
   "metadata": {},
   "outputs": [],
   "source": [
    "#!/usr/bin/env python3\n",
    "# -*- coding: utf-8 -*-\n",
    "\"\"\"\n",
    "Created on Sat Aug 29 13:31:08 2020\n",
    "\n",
    "@author: bruno\n",
    "\"\"\"\n",
    "\n",
    "import time\n",
    "from random import uniform\n",
    "\n",
    "class Chronometre:\n",
    "    \"\"\"\n",
    "    Classe implémentant un chronomètre\n",
    "    \"\"\"\n",
    "    \n",
    "    # Constructeur\n",
    "    def __init__(self, id):\n",
    "        self.id=id\n",
    "        self.__debut=0\n",
    "        self.__fin=0\n",
    "        self.__duree=0\n",
    "    \n",
    "    def start(self):\n",
    "        \"\"\"\n",
    "        Mesure le temps\n",
    "        au début\n",
    "        \"\"\"\n",
    "        self.__debut=time.time()\n",
    "    \n",
    "    def stop(self):\n",
    "        \"\"\"\n",
    "        Mesure le temps\n",
    "        à la fin\n",
    "        \"\"\"\n",
    "        self.__fin=time.time()\n",
    "    \n",
    "    def raz(self):\n",
    "        \"\"\"\n",
    "        Efface les valeurs\n",
    "        \"\"\"\n",
    "        self.__debut=0\n",
    "        self.__fin=0\n",
    "        self.__duree=0\n",
    "    \n",
    "    def duration(self):\n",
    "        \"\"\"\n",
    "        Calcule la durée\n",
    "        \"\"\"\n",
    "        self.__duree=self.__fin-self.__debut\n",
    "        return self.__duree\n",
    "\n",
    "    def __repr__(self):\n",
    "        \"\"\"\n",
    "        Affiche l'id du chronomètre\n",
    "        \"\"\"\n",
    "        ch='Chronométrage '+str(self.id)\n",
    "        return ch\n",
    "\n",
    "if __name__=='__main__':\n",
    "    t1=Chronometre('t1')\n",
    "    t1.start()\n",
    "    time.sleep(uniform(10,30)) # temps alétoire entre 10 et 30 secondes\n",
    "    t1.stop()\n",
    "    print(t1)\n",
    "    temps_1=t1.duration()\n",
    "    print(f'Temps d\\'effort :  {temps_1: .4f} s')\n",
    "    t1.raz()"
   ]
  },
  {
   "cell_type": "code",
   "execution_count": null,
   "metadata": {},
   "outputs": [],
   "source": []
  }
 ],
 "metadata": {
  "kernelspec": {
   "display_name": "Python 3",
   "language": "python",
   "name": "python3"
  },
  "language_info": {
   "codemirror_mode": {
    "name": "ipython",
    "version": 3
   },
   "file_extension": ".py",
   "mimetype": "text/x-python",
   "name": "python",
   "nbconvert_exporter": "python",
   "pygments_lexer": "ipython3",
   "version": "3.7.7"
  },
  "varInspector": {
   "cols": {
    "lenName": 16,
    "lenType": 16,
    "lenVar": 40
   },
   "kernels_config": {
    "python": {
     "delete_cmd_postfix": "",
     "delete_cmd_prefix": "del ",
     "library": "var_list.py",
     "varRefreshCmd": "print(var_dic_list())"
    },
    "r": {
     "delete_cmd_postfix": ") ",
     "delete_cmd_prefix": "rm(",
     "library": "var_list.r",
     "varRefreshCmd": "cat(var_dic_list()) "
    }
   },
   "types_to_exclude": [
    "module",
    "function",
    "builtin_function_or_method",
    "instance",
    "_Feature"
   ],
   "window_display": false
  }
 },
 "nbformat": 4,
 "nbformat_minor": 2
}
