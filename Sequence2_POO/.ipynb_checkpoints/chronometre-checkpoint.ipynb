{
 "cells": [
  {
   "cell_type": "markdown",
   "metadata": {},
   "source": [
    "COURSE PÉDESTRE : CHRONOMÉTRAGE"
   ]
  },
  {
   "cell_type": "markdown",
   "metadata": {},
   "source": []
  },
  {
   "cell_type": "code",
   "execution_count": 5,
   "metadata": {},
   "outputs": [
    {
     "name": "stdout",
     "output_type": "stream",
     "text": [
      "Je chronomètre toto\n",
      "Temps d'effort :   4.0044 s\n",
      "Good guy\n"
     ]
    }
   ],
   "source": [
    "#!/usr/bin/env python3\n",
    "# -*- coding: utf-8 -*-\n",
    "\"\"\"\n",
    "Created on Sun May  3 10:36:01 2020\n",
    "\n",
    "@author: bruno\n",
    "\"\"\"\n",
    "\n",
    "import time\n",
    "\n",
    "class Chrono:\n",
    "\n",
    "    def __init__(self, nom):\n",
    "        self.nom=nom\n",
    "        self.debut=0\n",
    "        self.fin=0\n",
    "        self.duree=0\n",
    "    \n",
    "    def start(self):\n",
    "        self.debut=time.time()\n",
    "    \n",
    "    def stop(self):\n",
    "        self.fin=time.time()\n",
    "    \n",
    "    def raz(self):\n",
    "        self.debut=0\n",
    "        self.fin=0\n",
    "        self.duree=0\n",
    "    \n",
    "    def duration(self):\n",
    "        self.duree=self.fin-self.debut\n",
    "        return self.duree\n",
    "    \n",
    "    def __str__(self):\n",
    "        ch='Je chronomètre '+str(self.nom)\n",
    "        return ch\n",
    "\n",
    "if __name__=='__main__':\n",
    "    toto=Chrono('toto')\n",
    "    print(toto)\n",
    "    toto.start()\n",
    "    time.sleep(4) # 4 secondes\n",
    "    toto.stop()\n",
    "    temps=toto.duration()\n",
    "    print(f'Temps d\\'effort :  {temps: .4f} s')\n",
    "    print('Good guy')\n",
    "    #toto.raz()\n",
    "    "
   ]
  },
  {
   "cell_type": "markdown",
   "metadata": {},
   "source": [
    "Attribut de classe : nombre de participants\n",
    "gestion des dossards\n",
    "Variable \"privée\" : assesseurs et mutateurs\n",
    "accès aux données : identifier un coureur avec son numéro de dossard\n",
    "modification : numéro de dossard par exemple ou erreur d'attribution de dossard"
   ]
  },
  {
   "cell_type": "code",
   "execution_count": null,
   "metadata": {},
   "outputs": [],
   "source": [
    "#!/usr/bin/env python3\n",
    "# -*- coding: utf-8 -*-\n",
    "\"\"\"\n",
    "Created on Sun May  3 10:36:01 2020\n",
    "\n",
    "@author: bruno\n",
    "\"\"\"\n",
    "\n",
    "import time\n",
    "\n",
    "class Course:\n",
    "    \n",
    "    # attribut de classe\n",
    "    nb_participants=0\n",
    "\n",
    "    def __init__(self, nom):\n",
    "        Course.nb_participants+=1\n",
    "        self.__nom=nom\n",
    "        self.__dossard=Course.nb_participants\n",
    "        self.__debut=0\n",
    "        self.__fin=0\n",
    "        self.__duree=0\n",
    "        self.__start=False\n",
    "        self.__stop=False\n",
    "    \n",
    "    def start(self):\n",
    "        self.__start=True\n",
    "        self.__debut=time.time()\n",
    "    \n",
    "    def stop(self):\n",
    "        self.__stop=True\n",
    "        self.__fin=time.time()\n",
    "    \n",
    "    def raz(self):\n",
    "        self.__debut=0\n",
    "        self.__fin=0\n",
    "        self.__duree=0\n",
    "    \n",
    "    def duration(self):\n",
    "        if self.__start and self.__stop:\n",
    "            self.__duree=self.__fin-self.__debut\n",
    "            print(f\"L'athlète {self.__nom}, dossard {self.__dossard} a mis un temps de {self.__duree: .4f} s\")\n",
    "        elif self.__start:\n",
    "            print(f\"L'athlète {self.__nom}, dossard {self.__dossard} n'est pas arrivé-e !\")\n",
    "        else:\n",
    "            print(f\"L'athlète {self.__nom}, dossard {self.__dossard} n'est pas parti-e !\")\n",
    "    \n",
    "\n",
    "    def get_data(self):\n",
    "        return self.__dossard, self.__nom\n",
    "    \n",
    "    def set_data(self, donnees):\n",
    "        nom, valeur =donnees\n",
    "        self.__nom=nom\n",
    "        self.__dossard=valeur\n",
    "    \n",
    "    def __str__(self):\n",
    "        ch='Je chronomètre '+str(self.__nom)+'\\n'+'Il y a '+str(Course.nb_participants)+' participants\\n'\n",
    "        return ch\n",
    "    \n",
    "    dossard=property(get_data,set_data)\n",
    "\n",
    "if __name__=='__main__':\n",
    "    from random import randint\n",
    "    coureur1=Course('Bob')\n",
    "    coureur2=Course('Martine')\n",
    "    coureur3=Course('Céline')\n",
    "    #print(Bob)\n",
    "    # Changement de dossard\n",
    "    #coureur1.set_data(('Bernard',100))\n",
    "    coureur1.dossard=('Bernard',100)\n",
    "    # C'est parti\n",
    "    coureur1.start()\n",
    "    # Qui est ce coureur ?\n",
    "    #numero, nom=coureur1.get_data()\n",
    "    numero, nom=coureur1.dossard\n",
    "    print(f\"L'athlète qui a le dossard {numero}, s'appelle {nom}\\n\")\n",
    "    coureur2.start()\n",
    "    # ça court plus ou moins\n",
    "    time.sleep(randint(1,6))\n",
    "    # Arrivée de Bob\n",
    "    coureur1.stop()\n",
    "    coureur1.duration()\n",
    "    coureur2.duration()\n",
    "    coureur3.duration()\n",
    "    \"\"\"\n",
    "    print(coureur3.get_data())\n",
    "    coureur1.raz()\n",
    "    \"\"\""
   ]
  },
  {
   "cell_type": "code",
   "execution_count": null,
   "metadata": {},
   "outputs": [],
   "source": []
  }
 ],
 "metadata": {
  "kernelspec": {
   "display_name": "Python 3",
   "language": "python",
   "name": "python3"
  },
  "language_info": {
   "codemirror_mode": {
    "name": "ipython",
    "version": 3
   },
   "file_extension": ".py",
   "mimetype": "text/x-python",
   "name": "python",
   "nbconvert_exporter": "python",
   "pygments_lexer": "ipython3",
   "version": "3.7.7"
  },
  "varInspector": {
   "cols": {
    "lenName": 16,
    "lenType": 16,
    "lenVar": 40
   },
   "kernels_config": {
    "python": {
     "delete_cmd_postfix": "",
     "delete_cmd_prefix": "del ",
     "library": "var_list.py",
     "varRefreshCmd": "print(var_dic_list())"
    },
    "r": {
     "delete_cmd_postfix": ") ",
     "delete_cmd_prefix": "rm(",
     "library": "var_list.r",
     "varRefreshCmd": "cat(var_dic_list()) "
    }
   },
   "types_to_exclude": [
    "module",
    "function",
    "builtin_function_or_method",
    "instance",
    "_Feature"
   ],
   "window_display": false
  }
 },
 "nbformat": 4,
 "nbformat_minor": 4
}
