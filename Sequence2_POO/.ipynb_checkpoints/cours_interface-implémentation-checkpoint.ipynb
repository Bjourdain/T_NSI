{
 "cells": [
  {
   "cell_type": "markdown",
   "metadata": {},
   "source": [
    "# <center><font face=\"arial\" size=\"5\" color=#0101DF>NUMERIQUE ET SCIENCES INFORMATIQUES Terminale NSI</font></center>"
   ]
  },
  {
   "cell_type": "markdown",
   "metadata": {},
   "source": [
    "## <font color=#013ADF>Séquence N° 2 : Interface versus implémentation</font>"
   ]
  },
  {
   "cell_type": "markdown",
   "metadata": {},
   "source": [
    "<div class=\"alert alert-danger\" role=\"alert\">\n",
    "    \n",
    "Les objectifs de cette séquence sont :\n",
    "\n",
    "- Écrire la définition d'une classe ;\n",
    "- Accèder aux attributs et méthodes d'une classe.\n",
    "\n",
    "</div>"
   ]
  },
  {
   "cell_type": "markdown",
   "metadata": {},
   "source": [
    "### 1- Construction d'une classe sur un exemple"
   ]
  },
  {
   "cell_type": "markdown",
   "metadata": {},
   "source": [
    "On souhaite implémenter un chronomètre. Celui-ci possède un bouton start/stop et un bouton RAZ."
   ]
  },
  {
   "cell_type": "raw",
   "metadata": {},
   "source": [
    ".................\n",
    ":  Chronometre  : Nom de la classe\n",
    ".................\n",
    ":id : str       : Attributs\n",
    ":debut : float  :\n",
    ":fin : float    :\n",
    ":duree : float  :\n",
    ":nb_chrono : int:\n",
    ".................\n",
    ":start()        : \n",
    ":stop()         :\n",
    ":raz()          : Méthodes\n",
    ":duration()     :\n",
    ":__repr__()     :\n",
    ":nombre()       :\n",
    "................."
   ]
  },
  {
   "cell_type": "markdown",
   "metadata": {},
   "source": [
    "### Création de la classe"
   ]
  },
  {
   "cell_type": "code",
   "execution_count": null,
   "metadata": {},
   "outputs": [],
   "source": [
    "class Chronometre:\n",
    "    \"\"\"\n",
    "    Classe implémentant un chronomètre\n",
    "    \"\"\""
   ]
  },
  {
   "cell_type": "code",
   "execution_count": null,
   "metadata": {},
   "outputs": [],
   "source": [
    "t1=Chronometre()"
   ]
  },
  {
   "cell_type": "code",
   "execution_count": null,
   "metadata": {},
   "outputs": [],
   "source": [
    "print(t1)\n",
    "type(t1)"
   ]
  },
  {
   "cell_type": "code",
   "execution_count": null,
   "metadata": {},
   "outputs": [],
   "source": [
    "class Chronometre:\n",
    "    \"\"\"\n",
    "    Classe implémentant un chronomètre\n",
    "    \"\"\"\n",
    "    \n",
    "    # Constructeur\n",
    "    def __init__(self, id):\n",
    "        self.id=id\n",
    "        self.debut=0\n",
    "        self.fin=0\n",
    "        self.duree=0"
   ]
  },
  {
   "cell_type": "markdown",
   "metadata": {},
   "source": [
    "### Instantiation de la classe : création d'un objet"
   ]
  },
  {
   "cell_type": "code",
   "execution_count": null,
   "metadata": {},
   "outputs": [],
   "source": [
    "t1=Chronometre('t1')"
   ]
  },
  {
   "cell_type": "code",
   "execution_count": null,
   "metadata": {},
   "outputs": [],
   "source": [
    "print(t1)\n",
    "type(t1)"
   ]
  },
  {
   "cell_type": "markdown",
   "metadata": {},
   "source": [
    "### Quelques tests\n",
    "- t1.id\n",
    "- t1.debut ...\n",
    "- Remplacement attribut public/privé"
   ]
  },
  {
   "cell_type": "code",
   "execution_count": null,
   "metadata": {},
   "outputs": [],
   "source": [
    "class Chronometre:\n",
    "    \"\"\"\n",
    "    Classe implémentant un chronomètre\n",
    "    \"\"\"\n",
    "    \n",
    "    # Constructeur\n",
    "    def __init__(self, id):\n",
    "        self.id=id       # attribut public\n",
    "        self.__debut=0   # attribut privé\n",
    "        self.__fin=0\n",
    "        self.__duree=0"
   ]
  },
  {
   "cell_type": "code",
   "execution_count": null,
   "metadata": {},
   "outputs": [],
   "source": [
    "t1=Chronometre('t1')"
   ]
  },
  {
   "cell_type": "code",
   "execution_count": null,
   "metadata": {},
   "outputs": [],
   "source": [
    "t1"
   ]
  },
  {
   "cell_type": "code",
   "execution_count": null,
   "metadata": {},
   "outputs": [],
   "source": [
    "t1.id"
   ]
  },
  {
   "cell_type": "code",
   "execution_count": null,
   "metadata": {},
   "outputs": [],
   "source": [
    "t1.__debut"
   ]
  },
  {
   "cell_type": "markdown",
   "metadata": {},
   "source": [
    "*un attribut \"public\" peut être appelé non seulement par les objets et méthodes de sa classe, mais aussi depuis l'extérieur* **self.toto=toto**\n",
    "\n",
    "*un attribut \"privé\" (private) ne peut être utilisé qu'avec les objets et méthodes de la classe dont il est déclaré.* **self.__toto=toto**\n",
    "\n",
    "*l'attribut \"protégé\" (protected) peut être utilisé à l'extérieur de la classe mais uniquement par ses classes filles(héritage)* **self._toto=toto**\n",
    "\n",
    "**Tout est accessible en Python. Il n’y a pas de variables privées. Ce sont des conventions.**"
   ]
  },
  {
   "cell_type": "code",
   "execution_count": null,
   "metadata": {},
   "outputs": [],
   "source": [
    "# La preuve !\n",
    "t1._Chronometre__debut"
   ]
  },
  {
   "cell_type": "markdown",
   "metadata": {},
   "source": [
    "Cela fonctionne, mais ce n'est pas très élégant ! On préfère alors définir des méthodes dans la classe communément appelés : getter et setter"
   ]
  },
  {
   "cell_type": "code",
   "execution_count": null,
   "metadata": {},
   "outputs": [],
   "source": [
    "class Chronometre:\n",
    "    \"\"\"\n",
    "    Classe implémentant un chronomètre\n",
    "    \"\"\"\n",
    "    \n",
    "    # Constructeur\n",
    "    def __init__(self, id):\n",
    "        self.id=id       # attribut public\n",
    "        self.__debut=0   # attribut privé\n",
    "        self.__fin=0\n",
    "        self.__duree=0\n",
    "\n",
    "if __name__=='__main__': # aucun rapport avec la POO !\n",
    "    t1=Chronometre('t1')"
   ]
  },
  {
   "cell_type": "markdown",
   "metadata": {},
   "source": [
    "### Création des méthodes de classe"
   ]
  },
  {
   "cell_type": "code",
   "execution_count": null,
   "metadata": {},
   "outputs": [],
   "source": [
    "#!/usr/bin/env python3\n",
    "# -*- coding: utf-8 -*-\n",
    "\"\"\"\n",
    "Created on Sat Aug 29 13:31:08 2020\n",
    "\n",
    "@author: bruno\n",
    "\"\"\"\n",
    "\n",
    "import time\n",
    "from random import uniform\n",
    "\n",
    "class Chronometre:\n",
    "    \"\"\"\n",
    "    Classe implémentant un chronomètre\n",
    "    \"\"\"\n",
    "    \n",
    "    # Constructeur\n",
    "    def __init__(self, id):\n",
    "        self.id=id\n",
    "        self.__debut=0\n",
    "        self.__fin=0\n",
    "        self.__duree=0\n",
    "    \n",
    "    def start(self):\n",
    "        \"\"\"\n",
    "        Mesure le temps\n",
    "        au début\n",
    "        \"\"\"\n",
    "        self.__debut=time.time()\n",
    "    \n",
    "    def stop(self):\n",
    "        \"\"\"\n",
    "        Mesure le temps\n",
    "        à la fin\n",
    "        \"\"\"\n",
    "        self.__fin=time.time()\n",
    "    \n",
    "    def raz(self):\n",
    "        \"\"\"\n",
    "        Efface les valeurs\n",
    "        \"\"\"\n",
    "        self.__debut=0\n",
    "        self.__fin=0\n",
    "        self.__duree=0\n",
    "    \n",
    "    def duration(self):\n",
    "        \"\"\"\n",
    "        Calcule la durée\n",
    "        \"\"\"\n",
    "        self.__duree=self.__fin-self.__debut\n",
    "        return self.__duree\n",
    "\n",
    "if __name__=='__main__':\n",
    "    t1=Chronometre('t1')\n",
    "    t1.start()\n",
    "    time.sleep(uniform(10,30)) # temps alétoire entre 10 et 30 secondes\n",
    "    t1.stop()\n",
    "    print(t1)\n",
    "    temps_1=t1.duration()\n",
    "    print(f'Temps d\\'effort :  {temps_1: .4f} s')\n",
    "    #t1.raz()"
   ]
  },
  {
   "cell_type": "code",
   "execution_count": null,
   "metadata": {},
   "outputs": [],
   "source": [
    "print(t1)"
   ]
  },
  {
   "cell_type": "markdown",
   "metadata": {},
   "source": [
    "Les deux méthodes spéciales permettant de configurer la représentation et l'affichage des objets sont les suivantes :\n",
    "- La méthode `__repr__` : \n",
    "  <br>Elle ne prend aucun paramètre, excepté `self`, et renvoie la chaîne de caractères que l'on souhaite afficher quand on saisit directement le nom de l'objet dans l'interpréteur.\n",
    "- La méthode `__str__` : \n",
    "  <br>Elle est spécialement utilisée pour afficher l'objet avec la fonction `print`. \n",
    "  <br>Elle est également appelée si vous désirez convertir votre objet en chaîne à l'aide du constructeur `str`.\n",
    "\n",
    "On notera que, par défaut, si la méthode `__str__` n'est pas définie, Python appelle la méthode `__repr__` de l'objet. "
   ]
  },
  {
   "cell_type": "markdown",
   "metadata": {},
   "source": [
    "### Version finale avec attribut et méthode de classe"
   ]
  },
  {
   "cell_type": "markdown",
   "metadata": {},
   "source": [
    "On peut souhaiter définir des attributs sur la classe elle-même, et non pas sur ses instances. On parle alors d'***attribut de classe***. \n",
    "<br>Ces attributs sont définis en dehors des méthodes de la classe.\n",
    "<br>Voici la syntaxe pour accéder en lecture ou en écriture à ses attributs : \n",
    "- ***`NomClasse.nom_attribut_classe`*** à l'extérieur de la classe\n",
    "- ***`cls.nom_attribut_classe`*** depuis la classe\n",
    "\n",
    "Il est également possible de définir des ***méthodes de classe***. \n",
    "<br>Le premier argument d'une telle méthode sera la classe elle-même, représentée par le mot-clé ***`cls`***. \n",
    "<br>Le décorateur ***`@classmethod`*** devra précéder la définition de la fonction."
   ]
  },
  {
   "cell_type": "code",
   "execution_count": null,
   "metadata": {},
   "outputs": [],
   "source": [
    "#!/usr/bin/env python3\n",
    "# -*- coding: utf-8 -*-\n",
    "\"\"\"\n",
    "Created on Sat Aug 29 13:31:08 2020\n",
    "\n",
    "@author: bruno\n",
    "\"\"\"\n",
    "\n",
    "import time\n",
    "from random import uniform\n",
    "\n",
    "class Chronometre:\n",
    "    \"\"\"\n",
    "    Classe implémentant un chronomètre\n",
    "    \"\"\"\n",
    "    # attribut de classe\n",
    "    nb_chrono:int=0\n",
    "    \n",
    "    # Constructeur\n",
    "    def __init__(self, id:str):\n",
    "        Chronometre.nb_chrono+=1\n",
    "        self.id=id\n",
    "        self.__debut:float=0\n",
    "        self.__fin:float=0\n",
    "        self.__duree:float=0\n",
    "    \n",
    "    def start(self):\n",
    "        \"\"\"\n",
    "        Mesure le temps\n",
    "        au début\n",
    "        \"\"\"\n",
    "        self.__debut=time.time()\n",
    "    \n",
    "    def stop(self):\n",
    "        \"\"\"\n",
    "        Mesure le temps\n",
    "        à la fin\n",
    "        \"\"\"\n",
    "        self.__fin=time.time()\n",
    "    \n",
    "    def raz(self):\n",
    "        \"\"\"\n",
    "        Efface les valeurs\n",
    "        \"\"\"\n",
    "        self.__debut=0\n",
    "        self.__fin=0\n",
    "        self.__duree=0\n",
    "    \n",
    "    def duration(self)->float:\n",
    "        \"\"\"\n",
    "        Calcule la durée\n",
    "        \"\"\"\n",
    "        self.__duree=self.__fin-self.__debut\n",
    "        return self.__duree\n",
    "\n",
    "    def __repr__(self)->str:\n",
    "        \"\"\"\n",
    "        Affiche l'id du chronomètre\n",
    "        \"\"\"\n",
    "        ch='Chronométrage '+str(self.id)\n",
    "        return ch\n",
    "    \n",
    "    @classmethod\n",
    "    def nombre(cls)->int:\n",
    "        \"\"\"\n",
    "        Renvoie le nombre\n",
    "        de chonomètres instanciés\n",
    "        \"\"\"\n",
    "        return cls.nb_chrono\n",
    "\n",
    "if __name__=='__main__':\n",
    "    t1=Chronometre('t1')\n",
    "    t1.start()\n",
    "    time.sleep(uniform(10,30)) # temps alétoire entre 10 et 30 secondes\n",
    "    t1.stop()\n",
    "    print(t1)\n",
    "    temps_1=t1.duration()\n",
    "    print(f'Temps d\\'effort :  {temps_1: .4f} s')\n",
    "    t1.raz()\n",
    "    t2=Chronometre('t2')\n",
    "    print(Chronometre.nombre())"
   ]
  },
  {
   "cell_type": "code",
   "execution_count": null,
   "metadata": {},
   "outputs": [],
   "source": [
    "#Mais on aurait pu faire cela sans la méthode de classe\n",
    "Chronometre.nb_chrono"
   ]
  },
  {
   "cell_type": "code",
   "execution_count": null,
   "metadata": {},
   "outputs": [],
   "source": [
    "t2"
   ]
  },
  {
   "cell_type": "markdown",
   "metadata": {},
   "source": [
    "### 2- Application"
   ]
  },
  {
   "cell_type": "raw",
   "metadata": {},
   "source": [
    ".................\n",
    ":      De       :\n",
    ".................\n",
    ":nom : str      : \n",
    ":couleur : str  :\n",
    ":nb_des : int   :\n",
    ".................\n",
    ":hasard()       :\n",
    ":__repr__()     :\n",
    ":nombre()       :\n",
    "................."
   ]
  },
  {
   "cell_type": "markdown",
   "metadata": {},
   "source": [
    "Créez la classe \"De\", puis instanciez 3 dés dont la couleur par défaut sera rouge. Lancez les 3 dés avec la méthode \"hasard\" et affichez les résultats."
   ]
  },
  {
   "cell_type": "code",
   "execution_count": 5,
   "metadata": {},
   "outputs": [
    {
     "name": "stdout",
     "output_type": "stream",
     "text": [
      "Face du dé D1 : 3\n",
      "Face du dé D2 : 4\n",
      "Face du dé D3 : 3\n",
      "Nombre de dés instanciés : 3\n"
     ]
    }
   ],
   "source": [
    "#!/usr/bin/env python3\n",
    "# -*- coding: utf-8 -*-\n",
    "\"\"\"\n",
    "Created on Fri Apr 17 14:29:04 2020\n",
    "\n",
    "@author: bruno\n",
    "\"\"\"\n",
    "\n",
    "from random import randint\n",
    "\n",
    "class De:\n",
    "    \"\"\"\n",
    "    Implémente un Dé à 6 faces\n",
    "    \"\"\"\n",
    "    nb_des:int=0\n",
    "    \n",
    "    def __init__(self, nom:str, couleur:str='rouge'):\n",
    "        self.nom=nom\n",
    "        self.couleur=couleur\n",
    "        De.nb_des+=1\n",
    "    \n",
    "    def hasard(self)->int:\n",
    "        self.valeur=randint(1,6)\n",
    "        return self.valeur\n",
    "    \n",
    "    def __repr__(self)->str:\n",
    "        return 'Face du dé '+ self.nom + ' : '+str(self.valeur)\n",
    "\n",
    "    @classmethod\n",
    "    def nombre(cls)->str:\n",
    "        return f'Nombre de dés instanciés : {cls.nb_des}'\n",
    "\n",
    "\n",
    "if __name__=='__main__':\n",
    "    de1=De(\"D1\")\n",
    "    de2=De(\"D2\")\n",
    "    de3=De(\"D3\")\n",
    "    valeur1=de1.hasard()\n",
    "    valeur2=de2.hasard()\n",
    "    valeur3=de3.hasard()\n",
    "    print(de1)\n",
    "    print(de2)\n",
    "    print(de3)\n",
    "    print(De.nombre())\n"
   ]
  }
 ],
 "metadata": {
  "kernelspec": {
   "display_name": "Python 3",
   "language": "python",
   "name": "python3"
  },
  "language_info": {
   "codemirror_mode": {
    "name": "ipython",
    "version": 3
   },
   "file_extension": ".py",
   "mimetype": "text/x-python",
   "name": "python",
   "nbconvert_exporter": "python",
   "pygments_lexer": "ipython3",
   "version": "3.7.7"
  },
  "varInspector": {
   "cols": {
    "lenName": 16,
    "lenType": 16,
    "lenVar": 40
   },
   "kernels_config": {
    "python": {
     "delete_cmd_postfix": "",
     "delete_cmd_prefix": "del ",
     "library": "var_list.py",
     "varRefreshCmd": "print(var_dic_list())"
    },
    "r": {
     "delete_cmd_postfix": ") ",
     "delete_cmd_prefix": "rm(",
     "library": "var_list.r",
     "varRefreshCmd": "cat(var_dic_list()) "
    }
   },
   "types_to_exclude": [
    "module",
    "function",
    "builtin_function_or_method",
    "instance",
    "_Feature"
   ],
   "window_display": false
  }
 },
 "nbformat": 4,
 "nbformat_minor": 2
}
