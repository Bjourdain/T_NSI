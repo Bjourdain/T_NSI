{
 "cells": [
  {
   "cell_type": "markdown",
   "metadata": {},
   "source": [
    "# <center><font face=\"arial\" size=\"5\" color=#0101DF>NUMERIQUE ET SCIENCES INFORMATIQUES Terminale NSI</font></center>"
   ]
  },
  {
   "cell_type": "markdown",
   "metadata": {},
   "source": [
    "## <font color=#013ADF>Séquence N° 2 : Interface versus implémentation</font>"
   ]
  },
  {
   "cell_type": "markdown",
   "metadata": {},
   "source": [
    "<div class=\"alert alert-danger\" role=\"alert\">\n",
    "    \n",
    "Les objectifs de cette séquence sont :\n",
    "\n",
    "- Écrire la définition d'une classe ;\n",
    "- Accèder aux attributs et méthodes d'une classe ;\n",
    "- Spécifier une structure de données par son interface ;\n",
    "- Distinguer interface et implémentation ;\n",
    "- Écrire plusieurs implémentations d'une même structure de données.\n",
    "\n",
    "</div>"
   ]
  },
  {
   "cell_type": "markdown",
   "metadata": {},
   "source": [
    "### 1- Interfaces : définition, intérêt"
   ]
  },
  {
   "cell_type": "markdown",
   "metadata": {},
   "source": [
    "<div class=\"alert alert-success\">\n",
    "<img src=\"Images/warning.png\" alt=\"logo CR\" width=5% align=left>\n",
    "    \n",
    "Une interface est une description des possibilités fournies par une unité de code.\n",
    "\n",
    "Dans les langages orientés objet comme Python, les interfaces sont souvent définies par une collection de signatures de méthodes (nom de la méthode et arguments) qui doivent être fournies par une classe : Les méthodes y sont seulement déclarées.\n",
    "    \n",
    "Cela permet de définir un **ensemble de services visibles depuis l’extérieur** (l’API : Application Programming Interface).\n",
    "    \n",
    "Les interfaces sont donc utiles pour spécifier une sorte de cahier des charges, un contrat. En marquant qu'un type implémente une interface, nous donnons une garantie que l'implémentation fournit les méthodes spécifiées par l'interface, **sans nous préoccuper de la façon dont ces services sont réellement implémentés**.\n",
    "<br><br>\n",
    "- Quand vous utilisez range(0,4) en Python, vous savez que vous allez obtenir une liste de 4 éléments de 0 à 3, mais vous ne savez pas comment Python procède pour créer cette liste.\n",
    "- Rappelez vous l'utilisation de l'API OpenWeather : Avez-vous une idée de la manière dont est codée l'application ? Cela ne vous a pas empêché de l'utiliser !\n",
    "\n",
    "Le contrat permet donc de savoir très exactement ce que l'algorithme est capable de faire, mais il ne dit rien sur **comment** l'algorithme va s'y prendre pour résoudre le problème.\n",
    "\n",
    "Avec une interface définie :\n",
    "- On peut faire évoluer le code sans remettre en cause ce qui a été déjà développé ;\n",
    "- On peut développer indépendemment des classes (plusieurs développeurs) pour les agréger par la suite.\n",
    "<div>"
   ]
  },
  {
   "cell_type": "markdown",
   "metadata": {},
   "source": [
    "### 2- Interfaces et Python"
   ]
  },
  {
   "cell_type": "markdown",
   "metadata": {},
   "source": [
    "Le dire, c'est bien, mais le faire c'est mieux !\n",
    "\n",
    "En effet, on peut avoir défini une interface et ne pas respecter sa conformité lors de l'implémentation.\n",
    "\n",
    "Le module **interface** peut vous y aider. Nous allons utiliser ce module pour déclarer des interfaces et créer des classes implémentant ces interfaces. Les interfaces créées à l'aide de cette bibliothèque nous permettront de détecter les erreurs suivantes :\n",
    "- Méthodes manquantes ou non implémentées\n",
    "- Signature de méthode incompatible"
   ]
  },
  {
   "cell_type": "markdown",
   "metadata": {},
   "source": [
    "<div class=\"alert alert-success\">\n",
    "<img src=\"Images/warning.png\" alt=\"logo CR\" width=5% align=left>\n",
    "L'objectif n'est pas de maîtriser l'utilisation du module, mais de bien distinguer les notions d'interface et d'implémentation !\n",
    "<div>"
   ]
  },
  {
   "cell_type": "markdown",
   "metadata": {},
   "source": [
    "### 3- Interfaces et classes : exemple"
   ]
  },
  {
   "cell_type": "markdown",
   "metadata": {},
   "source": [
    "**Objectif** : Créer une classe 'Opérations' qui permette de faire la somme et le produit de 2 entiers.\n",
    "- Création de l'interface 'InterfaceOperation' ;\n",
    "- Implémentation de la classe avec 3 codes partiellement différents.\n"
   ]
  },
  {
   "cell_type": "raw",
   "metadata": {},
   "source": [
    "...............\n",
    ": Opérations  : \n",
    "...............\n",
    ":x : int      : \n",
    ":y : int      :\n",
    "...............\n",
    ":somme(): int : \n",
    ":produit():int:\n",
    "..............."
   ]
  },
  {
   "cell_type": "markdown",
   "metadata": {},
   "source": [
    "#### L'interface"
   ]
  },
  {
   "cell_type": "code",
   "execution_count": null,
   "metadata": {},
   "outputs": [],
   "source": [
    "# import de la classe Interface et de la fonction implements\n",
    "from interface import implements, Interface\n",
    "\n",
    "# Définition de l'interface InterfaceOperations\n",
    "class InterfaceOperations(Interface):\n",
    "    def __init__(self):\n",
    "        pass\n",
    "    \n",
    "    def somme(self, x: int, y: int) -> int:\n",
    "        pass\n",
    "\n",
    "    def produit(self, x: int, y: int) -> int:\n",
    "        pass"
   ]
  },
  {
   "cell_type": "code",
   "execution_count": null,
   "metadata": {},
   "outputs": [],
   "source": [
    "# Création de la classe Operations implémentant l'interface InterfaceOperations\n",
    "class OperationsV1(implements(InterfaceOperations)):\n",
    "    \n",
    "    def __init__(self):\n",
    "        pass\n",
    "    \n",
    "    def somme(self, x: int, y: int) -> int:\n",
    "        return x + y\n",
    "\n",
    "    def produit(self, x: int, y: int) -> int:\n",
    "        return x * y"
   ]
  },
  {
   "cell_type": "code",
   "execution_count": null,
   "metadata": {},
   "outputs": [],
   "source": [
    "# Création d'une instance de la classe OperationsV1\n",
    "op1=OperationsV1()"
   ]
  },
  {
   "cell_type": "code",
   "execution_count": null,
   "metadata": {},
   "outputs": [],
   "source": [
    "op1.somme(5,8)"
   ]
  },
  {
   "cell_type": "code",
   "execution_count": null,
   "metadata": {},
   "outputs": [],
   "source": [
    "op1.produit(5,8)"
   ]
  },
  {
   "cell_type": "code",
   "execution_count": null,
   "metadata": {},
   "outputs": [],
   "source": [
    "# Création de la classe OperationsV2 implémentant l'interface InterfaceOperations\n",
    "# Calcule le produit de deux entiers de manière itérative\n",
    "# en utilisant uniquement l'opérateur `+`\n",
    "class OperationsV2(implements(InterfaceOperations)):\n",
    "    \n",
    "    def __init__(self):\n",
    "        pass\n",
    "        \n",
    "    def somme(self, x: int, y: int) -> int:\n",
    "        return x + y\n",
    "\n",
    "    def produit(self, x: int, y: int) -> int:\n",
    "        resultat = 0\n",
    "        for i in range(x):\n",
    "            resultat += y\n",
    "        return resultat"
   ]
  },
  {
   "cell_type": "code",
   "execution_count": null,
   "metadata": {},
   "outputs": [],
   "source": [
    "# Création d'une instance de la classe OperationsV2\n",
    "op2=OperationsV2()"
   ]
  },
  {
   "cell_type": "code",
   "execution_count": null,
   "metadata": {},
   "outputs": [],
   "source": [
    "op2.somme(5,8)"
   ]
  },
  {
   "cell_type": "code",
   "execution_count": null,
   "metadata": {},
   "outputs": [],
   "source": [
    "op2.produit(5,8)"
   ]
  },
  {
   "cell_type": "code",
   "execution_count": null,
   "metadata": {},
   "outputs": [],
   "source": [
    "# Création de la classe OperationsV3 implémentant l'interface InterfaceOperations\n",
    "# Calcule le produit de manière récursive\n",
    "class OperationsV3(implements(InterfaceOperations)):\n",
    "    \n",
    "    def __init__(self):\n",
    "        pass\n",
    "        \n",
    "    def somme(self, x: int, y: int) -> int:\n",
    "        return x + y\n",
    "\n",
    "    def produit(self, x: int, y: int) -> int:\n",
    "        if x == 0 or y == 0:\n",
    "            return 0\n",
    "        if x == 1:\n",
    "            return y\n",
    "        return y + self.produit(x - 1, y)"
   ]
  },
  {
   "cell_type": "code",
   "execution_count": null,
   "metadata": {},
   "outputs": [],
   "source": [
    "# Création d'une instance de la classe OperationsV3\n",
    "op3=OperationsV3()"
   ]
  },
  {
   "cell_type": "code",
   "execution_count": null,
   "metadata": {},
   "outputs": [],
   "source": [
    "op3.somme(5,8)"
   ]
  },
  {
   "cell_type": "code",
   "execution_count": null,
   "metadata": {},
   "outputs": [],
   "source": [
    "op3.produit(5,8)"
   ]
  },
  {
   "cell_type": "markdown",
   "metadata": {},
   "source": [
    "<div class=\"alert alert-success\">\n",
    "On pourrait faire une quatrième version, celle de l'algorithme du paysan russe (voir livre page 245) pour faire le produit.\n",
    "<br><br>\n",
    "Vous devriez avoir compris la différence entre interface et implémentation.\n",
    "<div>\n"
   ]
  }
 ],
 "metadata": {
  "kernelspec": {
   "display_name": "Python 3",
   "language": "python",
   "name": "python3"
  },
  "language_info": {
   "codemirror_mode": {
    "name": "ipython",
    "version": 3
   },
   "file_extension": ".py",
   "mimetype": "text/x-python",
   "name": "python",
   "nbconvert_exporter": "python",
   "pygments_lexer": "ipython3",
   "version": "3.7.7"
  },
  "varInspector": {
   "cols": {
    "lenName": 16,
    "lenType": 16,
    "lenVar": 40
   },
   "kernels_config": {
    "python": {
     "delete_cmd_postfix": "",
     "delete_cmd_prefix": "del ",
     "library": "var_list.py",
     "varRefreshCmd": "print(var_dic_list())"
    },
    "r": {
     "delete_cmd_postfix": ") ",
     "delete_cmd_prefix": "rm(",
     "library": "var_list.r",
     "varRefreshCmd": "cat(var_dic_list()) "
    }
   },
   "types_to_exclude": [
    "module",
    "function",
    "builtin_function_or_method",
    "instance",
    "_Feature"
   ],
   "window_display": false
  }
 },
 "nbformat": 4,
 "nbformat_minor": 2
}
