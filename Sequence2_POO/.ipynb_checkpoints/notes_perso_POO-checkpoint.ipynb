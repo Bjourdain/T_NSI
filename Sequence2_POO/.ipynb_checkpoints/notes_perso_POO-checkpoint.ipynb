{
 "cells": [
  {
   "cell_type": "markdown",
   "metadata": {},
   "source": [
    "## PROGRAMMATION ORIENTÉE OBJET"
   ]
  },
  {
   "cell_type": "markdown",
   "metadata": {},
   "source": [
    "### Création d'une classe"
   ]
  },
  {
   "cell_type": "raw",
   "metadata": {},
   "source": [
    "...........\n",
    ":  Chien  : Nom de la classe\n",
    "...........\n",
    ":   Nom   : Attributs\n",
    ":   Age   :\n",
    ":   Race  :\n",
    "...........\n",
    ": aboie() : Méthode\n",
    "..........."
   ]
  },
  {
   "cell_type": "code",
   "execution_count": null,
   "metadata": {},
   "outputs": [],
   "source": [
    "class Chien :\n",
    "    \n",
    "    # Création du constructeur\n",
    "    def __init__(self):\n",
    "        pass"
   ]
  },
  {
   "cell_type": "markdown",
   "metadata": {},
   "source": [
    "### Instantiation de la classe : création d'un objet"
   ]
  },
  {
   "cell_type": "code",
   "execution_count": null,
   "metadata": {},
   "outputs": [],
   "source": [
    "chien1=Chien()"
   ]
  },
  {
   "cell_type": "code",
   "execution_count": null,
   "metadata": {},
   "outputs": [],
   "source": [
    "print(chien1)\n",
    "type(chien1)"
   ]
  },
  {
   "cell_type": "markdown",
   "metadata": {},
   "source": [
    "chien1 est bien un objet de type Chien !"
   ]
  },
  {
   "cell_type": "markdown",
   "metadata": {},
   "source": [
    "### Ajout d'attributs à la classe chien"
   ]
  },
  {
   "cell_type": "code",
   "execution_count": null,
   "metadata": {},
   "outputs": [],
   "source": [
    "class Chien :\n",
    "    \n",
    "    # Création du constructeur\n",
    "    def __init__(self, nom, age):\n",
    "        self.__nom = nom # attribut interne (__nom) à détailler\n",
    "        self.age = age   # attribut public"
   ]
  },
  {
   "cell_type": "markdown",
   "metadata": {},
   "source": [
    "*un attribut \"public\" peut être appelé non seulement par les objets et méthodes de sa classe, mais aussi depuis l'extérieur* **self.toto=toto**\n",
    "\n",
    "*un attribut \"privé\" (private) ne peut être utilisé qu'avec les objets et méthodes de la classe dont il est déclaré.* **self.__toto=toto**\n",
    "\n",
    "*l'attribut \"protégé\" (protected) peut être utilisé à l'extérieur de la classe mais uniquement par ses classes filles(héritage)* **self._toto=toto**\n",
    "\n",
    "**Tout est accessible en Python. Il n’y a pas de variables privées. Ce sont des conventions.**"
   ]
  },
  {
   "cell_type": "code",
   "execution_count": 1,
   "metadata": {},
   "outputs": [],
   "source": [
    "class Visibilite :\n",
    "    def __init__(self):\n",
    "        self.public='variable publique'\n",
    "        self._protected='variable protégée'\n",
    "        self.__private='variable privée' #name mangling : .__private -> .__Visibilite__private\n",
    "                                        #(to mangle : déformer)"
   ]
  },
  {
   "cell_type": "code",
   "execution_count": 2,
   "metadata": {},
   "outputs": [
    {
     "data": {
      "text/plain": [
       "'variable publique'"
      ]
     },
     "execution_count": 2,
     "metadata": {},
     "output_type": "execute_result"
    }
   ],
   "source": [
    "objet=Visibilite()\n",
    "objet.public"
   ]
  },
  {
   "cell_type": "code",
   "execution_count": 3,
   "metadata": {},
   "outputs": [
    {
     "data": {
      "text/plain": [
       "'variable protégée'"
      ]
     },
     "execution_count": 3,
     "metadata": {},
     "output_type": "execute_result"
    }
   ],
   "source": [
    "objet._protected"
   ]
  },
  {
   "cell_type": "code",
   "execution_count": 4,
   "metadata": {},
   "outputs": [
    {
     "ename": "AttributeError",
     "evalue": "'Visibilite' object has no attribute '__private'",
     "output_type": "error",
     "traceback": [
      "\u001b[0;31m---------------------------------------------------------------------------\u001b[0m",
      "\u001b[0;31mAttributeError\u001b[0m                            Traceback (most recent call last)",
      "\u001b[0;32m<ipython-input-4-ac3c8f919d3d>\u001b[0m in \u001b[0;36m<module>\u001b[0;34m\u001b[0m\n\u001b[0;32m----> 1\u001b[0;31m \u001b[0mobjet\u001b[0m\u001b[0;34m.\u001b[0m\u001b[0m__private\u001b[0m\u001b[0;34m\u001b[0m\u001b[0;34m\u001b[0m\u001b[0m\n\u001b[0m",
      "\u001b[0;31mAttributeError\u001b[0m: 'Visibilite' object has no attribute '__private'"
     ]
    }
   ],
   "source": [
    "objet.__private"
   ]
  },
  {
   "cell_type": "code",
   "execution_count": 5,
   "metadata": {},
   "outputs": [
    {
     "data": {
      "text/plain": [
       "'variable privée'"
      ]
     },
     "execution_count": 5,
     "metadata": {},
     "output_type": "execute_result"
    }
   ],
   "source": [
    "# Plus d'intimité !\n",
    "objet._Visibilite__private"
   ]
  },
  {
   "cell_type": "code",
   "execution_count": null,
   "metadata": {},
   "outputs": [],
   "source": [
    "chien1=Chien(\"Neils\",3)"
   ]
  },
  {
   "cell_type": "code",
   "execution_count": null,
   "metadata": {},
   "outputs": [],
   "source": [
    "print(chien1.age) # attribut public"
   ]
  },
  {
   "cell_type": "code",
   "execution_count": null,
   "metadata": {},
   "outputs": [],
   "source": [
    "print(chien1.nom) # attribut privé"
   ]
  },
  {
   "cell_type": "markdown",
   "metadata": {},
   "source": [
    "### Création d'une méthode de classe"
   ]
  },
  {
   "cell_type": "code",
   "execution_count": null,
   "metadata": {},
   "outputs": [],
   "source": [
    "class Chien :\n",
    "    \n",
    "    # Création du constructeur\n",
    "    def __init__(self, nom, age):\n",
    "        self.__nom = nom\n",
    "        self.__age = age\n",
    "        \n",
    "    def aboie(self, nombre):\n",
    "        \"\"\"\n",
    "        Entrée : nombre d'aboiements\n",
    "        Sortie : affiche nombre d'aboiements\n",
    "        \"\"\"\n",
    "        for nb in range(nombre):\n",
    "            print(\"Ouaf\", end =\" \")"
   ]
  },
  {
   "cell_type": "code",
   "execution_count": null,
   "metadata": {},
   "outputs": [],
   "source": [
    "chien1=Chien(\"Neils\",3)"
   ]
  },
  {
   "cell_type": "code",
   "execution_count": null,
   "metadata": {},
   "outputs": [],
   "source": [
    "chien1.aboie(5)"
   ]
  },
  {
   "cell_type": "code",
   "execution_count": null,
   "metadata": {},
   "outputs": [],
   "source": [
    "chien1.aboie(2)"
   ]
  },
  {
   "cell_type": "code",
   "execution_count": null,
   "metadata": {},
   "outputs": [],
   "source": [
    "help(Chien.aboie)"
   ]
  },
  {
   "cell_type": "markdown",
   "metadata": {},
   "source": [
    "### Création des accesseurs et mutateurs"
   ]
  },
  {
   "cell_type": "code",
   "execution_count": null,
   "metadata": {},
   "outputs": [],
   "source": [
    "class Chien :\n",
    "    \n",
    "    # Création du constructeur\n",
    "    def __init__(self, nom, age):\n",
    "        self.__nom = nom\n",
    "        self.__age = age\n",
    "        \n",
    "    def aboie(self, nombre):\n",
    "        for nb in range(nombre):\n",
    "            print(\"Ouaf\", end =\" \")\n",
    "    \n",
    "    # Création d'un accesseur (nom de l'animal)\n",
    "    def get_nom(self):\n",
    "        return self.__nom\n",
    "        "
   ]
  },
  {
   "cell_type": "code",
   "execution_count": null,
   "metadata": {},
   "outputs": [],
   "source": [
    "chien1=Chien(\"Neils\",3)\n",
    "chien1.aboie(2)"
   ]
  },
  {
   "cell_type": "code",
   "execution_count": null,
   "metadata": {},
   "outputs": [],
   "source": [
    "chien1.get_nom()"
   ]
  },
  {
   "cell_type": "code",
   "execution_count": null,
   "metadata": {},
   "outputs": [],
   "source": [
    "class Chien :\n",
    "    \n",
    "    # Création du constructeur\n",
    "    def __init__(self, nom, age):\n",
    "        self.__nom = nom\n",
    "        self.__age = age\n",
    "        \n",
    "    def aboie(self, nombre):\n",
    "        for nb in range(nombre):\n",
    "            print(\"Ouaf\", end =\" \")\n",
    "    \n",
    "    # Création d'un accesseur (nom de l'animal)\n",
    "    def get_nom(self):\n",
    "        return self.__nom\n",
    "    \n",
    "    # Création d'un mutateur (âge de l'animal)\n",
    "    def set_age(self,age):\n",
    "        self.__age=age\n",
    "        "
   ]
  },
  {
   "cell_type": "code",
   "execution_count": null,
   "metadata": {},
   "outputs": [],
   "source": [
    "chien1=Chien(\"Neils\",3)\n",
    "chien1.aboie(2)"
   ]
  },
  {
   "cell_type": "code",
   "execution_count": null,
   "metadata": {},
   "outputs": [],
   "source": [
    "chien1.set_age(4)"
   ]
  },
  {
   "cell_type": "code",
   "execution_count": null,
   "metadata": {},
   "outputs": [],
   "source": [
    "class Chien :\n",
    "    \n",
    "    # Création du constructeur\n",
    "    def __init__(self, nom, age):\n",
    "        self.__nom = nom\n",
    "        self.__age = age\n",
    "        \n",
    "    def aboie(self, nombre):\n",
    "        for nb in range(nombre):\n",
    "            print(\"Ouaf\", end =\" \")\n",
    "    \n",
    "    # Création d'un accesseur (nom de l'animal)\n",
    "    def get_nom(self):\n",
    "        return self.__nom\n",
    "    \n",
    "    # Création d'un accesseur (âge de l'animal)\n",
    "    def get_age(self):\n",
    "        return self.__age\n",
    "    \n",
    "    # Création d'un mutateur (âge de l'animal)\n",
    "    def set_age(self,age):\n",
    "        self.__age=age\n",
    "        "
   ]
  },
  {
   "cell_type": "code",
   "execution_count": null,
   "metadata": {},
   "outputs": [],
   "source": [
    "chien1=Chien(\"Neils\",3)\n",
    "chien1.set_age(4)"
   ]
  },
  {
   "cell_type": "code",
   "execution_count": null,
   "metadata": {},
   "outputs": [],
   "source": [
    "chien1.get_age()"
   ]
  },
  {
   "cell_type": "markdown",
   "metadata": {},
   "source": [
    "### Création d'une variable de classe"
   ]
  },
  {
   "cell_type": "code",
   "execution_count": null,
   "metadata": {},
   "outputs": [],
   "source": [
    "class Chien :\n",
    "    \"\"\"\n",
    "    Classe chien\n",
    "    \"\"\"\n",
    "    # Attribut de classe\n",
    "    nombre_chien=0\n",
    "    \n",
    "    # Création du constructeur\n",
    "    def __init__(self, nom, age, race=\"inconnue\"):\n",
    "        self.__nom = nom\n",
    "        self.__age = age\n",
    "        self.__race= race\n",
    "        Chien.nombre_chien+=1\n",
    "        \n",
    "    def aboie(self, nombre):\n",
    "        for nb in range(nombre):\n",
    "            print(\"Ouaf\", end =\" \")\n",
    "    \n",
    "    # Création d'un accesseur (nom de l'animal)\n",
    "    def get_nom(self):\n",
    "        return self.__nom\n",
    "    \n",
    "    # Création d'un accesseur (âge de l'animal)\n",
    "    def get_age(self):\n",
    "        return self.__age\n",
    "    \n",
    "    # Création d'un accesseur (race de l'animal)\n",
    "    def get_race(self):\n",
    "        return self.__race\n",
    "    \n",
    "    # Création d'un mutateur (âge de l'animal)\n",
    "    def set_age(self,age):\n",
    "        self.__age=age\n",
    "    \n",
    "    # Création d'un mutateur (race de l'animal)\n",
    "    def set_race(self,race):\n",
    "        self.__race=race"
   ]
  },
  {
   "cell_type": "code",
   "execution_count": null,
   "metadata": {},
   "outputs": [],
   "source": [
    "chien1=Chien(\"Neils\",3)\n",
    "chien2=Chien(\"Nino\",3)"
   ]
  },
  {
   "cell_type": "code",
   "execution_count": null,
   "metadata": {},
   "outputs": [],
   "source": [
    "chien1.get_race()"
   ]
  },
  {
   "cell_type": "code",
   "execution_count": null,
   "metadata": {},
   "outputs": [],
   "source": [
    "chien1.set_race(\"Border Collie\")\n",
    "chien2.set_race(\"Berger Australien\")"
   ]
  },
  {
   "cell_type": "code",
   "execution_count": null,
   "metadata": {},
   "outputs": [],
   "source": [
    "chien1.get_race()"
   ]
  },
  {
   "cell_type": "code",
   "execution_count": null,
   "metadata": {},
   "outputs": [],
   "source": [
    "dir(Chien)"
   ]
  },
  {
   "cell_type": "code",
   "execution_count": null,
   "metadata": {},
   "outputs": [],
   "source": [
    "Chien.nombre_chien"
   ]
  },
  {
   "cell_type": "code",
   "execution_count": null,
   "metadata": {},
   "outputs": [],
   "source": [
    "chien1.__dict__\n",
    "Chien.__doc__"
   ]
  },
  {
   "cell_type": "markdown",
   "metadata": {},
   "source": [
    "### Héritage"
   ]
  },
  {
   "cell_type": "markdown",
   "metadata": {},
   "source": [
    "L'héritage est le mécanisme qui permet de se servir d'une classe préexistante pour en créer une nouvelle qui possédera des fonctionnalités différentes ou supplémentaires."
   ]
  },
  {
   "cell_type": "markdown",
   "metadata": {},
   "source": [
    "![POO_heritage](Images/POO_heritage.png)"
   ]
  },
  {
   "cell_type": "code",
   "execution_count": 1,
   "metadata": {},
   "outputs": [
    {
     "name": "stdout",
     "output_type": "stream",
     "text": [
      "Mercedes verte\n"
     ]
    }
   ],
   "source": [
    "#!/usr/bin/env python3\n",
    "# -*- coding: utf-8 -*-\n",
    "\"\"\"\n",
    "Created on Fri Apr 17 13:21:20 2020\n",
    "\n",
    "@author: bruno\n",
    "\"\"\"\n",
    "\n",
    "class Vehicule(): \n",
    "    # Constructeur \n",
    "    def __init__(self, marque, couleur):\n",
    "        self.marque = marque\n",
    "        self.couleur = couleur\n",
    "        \n",
    "    # Pour récupérer la marque\n",
    "    def get_marque(self): \n",
    "        return self.marque \n",
    "    # Pour récupérer la couleur\n",
    "    def get_couleur(self): \n",
    "        return self.couleur\n",
    "    \n",
    "    def repeindre(self,couleur):\n",
    "        self.couleur=couleur\n",
    "    \n",
    "    def __str__(self):\n",
    "        return self.marque + ' ' +self.couleur\n",
    "\n",
    "\n",
    "\n",
    "# Sous classe - héritage : hérite de Véhicule\n",
    "class Voiture(Vehicule): \n",
    "    # Constructeur\n",
    "    def __init__(self, marque, couleur, nb_portes):\n",
    "        super().__init__(marque, couleur)\n",
    "        self.nb_portes=nb_portes\n",
    "       \n",
    "# code de test \n",
    "v1 = Vehicule(\"Renault\", \"bleue\")  # Un objet de vehicule\n",
    "v2 = Voiture(\"Citroen\",\"rouge\",5)\n",
    "v3 = Voiture(\"Mercedes\", \"blanche\",3) # Un objet de voiture\n",
    "v3.repeindre(\"verte\")\n",
    "print(v3)"
   ]
  },
  {
   "cell_type": "code",
   "execution_count": 2,
   "metadata": {},
   "outputs": [
    {
     "data": {
      "text/plain": [
       "True"
      ]
     },
     "execution_count": 2,
     "metadata": {},
     "output_type": "execute_result"
    }
   ],
   "source": [
    "issubclass(Voiture,Vehicule)"
   ]
  },
  {
   "cell_type": "code",
   "execution_count": 3,
   "metadata": {},
   "outputs": [
    {
     "data": {
      "text/plain": [
       "True"
      ]
     },
     "execution_count": 3,
     "metadata": {},
     "output_type": "execute_result"
    }
   ],
   "source": [
    "isinstance(v3,Voiture)"
   ]
  },
  {
   "cell_type": "code",
   "execution_count": 4,
   "metadata": {},
   "outputs": [
    {
     "data": {
      "text/plain": [
       "True"
      ]
     },
     "execution_count": 4,
     "metadata": {},
     "output_type": "execute_result"
    }
   ],
   "source": [
    "isinstance(v3,Vehicule)"
   ]
  },
  {
   "cell_type": "markdown",
   "metadata": {},
   "source": [
    "### Polymorphisme"
   ]
  },
  {
   "cell_type": "markdown",
   "metadata": {},
   "source": [
    "Le polymorphisme est le mécanisme qui permet à une classe fille de redéfinir une méthode dont elle a hérité de sa classe mère, tout en gardant la même signature.\n",
    "\n",
    "la signature d'une fonction en Python est son nom et la liste de ses paramètres."
   ]
  },
  {
   "cell_type": "code",
   "execution_count": 7,
   "metadata": {},
   "outputs": [
    {
     "name": "stdout",
     "output_type": "stream",
     "text": [
      "je suis la base\n",
      "filleA\n",
      "filleB\n",
      "je suis la base\n"
     ]
    }
   ],
   "source": [
    "class base():\n",
    "    def affiche(self):\n",
    "        print (\"je suis la base\")\n",
    " \n",
    "class filleA(base):\n",
    "    def affiche(self):\n",
    "        #base.affiche(self)\n",
    "        super().affiche()\n",
    "        print (\"filleA\")\n",
    " \n",
    "class filleB(base):\n",
    "    def affiche(self):\n",
    "        print (\"filleB\")\n",
    " \n",
    "class filleC(base):\n",
    "    pass\n",
    " \n",
    "a=filleA()\n",
    "a.affiche()\n",
    "\n",
    " \n",
    "b=filleB()\n",
    "b.affiche()\n",
    "\n",
    "\n",
    "c=filleC()\n",
    "c.affiche()\n"
   ]
  },
  {
   "cell_type": "markdown",
   "metadata": {},
   "source": [
    "Les 3 classes filles possèdent toutes 3 la fonction \"affiche\" récupérée par défaut. Toutefois la première ayant besoin d'avoir le comportement d'origine plus le sien propre est alors obligée d'appeler la fonction de la classe mère de façon explicite. Et la seconde, elle, n'ayant pas besoin de la fonction d'origine, se contente de redéfinir un autre comportement totalement différent. "
   ]
  },
  {
   "cell_type": "code",
   "execution_count": null,
   "metadata": {},
   "outputs": [],
   "source": [
    "!/usr/bin/env python3\n",
    "# -*- coding: utf-8 -*-\n",
    "\"\"\"\n",
    "Created on Fri Apr 17 13:21:20 2020\n",
    "\n",
    "@author: bruno\n",
    "\"\"\"\n",
    "\n",
    "class Vehicule(): \n",
    "    # Constructeur \n",
    "    def __init__(self, marque, couleur):\n",
    "        self.marque = marque\n",
    "        self.couleur = couleur\n",
    "        \n",
    "    # Pour récupérer la marque\n",
    "    def get_marque(self): \n",
    "        return self.marque \n",
    "    # Pour récupérer la couleur\n",
    "    def get_couleur(self): \n",
    "        return self.couleur\n",
    "    \n",
    "    def repeindre(self,couleur):\n",
    "        self.couleur=couleur\n",
    "    \n",
    "    def __str__(self):\n",
    "        return self.marque + ' ' +self.couleur\n",
    "\n",
    "\n",
    "\n",
    "# Sous classe - héritage : hérite de Véhicule\n",
    "class Voiture(Vehicule): \n",
    "    # Constructeur\n",
    "    def __init__(self, marque, couleur, nb_portes):\n",
    "        super().__init__(marque, couleur)\n",
    "        self.nb_portes=nb_portes\n",
    "    \n",
    "    # polymorhisme : redéfini la fonction __str__ pour Voiture\n",
    "    def __str__(self):\n",
    "        # return super().__str__() # utilisation de str de la classe Vehicule\n",
    "        # return Vehicule.__str__(self) # idem précédent avec syntaxe différente\n",
    "        # ci-dessous redéfinition complète de la fonction __str__()\n",
    "        return self.marque + ' ' +self.couleur+' '+str(self.nb_portes)+' portes'\n",
    "       \n",
    "# code de test \n",
    "v1 = Vehicule(\"Renault\", \"bleue\")  # Un objet de vehicule\n",
    "v2 = Voiture(\"Citroen\",\"rouge\",5)\n",
    "v3 = Voiture(\"Mercedes\", \"blanche\",3) # Un objet de voiture\n",
    "v3.repeindre(\"verte\")\n",
    "print(v3)\n",
    "print(v1)"
   ]
  },
  {
   "cell_type": "code",
   "execution_count": 31,
   "metadata": {},
   "outputs": [],
   "source": [
    "class Compteur:\n",
    "    def __init__(self,i=0):\n",
    "        self._i=i\n",
    "    def incremente(self):\n",
    "        self._i+=1\n",
    "    def get_valeur(self):\n",
    "        return self._i\n",
    "    \n",
    "class Decompteur(Compteur):\n",
    "    def __init__(self,i=0):\n",
    "        super().__init__(i)\n",
    "    def decremente(self):\n",
    "        self._i-=1"
   ]
  },
  {
   "cell_type": "code",
   "execution_count": 32,
   "metadata": {},
   "outputs": [
    {
     "data": {
      "text/plain": [
       "2"
      ]
     },
     "execution_count": 32,
     "metadata": {},
     "output_type": "execute_result"
    }
   ],
   "source": [
    "c1=Compteur()\n",
    "c1.incremente()\n",
    "c1.incremente()\n",
    "c1.get_valeur()"
   ]
  },
  {
   "cell_type": "code",
   "execution_count": 33,
   "metadata": {},
   "outputs": [],
   "source": [
    "c2=Decompteur(22)"
   ]
  },
  {
   "cell_type": "code",
   "execution_count": 34,
   "metadata": {},
   "outputs": [],
   "source": [
    "c2.incremente()"
   ]
  },
  {
   "cell_type": "code",
   "execution_count": 35,
   "metadata": {},
   "outputs": [
    {
     "data": {
      "text/plain": [
       "23"
      ]
     },
     "execution_count": 35,
     "metadata": {},
     "output_type": "execute_result"
    }
   ],
   "source": [
    "c2.get_valeur()"
   ]
  },
  {
   "cell_type": "code",
   "execution_count": 29,
   "metadata": {},
   "outputs": [],
   "source": [
    "c2.decremente()"
   ]
  },
  {
   "cell_type": "code",
   "execution_count": 30,
   "metadata": {},
   "outputs": [
    {
     "data": {
      "text/plain": [
       "True"
      ]
     },
     "execution_count": 30,
     "metadata": {},
     "output_type": "execute_result"
    }
   ],
   "source": [
    "isinstance(c2,Decompteur)"
   ]
  },
  {
   "cell_type": "code",
   "execution_count": null,
   "metadata": {},
   "outputs": [],
   "source": []
  },
  {
   "cell_type": "code",
   "execution_count": null,
   "metadata": {},
   "outputs": [],
   "source": []
  }
 ],
 "metadata": {
  "kernelspec": {
   "display_name": "Python 3",
   "language": "python",
   "name": "python3"
  },
  "language_info": {
   "codemirror_mode": {
    "name": "ipython",
    "version": 3
   },
   "file_extension": ".py",
   "mimetype": "text/x-python",
   "name": "python",
   "nbconvert_exporter": "python",
   "pygments_lexer": "ipython3",
   "version": "3.7.7"
  },
  "varInspector": {
   "cols": {
    "lenName": 16,
    "lenType": 16,
    "lenVar": 40
   },
   "kernels_config": {
    "python": {
     "delete_cmd_postfix": "",
     "delete_cmd_prefix": "del ",
     "library": "var_list.py",
     "varRefreshCmd": "print(var_dic_list())"
    },
    "r": {
     "delete_cmd_postfix": ") ",
     "delete_cmd_prefix": "rm(",
     "library": "var_list.r",
     "varRefreshCmd": "cat(var_dic_list()) "
    }
   },
   "types_to_exclude": [
    "module",
    "function",
    "builtin_function_or_method",
    "instance",
    "_Feature"
   ],
   "window_display": false
  }
 },
 "nbformat": 4,
 "nbformat_minor": 2
}
