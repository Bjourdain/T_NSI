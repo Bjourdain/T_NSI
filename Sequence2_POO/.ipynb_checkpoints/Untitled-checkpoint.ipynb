{
 "cells": [
  {
   "cell_type": "markdown",
   "metadata": {},
   "source": [
    "COURSE PÉDESTRE : CHRONOMÉTRAGE"
   ]
  },
  {
   "cell_type": "markdown",
   "metadata": {},
   "source": []
  },
  {
   "cell_type": "code",
   "execution_count": 1,
   "metadata": {},
   "outputs": [
    {
     "name": "stdout",
     "output_type": "stream",
     "text": [
      "Je chronomètre toto\n",
      "Temps d'effort :   4.0035 s\n",
      "Good guy\n"
     ]
    }
   ],
   "source": [
    "#!/usr/bin/env python3\n",
    "# -*- coding: utf-8 -*-\n",
    "\"\"\"\n",
    "Created on Sun May  3 10:36:01 2020\n",
    "\n",
    "@author: bruno\n",
    "\"\"\"\n",
    "\n",
    "import time\n",
    "\n",
    "class Chrono:\n",
    "\n",
    "    def __init__(self, nom):\n",
    "        self.nom=nom\n",
    "        self.debut=0\n",
    "        self.fin=0\n",
    "        self.duree=0\n",
    "    \n",
    "    def start(self):\n",
    "        self.debut=time.time()\n",
    "    \n",
    "    def stop(self):\n",
    "        self.fin=time.time()\n",
    "    \n",
    "    def raz(self):\n",
    "        self.debut=0\n",
    "        self.fin=0\n",
    "        self.duree=0\n",
    "    \n",
    "    def duration(self):\n",
    "        self.duree=self.fin-self.debut\n",
    "        return self.duree\n",
    "    \n",
    "    def __str__(self):\n",
    "        ch='Je chronomètre '+str(self.nom)\n",
    "        return ch\n",
    "\n",
    "if __name__=='__main__':\n",
    "    toto=Chrono('toto')\n",
    "    print(toto)\n",
    "    toto.start()\n",
    "    time.sleep(4) # 4 secondes\n",
    "    toto.stop()\n",
    "    temps=toto.duration()\n",
    "    print(f'Temps d\\'effort :  {temps: .4f} s')\n",
    "    print('Good guy')\n",
    "    #toto.raz()\n",
    "    "
   ]
  },
  {
   "cell_type": "markdown",
   "metadata": {},
   "source": []
  },
  {
   "cell_type": "code",
   "execution_count": null,
   "metadata": {},
   "outputs": [],
   "source": []
  },
  {
   "cell_type": "code",
   "execution_count": null,
   "metadata": {},
   "outputs": [],
   "source": []
  }
 ],
 "metadata": {
  "kernelspec": {
   "display_name": "Python 3",
   "language": "python",
   "name": "python3"
  },
  "language_info": {
   "codemirror_mode": {
    "name": "ipython",
    "version": 3
   },
   "file_extension": ".py",
   "mimetype": "text/x-python",
   "name": "python",
   "nbconvert_exporter": "python",
   "pygments_lexer": "ipython3",
   "version": "3.7.7"
  },
  "varInspector": {
   "cols": {
    "lenName": 16,
    "lenType": 16,
    "lenVar": 40
   },
   "kernels_config": {
    "python": {
     "delete_cmd_postfix": "",
     "delete_cmd_prefix": "del ",
     "library": "var_list.py",
     "varRefreshCmd": "print(var_dic_list())"
    },
    "r": {
     "delete_cmd_postfix": ") ",
     "delete_cmd_prefix": "rm(",
     "library": "var_list.r",
     "varRefreshCmd": "cat(var_dic_list()) "
    }
   },
   "types_to_exclude": [
    "module",
    "function",
    "builtin_function_or_method",
    "instance",
    "_Feature"
   ],
   "window_display": false
  }
 },
 "nbformat": 4,
 "nbformat_minor": 4
}
